{
 "cells": [
  {
   "cell_type": "markdown",
   "id": "38b1b4de",
   "metadata": {},
   "source": [
    "<center>&copy; | Ghassen <strong>MARRAKCHI</strong> - 2022</center>"
   ]
  },
  {
   "cell_type": "markdown",
   "id": "0a19518b",
   "metadata": {},
   "source": [
    "<img src=\"../__src/Institut_Galilee.png\" style=\"\">\n",
    "<hr>"
   ]
  },
  {
   "cell_type": "markdown",
   "id": "2cee20c2",
   "metadata": {},
   "source": [
    "<h1 style=\"text-align:center;color:#5a84ba\"><center>Méthodes Matricielles pour le Data Mining</center></h1>\n",
    "<h2><center><strong><font color='#3f4a4f'>Factorisation Matricielle Non-Négative pour\n",
    "le Text Mining\n",
    "</font></strong></center></h2>"
   ]
  },
  {
   "cell_type": "markdown",
   "id": "2cf09f47",
   "metadata": {},
   "source": [
    "<hr>\n",
    "<h3><center><strong><font color='#3f4a4f'>VII-Conclusion</font></strong></center></h3>\n",
    "<hr>"
   ]
  },
  {
   "cell_type": "markdown",
   "id": "81a5903f",
   "metadata": {},
   "source": [
    "<h4><strong><font color='#353b38'>Plan de Travail</font></strong></h4>"
   ]
  },
  {
   "cell_type": "markdown",
   "id": "fba86530",
   "metadata": {},
   "source": [
    "<ol style=\"list-style-type: upper-roman;\">\n",
    "    <li><a href=\"./I-Introduction.ipynb\">Introduction</a></li>\n",
    "    <li><a href=\"./II-Pré-traitemnt du dataset.ipynb\">Pré-traitemnt du dataset</a></li>\n",
    "    <li><a href=\"./III-Clustering simple.ipynb\">Clustering simple</a></li>\n",
    "    <li><a href=\"./IV-NMF.ipynb\">NMF</a></li>\n",
    "    <li><a href=\"./V-Orthogonal NMF.ipynb\">Orthogonal NMF</a></li>\n",
    "    <li><a href=\"./VI-Symmetric NMF.ipynb\">Symmetric NMF</a></li>\n",
    "    <li><strong>Conclusion</strong></li>\n",
    "</ol>"
   ]
  },
  {
   "cell_type": "markdown",
   "id": "eec0ccf9",
   "metadata": {},
   "source": [
    "<hr>\n",
    "<div style=\"display: flex;\">\n",
    "    <div style=\"margin: 10px;\"><strong><a href=\"./IVI-Symmetric NMF.ipynb\">précédent</a></strong></div>\n",
    "    <div style=\"margin: 10px;color: gray;\">suivant</div>\n",
    "</div>"
   ]
  }
 ],
 "metadata": {
  "kernelspec": {
   "display_name": "Python 3 (ipykernel)",
   "language": "python",
   "name": "python3"
  },
  "language_info": {
   "codemirror_mode": {
    "name": "ipython",
    "version": 3
   },
   "file_extension": ".py",
   "mimetype": "text/x-python",
   "name": "python",
   "nbconvert_exporter": "python",
   "pygments_lexer": "ipython3",
   "version": "3.8.13"
  }
 },
 "nbformat": 4,
 "nbformat_minor": 5
}
