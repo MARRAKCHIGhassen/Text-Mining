{
 "cells": [
  {
   "cell_type": "markdown",
   "id": "ffcf11fa",
   "metadata": {},
   "source": [
    "<center>&copy; | Ghassen <strong>MARRAKCHI</strong> - 2022</center>"
   ]
  },
  {
   "cell_type": "markdown",
   "id": "4771297a",
   "metadata": {},
   "source": [
    "<img src=\"../__src/Institut_Galilee.png\" style=\"\">\n",
    "<hr>"
   ]
  },
  {
   "cell_type": "markdown",
   "id": "dbf65115",
   "metadata": {},
   "source": [
    "<h1 style=\"text-align:center;color:#5a84ba\"><center>Méthodes Matricielles pour le Data Mining</center></h1>\n",
    "<h2><center><strong><font color='#3f4a4f'>Factorisation Matricielle Non-Négative pour\n",
    "le Text Mining\n",
    "</font></strong></center></h2>"
   ]
  },
  {
   "cell_type": "markdown",
   "id": "d090fdeb",
   "metadata": {},
   "source": [
    "<hr>\n",
    "<h3><center><strong><font color='#3f4a4f'>VI- Symmetric NMF</font></strong></center></h3>\n",
    "<hr>"
   ]
  },
  {
   "cell_type": "markdown",
   "id": "05be12b1",
   "metadata": {},
   "source": [
    "<h4><strong><font color='#353b38'>Plan de Travail</font></strong></h4>"
   ]
  },
  {
   "cell_type": "markdown",
   "id": "5d4c5760",
   "metadata": {},
   "source": [
    "<ol style=\"list-style-type: upper-roman;\">\n",
    "    <li><a href=\"./I-Introduction.ipynb\">Introduction</a></li>\n",
    "    <li><a href=\"./II-Pré-traitemnt du dataset.ipynb\">Pré-traitemnt du dataset</a></li>\n",
    "    <li><a href=\"./III-Clustering simple.ipynb\">Clustering simple</a></li>\n",
    "    <li><a href=\"./IV-NMF.ipynb\">NMF</a></li>\n",
    "    <li><a href=\"./V-Orthogonal NMF.ipynb\">Orthogonal NMF</a></li>\n",
    "    <li><strong>Symmetric NMF</strong></li>\n",
    "    <li><a href=\"./VII-Conclusion.ipynb\">Conclusion</a></li>\n",
    "</ol>"
   ]
  },
  {
   "cell_type": "markdown",
   "id": "768bf30a",
   "metadata": {},
   "source": [
    "<hr>\n",
    "<h4><strong><font color='#353b38'>Objectif</font></strong></h4>"
   ]
  },
  {
   "cell_type": "markdown",
   "id": "e8a28f94",
   "metadata": {},
   "source": [
    "- Comprendre le type des données traitées (images).\n",
    "- Explorer et analyser le dataset."
   ]
  },
  {
   "cell_type": "markdown",
   "id": "4a4bf809",
   "metadata": {},
   "source": [
    "<h4><strong><font color='#353b38'>Configuration générale du notebook</font></strong></h4>"
   ]
  },
  {
   "cell_type": "code",
   "execution_count": 1,
   "id": "c10814bc",
   "metadata": {},
   "outputs": [],
   "source": [
    "# Packages Importation\n",
    "import os\n",
    "import pandas as pd\n",
    "import numpy as np\n",
    "import math\n",
    "import matplotlib.pyplot as plt\n",
    "\n",
    "from sklearn.decomposition import NMF\n",
    "from sklearn.metrics import calinski_harabasz_score, davies_bouldin_score\n",
    "from sklearn.metrics.pairwise import rbf_kernel, polynomial_kernel\n",
    "from sklearn import metrics\n",
    "from scipy.special import rel_entr\n",
    "from itertools import combinations\n",
    "from math import ceil"
   ]
  },
  {
   "cell_type": "code",
   "execution_count": 2,
   "id": "30581647",
   "metadata": {},
   "outputs": [],
   "source": [
    "# Files Paths\n",
    "\n",
    "\n",
    "## PLOTS 2D\n",
    "VI_SYM_NMF_2D_H_SYMMETRIC_RBF_PNG = os.path.join('..', 'plots', 'VI-Sym-NMF', 'h_sym_2D.png')\n",
    "VI_SYM_NMF_2D_H_SYMMETRIC_RBF_JPG = os.path.join('..', 'plots', 'VI-Sym-NMF', 'h_sym_2D.jpg')\n",
    "VI_SYM_NMF_2D_H_SYMMETRIC_RBF_PDF = os.path.join('..', 'plots', 'VI-Sym-NMF', 'h_sym_2D.pdf')\n",
    "\n",
    "VI_SYM_NMF_2D_H_SYMMETRIC_POLY_PNG = os.path.join('..', 'plots', 'VI-Sym-NMF', 'h_sym_2D.png')\n",
    "VI_SYM_NMF_2D_H_SYMMETRIC_POLY_JPG = os.path.join('..', 'plots', 'VI-Sym-NMF', 'h_sym_2D.jpg')\n",
    "VI_SYM_NMF_2D_H_SYMMETRIC_POLY_PDF = os.path.join('..', 'plots', 'VI-Sym-NMF', 'h_sym_2D.pdf')\n",
    "\n",
    "\n",
    "## PLOTS 3D\n",
    "VI_SYM_NMF_3D_H_SYMMETRIC_RBF_PNG = os.path.join('..', 'plots', 'VI-Sym-NMF', 'h_sym_3D.png')\n",
    "VI_SYM_NMF_3D_H_SYMMETRIC_RBF_JPG = os.path.join('..', 'plots', 'VI-Sym-NMF', 'h_sym_3D.jpg')\n",
    "VI_SYM_NMF_3D_H_SYMMETRIC_RBF_PDF = os.path.join('..', 'plots', 'VI-Sym-NMF', 'h_sym_3D.pdf')\n",
    "\n",
    "VI_SYM_NMF_3D_H_SYMMETRIC_POLY_PNG = os.path.join('..', 'plots', 'VI-Sym-NMF', 'h_sym_3D.png')\n",
    "VI_SYM_NMF_3D_H_SYMMETRIC_POLY_JPG = os.path.join('..', 'plots', 'VI-Sym-NMF', 'h_sym_3D.jpg')\n",
    "VI_SYM_NMF_3D_H_SYMMETRIC_POLY_PDF = os.path.join('..', 'plots', 'VI-Sym-NMF', 'h_sym_3D.pdf')\n",
    "\n",
    "\n",
    "## CLUSTERING-SIMPLE\n",
    "CLUST_SIMP_REUT_TEST = os.path.join('..', 'dataset', 'III-Clustering_simple', 'reut_test.csv')\n",
    "CLUST_SIMP_LABELS_TEST  = os.path.join('..', 'dataset', 'III-Clustering_simple', 'labels_test.csv')\n",
    "\n",
    "\n",
    "## ORTH-NMF\n",
    "K_TEST_RBF = os.path.join('..', 'dataset', 'VI-Sym-NMF', 'k_test_rbf.csv')\n",
    "H_SYMMETRIC_RBF = os.path.join('..', 'dataset', 'VI-Sym-NMF', 'h_sym_rbf.csv')\n",
    "\n",
    "K_TEST_POLY = os.path.join('..', 'dataset', 'VI-Sym-NMF', 'k_test_poly.csv')\n",
    "H_SYMMETRIC_POLY = os.path.join('..', 'dataset', 'VI-Sym-NMF', 'h_sym_poly.csv')"
   ]
  },
  {
   "cell_type": "markdown",
   "id": "3e1319c3",
   "metadata": {},
   "source": [
    "<h4><strong><font color='#353b38'>Implémentation des fonctions</font></strong></h4>"
   ]
  },
  {
   "cell_type": "markdown",
   "id": "64bd6a62",
   "metadata": {},
   "source": [
    "<h5 id=\"print_numpy_array_infos\">print_numpy_array_infos</h5>"
   ]
  },
  {
   "cell_type": "code",
   "execution_count": 3,
   "id": "1c7662ea",
   "metadata": {},
   "outputs": [],
   "source": [
    "def print_numpy_array_infos(array, name) :\n",
    "    \"\"\" Prints numpy array informations.\n",
    "    \n",
    "    Parameters\n",
    "    ----------\n",
    "    array : numpy.ndarray\n",
    "        The array to print its informations\n",
    "    name : str\n",
    "        The name to be used for a formatted printing\n",
    "    \"\"\"\n",
    "    \n",
    "    print(\"ARRAY : \", name)\n",
    "    print(\"--- Type               : \", type(array))\n",
    "    print(\"--- Dimensions         : \", array.shape)\n",
    "    print(\"--- Nombre de lignes   : \", array.shape[0])\n",
    "    print(\"--- Nombre de colonnes : \", array.shape[1])\n",
    "    print(\"--- Nombre totale des données décrites dans le dataset : \", array.size)\n",
    "    print(\"--- Type des données : \", array.dtype)\n",
    "\n",
    "    print(\"\\n\")\n",
    "\n",
    "    print(\"AFFICHAGE (partie) : \\n\", array[:5,:])"
   ]
  },
  {
   "cell_type": "markdown",
   "id": "92a9704c",
   "metadata": {},
   "source": [
    "<h5 id=\"sym_nmf\">sym_nmf</h5>"
   ]
  },
  {
   "cell_type": "code",
   "execution_count": 4,
   "id": "66e1aa07",
   "metadata": {},
   "outputs": [],
   "source": [
    "def sym_nmf(data, nombre) :\n",
    "    \"\"\" Applies the Symmetric NMF rule.\n",
    "    \n",
    "    Parameters\n",
    "    ----------\n",
    "    data : numpy.ndarray\n",
    "        The array to be reduced\n",
    "    nombre : int\n",
    "        The new dimensions\n",
    "    \"\"\"\n",
    "    \n",
    "    model = NMF(n_components=4, init='random', max_iter=k_test.size, tol = 1e-5)\n",
    "    \n",
    "    # Créating Symmetry\n",
    "    M = [[np.exp( - np.linalg.norm(v-w) ) for v in k_test] for w in k_test]\n",
    "    \n",
    "    # Fitting\n",
    "    W = model.fit(M)\n",
    "    H = model.components_\n",
    "    h = np.argmax(H,0)\n",
    "    \n",
    "    return H"
   ]
  },
  {
   "cell_type": "markdown",
   "id": "4f6733a8",
   "metadata": {},
   "source": [
    "<h5 id=\"sym_nmf_2\">sym_nmf_2</h5>"
   ]
  },
  {
   "cell_type": "code",
   "execution_count": 5,
   "id": "dfe15d2d",
   "metadata": {},
   "outputs": [],
   "source": [
    "def sym_nmf_2(A = None,k = None,params = None) :\n",
    "    \"\"\" Applies the symmetric NMF rule.\n",
    "    \n",
    "    Parameters\n",
    "    ----------\n",
    "    data : numpy.ndarray\n",
    "        The array to be reduced\n",
    "    nombre : int\n",
    "        The new dimensions\n",
    "    \"\"\"\n",
    "    \n",
    "    # shape\n",
    "    n = A.shape[0]\n",
    "    \n",
    "    # initialisation\n",
    "    H = 2 * np.dot(np.sqrt(np.mean(np.mean(A)) / k), np.random.rand(n,k))\n",
    "    maxiter = 10000\n",
    "    tol = 0.0001\n",
    "    sigma = 0.1\n",
    "    beta = 0.1\n",
    "    computeobj = True\n",
    "    debug = 0\n",
    "    \n",
    "    zeros = np.zeros((n,k))\n",
    "    projnorm_idx = zeros != 0\n",
    "    R = np.zeros((1,k))\n",
    "    p = np.zeros((1,k))\n",
    "    left = np.dot(np.transpose(H), H)\n",
    "    obj = np.linalg.norm(A, ord='fro')**2 - 2*np.trace(np.dot(np.transpose(H), np.dot(A, H))) + np.trace(np.dot(left,left))\n",
    "    gradH = 4 * (np.dot(H, (np.dot(np.transpose(H), H))) - np.dot(A, H))\n",
    "    initgrad = np.linalg.norm(gradH, ord='fro')\n",
    "    \n",
    "    for iter in np.arange(1, maxiter+1).reshape(-1):\n",
    "        gradH = 4 * (np.dot(H, np.dot(np.transpose(H), H)) - np.dot(A, H))\n",
    "        projnorm_idx_prev = projnorm_idx\n",
    "        projnorm_idx = gradH <= np.logical_or(np.finfo(float).eps,H) > np.finfo(float).eps\n",
    "#         projnorm_idx = gradH <= np.finfo(float).eps and H[H > np.finfo(float).eps]\n",
    "        print(projnorm_idx)\n",
    "        projnorm = np.linalg.norm(gradH[projnorm_idx], ord='fro')\n",
    "\n",
    "        if projnorm < tol * initgrad:\n",
    "            break\n",
    "            \n",
    "        if iter % 100 == 0:\n",
    "            p = np.ones((1,k))\n",
    "        \n",
    "        step = np.zeros((n,k))\n",
    "        hessian = np.zeros((1,k))\n",
    "        temp = np.dot(H, np.transpose(H)) - A\n",
    "        \n",
    "        for i in np.arange(1, k+1).reshape(-1):\n",
    "            if not projnorm_idx_prev[projnorm_idx_prev[:,i] != projnorm_idx[:,i]][:1].size == 0 :\n",
    "                hessian[i] = hessian_blkdiag(temp, H, i, projnorm_idx)\n",
    "                R[i], p[i] = np.linalg.cholesky(hessian[i])\n",
    "                \n",
    "            if p(i) > 0:\n",
    "                step[:,i] = gradH[:,i]\n",
    "                \n",
    "            else:\n",
    "                step_temp = np.linalg.solve(np.transpose(R[i]), gradH[projnorm_idx[:,i], i])\n",
    "                step_temp = np.linalg.solve(R[i], step_temp)\n",
    "                step_part = np.zeros((n,1))\n",
    "                step_part[projnorm_idx[:,i]] = step_temp\n",
    "                step_part[step_part > (-np.finfo(float).eps) and H[:,i] <= np.finfo(float).eps] = 0\n",
    "                \n",
    "                a = np.multiply(gradH[:,i], step_part)\n",
    "                if(a.dim == 1) :\n",
    "                    a = np.sum(a)\n",
    "                else:\n",
    "                    a = np.sum(a, axis=1)\n",
    "                \n",
    "                \n",
    "                if a / np.linalg.norm(gradH[:,i]) / np.linalg.norm(step_part) <= np.finfo(float).eps:\n",
    "                    p[i] = 1\n",
    "                    step[:,i] = gradH[:,i]\n",
    "                else:\n",
    "                    step[:,i] = step_part\n",
    "                \n",
    "                \n",
    "        alpha_newton = 1\n",
    "        Hn = np.amax(H - alpha_newton * step, axis=0)\n",
    "        left = np.dot(np.transpose(Hn), Hn)\n",
    "        newobj = np.linalg.norm(A, ord='fro')**2 - 2*np.trace(np.dot(np.transpose(Hn), np.dot(A, Hn))) + np.trace(np.dot(left, left))\n",
    "        \n",
    "        a = np.multiply(gradH,(Hn - H))\n",
    "        if(a.dim == 1) :\n",
    "            a = np.sum(a)\n",
    "        else :\n",
    "            a = np.sum(a, axis=1)\n",
    "        \n",
    "        if(a.dim == 1) :\n",
    "            a = np.sum(a)\n",
    "        else :\n",
    "            a = np.sum(a, axis=1)\n",
    "        \n",
    "        if newobj - obj > sigma * a:\n",
    "            \n",
    "            while True:\n",
    "                alpha_newton = alpha_newton * beta\n",
    "                Hn = np.amax(H - alpha_newton * step, axis=0)\n",
    "                left = np.dot(np.transpose(Hn), Hn)\n",
    "                newobj = np.linalg.norm(A, ord='fro')**2 - 2*np.trace(np.dot(np.transpose(Hn), np.dot(A, Hn))) + np.trace(np.dot(left, left))\n",
    "                \n",
    "                a = np.multiply(gradH,(Hn - H))\n",
    "                if(a.dim == 1) :\n",
    "                    a = np.sum(a)\n",
    "                else :\n",
    "                    a = np.sum(a, axis=1)\n",
    "\n",
    "                if(a.dim == 1) :\n",
    "                    a = np.sum(a)\n",
    "                else :\n",
    "                    a = np.sum(a, axis=1)\n",
    "            \n",
    "                if newobj - obj <= sigma * a:\n",
    "                    H = Hn\n",
    "                    obj = newobj\n",
    "                    break\n",
    "\n",
    "        else:\n",
    "            H = Hn\n",
    "            obj = newobj\n",
    "    \n",
    "    if computeobj == False:\n",
    "        obj = - 1\n",
    "    \n",
    "    return H"
   ]
  },
  {
   "cell_type": "markdown",
   "id": "603f4659",
   "metadata": {},
   "source": [
    "<h5 id=\"calcul_purety_index\">calcul_purety_index</h5>"
   ]
  },
  {
   "cell_type": "code",
   "execution_count": 6,
   "id": "25468a69",
   "metadata": {},
   "outputs": [],
   "source": [
    "def calcul_purety_index(matrice) :\n",
    "    \"\"\" Find indexes for purity computation.\n",
    "    \n",
    "    Parameters\n",
    "    ----------\n",
    "    matrice : numpy.ndarray\n",
    "        The used data\n",
    "    \"\"\"\n",
    "    \n",
    "    print(\"------------------------------------------------------------- \")\n",
    "    print(\"---- Détermination des labels suivant la matrice de partition \")\n",
    "    print(\"------------------------------------------------------------- \")\n",
    "    \n",
    "    # Liste des labels\n",
    "    labels_list = []\n",
    "    \n",
    "    # Parcours des valeurs\n",
    "    for i in range(matrice.shape[1]) :\n",
    "        # Détermination de l'indice du max\n",
    "        valeur_max = matrice[:, i].max()\n",
    "        \n",
    "        # Il faut noter que nous ne prenions que la première valeur \n",
    "        indice_max = np.where(matrice[:, i] == valeur_max)[0][0]\n",
    "        \n",
    "        # Affectation de la valeur \n",
    "        labels_list.append(indice_max + 1)\n",
    "        \n",
    "        # Affichage des résultats \n",
    "        print(\"--------------------------------\")\n",
    "        print(\"---- colonne : \", i)\n",
    "        print(\"---- label associé : \", indice_max + 1)\n",
    "        \n",
    "    \n",
    "    print(\"--------------------------------\")\n",
    "    \n",
    "    purity_indexes = np.array(labels_list)\n",
    "    \n",
    "    return purity_indexes.reshape((purity_indexes.shape[0], 1))"
   ]
  },
  {
   "cell_type": "markdown",
   "id": "ff0d7eb9",
   "metadata": {},
   "source": [
    "<h5 id=\"calcul_purety\">calcul_purety</h5>"
   ]
  },
  {
   "cell_type": "code",
   "execution_count": 7,
   "id": "54fa3e05",
   "metadata": {},
   "outputs": [],
   "source": [
    "def calcul_purety(labels_pred, labels_true) :\n",
    "    \"\"\" Comoute purity value.\n",
    "    \n",
    "    Parameters\n",
    "    ----------\n",
    "    labels_pred : numpy.ndarray\n",
    "        Labels predicted\n",
    "    nombre : int\n",
    "        True labels\n",
    "    \"\"\"\n",
    "    \n",
    "    print(\"-------------------------------------- \")\n",
    "    print(\"---- Calcul de la pureté de la matrice \")\n",
    "    print(\"-------------------------------------- \")\n",
    "    \n",
    "    # Matrice de confusion\n",
    "    matrice_onfusion = metrics.cluster.contingency_matrix(labels_pred, labels_true)\n",
    "    \n",
    "    return np.sum(np.amax(matrice_onfusion, axis=0)) / np.sum(matrice_onfusion)"
   ]
  },
  {
   "cell_type": "markdown",
   "id": "250daa02",
   "metadata": {},
   "source": [
    "<h5 id=\"calcul_entropy\">calcul_entropy</h5>"
   ]
  },
  {
   "cell_type": "code",
   "execution_count": 8,
   "id": "a66d3fc1",
   "metadata": {},
   "outputs": [],
   "source": [
    "def calcul_entropy(labels_pred, labels_true):\n",
    "    \"\"\" Compute Entropy\n",
    "    \n",
    "    Parameters\n",
    "    ----------\n",
    "    labels_pred : numpy.ndarray\n",
    "        Labels predicted\n",
    "    nombre : int\n",
    "        True labels\n",
    "    \"\"\"\n",
    "    \n",
    "    print(\"----------------------------------------------------- \")\n",
    "    print(\"---- Calcul de l'entropie de la matrice de la matrice \")\n",
    "    print(\"----------------------------------------------------- \")\n",
    "    \n",
    "    # Receptionner les classes\n",
    "    classes = list(set(labels_true.reshape(-1).tolist()))\n",
    "    print(\"---- classes prises :\", classes)\n",
    "    \n",
    "    # Creation de DataFrame\n",
    "    labels_df = pd.DataFrame(np.concatenate((labels_pred, labels_true), axis=1), columns=['pred', 'true'])\n",
    "    \n",
    "    # p\n",
    "    probabilities_list = [\n",
    "        [round(labels_df[(labels_df['true'] == label) & (labels_df['pred'] == classe)].shape[0]/ \n",
    "               labels_df[labels_df['pred'] == classe].shape[0],3) \n",
    "         for label in classes] \n",
    "        for classe in classes]\n",
    "    \n",
    "    # e_i_j\n",
    "    classes_entropy = [[p_i_j*math.log(p_i_j) for p_i_j in p_i_j_list if p_i_j!=0] for p_i_j_list in probabilities_list]\n",
    "    \n",
    "    # e\n",
    "    # On note qu'on utilisera le caractère d'ordre d'une liste (La liste ne changera pas l'ordre d ses élements)\n",
    "    e = [-round(sum(e_i_j_list),3) for e_i_j_list in classes_entropy]\n",
    "    \n",
    "    # Moyenne\n",
    "    e_moyenne = round(sum(e)/len(e), 3)\n",
    "    print(\"---- entropie mpoyenne :\", e_moyenne)\n",
    "    \n",
    "    # Formattage en dictionnaire\n",
    "    e_dict = {classes[i] : e[i] for i in range(len(e))}\n",
    "    print(\"---- entropies des clusters :\", e_dict)\n",
    "\n",
    "    print(\"----------------------------------------------------- \")\n",
    "    \n",
    "    return e_moyenne, e_dict"
   ]
  },
  {
   "cell_type": "markdown",
   "id": "2dfe1ffc",
   "metadata": {},
   "source": [
    "<h5 id=\"calcul_DB\">calcul_DB</h5>"
   ]
  },
  {
   "cell_type": "code",
   "execution_count": 9,
   "id": "755fe820",
   "metadata": {},
   "outputs": [],
   "source": [
    "def calcul_DB(data, label) :\n",
    "    \"\"\" Compute DB value.\n",
    "    \n",
    "    Parameters\n",
    "    ----------\n",
    "    data : numpy.ndarray\n",
    "        The array to be reduced\n",
    "    nombre : int\n",
    "        The new dimensions\n",
    "    \"\"\"\n",
    "    \n",
    "    print(\"------------------------------------------------------- \")\n",
    "    print(\"---- Calcul de l'indice Davies&Bouldin-DB de la matrice \")\n",
    "    print(\"------------------------------------------------------- \")\n",
    "    \n",
    "    valeur = davies_bouldin_score(data, label)\n",
    "    \n",
    "    print(\"---- DB Score : \", valeur)\n",
    "    print(\"------------------------------------------------------- \")\n",
    "    \n",
    "    return valeur"
   ]
  },
  {
   "cell_type": "markdown",
   "id": "94a09aad",
   "metadata": {},
   "source": [
    "<h5 id=\"calcul_CH\">calcul_CH</h5>"
   ]
  },
  {
   "cell_type": "code",
   "execution_count": 10,
   "id": "c7863189",
   "metadata": {},
   "outputs": [],
   "source": [
    "def calcul_CH(data, label) :\n",
    "    \"\"\" Compute CH value.\n",
    "    \n",
    "    Parameters\n",
    "    ----------\n",
    "    data : numpy.ndarray\n",
    "        The array to be reduced\n",
    "    nombre : int\n",
    "        The new dimensions\n",
    "    \"\"\"\n",
    "    \n",
    "    print(\"--------------------------------------------------------- \")\n",
    "    print(\"---- Calcul de l'indice Calinsky&Harabsz-CH de la matrice \")\n",
    "    print(\"--------------------------------------------------------- \")\n",
    "    \n",
    "    valeur = calinski_harabasz_score(data, label)\n",
    "    \n",
    "    print(\"---- DB Score : \", valeur)\n",
    "    print(\"--------------------------------------------------------- \")\n",
    "    \n",
    "    return valeur"
   ]
  },
  {
   "cell_type": "markdown",
   "id": "cbd49945",
   "metadata": {},
   "source": [
    "<h5 id=\"calcul_KL\">calcul_KL</h5>"
   ]
  },
  {
   "cell_type": "code",
   "execution_count": 11,
   "id": "fd3ebf2a",
   "metadata": {},
   "outputs": [],
   "source": [
    "def calcul_KL(label_pred, label_true) :\n",
    "    \"\"\" compute KL value.\n",
    "    \n",
    "    Parameters\n",
    "    ----------\n",
    "    labels_pred : numpy.ndarray\n",
    "        Labels predicted\n",
    "    label_true : numpy.ndarray\n",
    "        True labels\n",
    "    \"\"\"\n",
    "    \n",
    "    print(\"------------------------------------------------------- \")\n",
    "    print(\"---- Calcul de l'indice Krzanowski&Lai-KL de la matrice \")\n",
    "    print(\"------------------------------------------------------- \")\n",
    "\n",
    "    return sum(rel_entr(label_pred, label_true))[0]"
   ]
  },
  {
   "cell_type": "markdown",
   "id": "51456927",
   "metadata": {},
   "source": [
    "<h5 id=\"delta\">delta</h5>"
   ]
  },
  {
   "cell_type": "code",
   "execution_count": 12,
   "id": "4d14922b",
   "metadata": {},
   "outputs": [],
   "source": [
    "def delta(ck, cl):\n",
    "    \"\"\" delta [CVI]\n",
    "    \n",
    "    Parameters\n",
    "    ----------\n",
    "    ck : int\n",
    "        cluster index\n",
    "    cl : int\n",
    "        cluster index\n",
    "    \"\"\"\n",
    "    \n",
    "    values = np.ones([len(ck), len(cl)])*10000\n",
    "    \n",
    "    for i in range(0, len(ck)):\n",
    "        for j in range(0, len(cl)):\n",
    "            values[i, j] = np.linalg.norm(ck[i]-cl[j])\n",
    "            \n",
    "    return np.min(values)"
   ]
  },
  {
   "cell_type": "markdown",
   "id": "6b0f2a4e",
   "metadata": {},
   "source": [
    "<h5 id=\"big_delta\">big_delta</h5>"
   ]
  },
  {
   "cell_type": "code",
   "execution_count": 13,
   "id": "4c057d5b",
   "metadata": {},
   "outputs": [],
   "source": [
    "def big_delta(ci):\n",
    "    \"\"\" Big delta [CVI]\n",
    "    \n",
    "    Parameters\n",
    "    ----------\n",
    "    ci : int\n",
    "        cluster index\n",
    "    \"\"\"\n",
    "    \n",
    "    values = np.zeros([len(ci), len(ci)])\n",
    "    \n",
    "    for i in range(0, len(ci)):\n",
    "        for j in range(0, len(ci)):\n",
    "            values[i, j] = np.linalg.norm(ci[i]-ci[j])\n",
    "            \n",
    "    return np.max(values)\n",
    "    "
   ]
  },
  {
   "cell_type": "markdown",
   "id": "8b2cdab7",
   "metadata": {},
   "source": [
    "<h5 id=\"dunn\">dunn</h5>"
   ]
  },
  {
   "cell_type": "code",
   "execution_count": 14,
   "id": "fc4b1f27",
   "metadata": {},
   "outputs": [],
   "source": [
    "def dunn(k_list):\n",
    "    \"\"\" Dunn index [CVI]\n",
    "    \n",
    "    Parameters\n",
    "    ----------\n",
    "    k_list : list of np.arrays\n",
    "        A list containing a numpy array for each cluster |c| = number of clusters\n",
    "        c[K] is np.array([N, p]) (N : number of samples in cluster K, p : sample dimension)\n",
    "    \"\"\"\n",
    "    \n",
    "    deltas = np.ones([len(k_list), len(k_list)])*1000000\n",
    "    big_deltas = np.zeros([len(k_list), 1])\n",
    "    l_range = list(range(0, len(k_list)))\n",
    "    \n",
    "    for k in l_range:\n",
    "        for l in (l_range[0:k]+l_range[k+1:]):\n",
    "            deltas[k, l] = delta(k_list[k], k_list[l])\n",
    "        \n",
    "        big_deltas[k] = big_delta(k_list[k])\n",
    "\n",
    "    di = np.min(deltas)/np.max(big_deltas)\n",
    "    \n",
    "    return di"
   ]
  },
  {
   "cell_type": "markdown",
   "id": "f2ec7e23",
   "metadata": {},
   "source": [
    "<h5 id=\"calcul_Dunn\">calcul_Dunn</h5>"
   ]
  },
  {
   "cell_type": "code",
   "execution_count": 15,
   "id": "9cb50f5d",
   "metadata": {},
   "outputs": [],
   "source": [
    "def calcul_Dunn(data, label) :\n",
    "    \"\"\" Compute the Dunn internal value\n",
    "    \n",
    "    Parameters\n",
    "    ----------\n",
    "    data : numpy.ndarray\n",
    "        The array to be reduced\n",
    "    label : numpy.array\n",
    "        1-D vector\n",
    "    \"\"\"\n",
    "    \n",
    "    print(\"------------------------------------------------------- \")\n",
    "    print(\"---- Calcul de l'indice Dunn de la matrice \")\n",
    "    print(\"------------------------------------------------------- \")\n",
    "    \n",
    "    # Receptionner les classes\n",
    "    classes = list(set(label.reshape(-1).tolist()))\n",
    "    print(\"---- classes prises :\", classes)\n",
    "    \n",
    "    \n",
    "    labels_df = pd.DataFrame(label, columns=['label'])\n",
    "    \n",
    "    prediction = pd.concat([pd.DataFrame(data), labels_df], axis = 1)\n",
    "    \n",
    "    # Clusters\n",
    "    clusters = []\n",
    "    for classe in classes :\n",
    "        filtered = prediction.loc[prediction['label'] == classe]\n",
    "        del filtered['label']\n",
    "        # print(filtered.head())\n",
    "        clusters.append(filtered.to_numpy())\n",
    "    \n",
    "    return dunn(clusters)"
   ]
  },
  {
   "cell_type": "markdown",
   "id": "50f99252",
   "metadata": {},
   "source": [
    "<h5 id=\"plot_clusters3D\">plot_clusters3D</h5>"
   ]
  },
  {
   "cell_type": "code",
   "execution_count": 16,
   "id": "f42cb740",
   "metadata": {},
   "outputs": [],
   "source": [
    "def plot_clusters3D(data, label, path) :\n",
    "    \"\"\" plot the clusters\n",
    "    \n",
    "    Parameters\n",
    "    ----------\n",
    "    data : numpy.ndarray\n",
    "        The array to be reduced\n",
    "    label : numpy.array\n",
    "        1-D vector\n",
    "    path : os.path\n",
    "        path of the figure to be saved in\n",
    "    \"\"\"\n",
    "    \n",
    "    # Affichage\n",
    "    print(\"------------------------------------------------------- \")\n",
    "    print(\"---- plot clusters \")\n",
    "    print(\"------------------------------------------------------- \")\n",
    "    \n",
    "    # set up plot\n",
    "    fig = plt.figure()\n",
    "    ax = fig.add_subplot(projection='3d')\n",
    "    fig.suptitle('Clustering Simple visualized in 3D', fontsize=16)\n",
    "    fig.tight_layout()\n",
    "    \n",
    "    # Plot\n",
    "    ax.scatter3D(data[:,0], data[:,1], data[:,2], c=label, cmap='cool')\n",
    "    plt.title(\"Clustering simple (Avec MAX)\")\n",
    "    \n",
    "    #show the plot\n",
    "    plt.show()\n",
    "\n",
    "    # Enregistrement des figures\n",
    "    fig.savefig(path)"
   ]
  },
  {
   "cell_type": "markdown",
   "id": "475b3696",
   "metadata": {},
   "source": [
    "<h5 id=\"plot_clusters2D\">plot_clusters2D</h5>"
   ]
  },
  {
   "cell_type": "code",
   "execution_count": 17,
   "id": "b1015831",
   "metadata": {},
   "outputs": [],
   "source": [
    "def plot_clusters2D(data, label, path) :\n",
    "    \"\"\" plot the clusters\n",
    "    \n",
    "    Parameters\n",
    "    ----------\n",
    "    data : numpy.ndarray\n",
    "        The array to be reduced\n",
    "    label : numpy.array\n",
    "        1-D vector\n",
    "    path : os.path\n",
    "        path of the figure to be saved in\n",
    "    \"\"\"\n",
    "    \n",
    "    # Affichage\n",
    "    print(\"------------------------------------------------------- \")\n",
    "    print(\"---- plot clusters \")\n",
    "    print(\"------------------------------------------------------- \")\n",
    "    \n",
    "    # Combinaison\n",
    "    attributes = [i for i in range(data.shape[1])]\n",
    "    combis = list(combinations(attributes, 2)) \n",
    "    number_combi = len(combis)\n",
    "    number_ligne = ceil(number_combi/2)\n",
    "    number_colon = 2\n",
    "    \n",
    "    # set up plot\n",
    "    fig, axs = plt.subplots(number_ligne, number_colon, sharex=False, sharey=False)\n",
    "    fig.suptitle('Clustering Simple visualized in 2D', fontsize=16)\n",
    "    fig.tight_layout()\n",
    "    \n",
    "    # Subplots\n",
    "    for i in range(number_combi) :\n",
    "        colonne = i%2\n",
    "        ligne = i//2\n",
    "        axs[ligne, colonne].scatter(data[:,combis[i][0]], data[:,combis[i][1]], c=label, cmap='Dark2')    \n",
    "        axs[ligne, colonne].set_title(\"Terms ({0}, {1})\".format(combis[i][0], combis[i][1]))\n",
    "    \n",
    "    #show the plot\n",
    "    plt.show()\n",
    "    \n",
    "    # Enregistrement des figures\n",
    "    fig.savefig(path)"
   ]
  },
  {
   "cell_type": "markdown",
   "id": "9d6e03cb",
   "metadata": {},
   "source": [
    "<h4><strong><font color='#353b38'>Récupération des données</font></strong></h4>"
   ]
  },
  {
   "cell_type": "markdown",
   "id": "2ec7aceb",
   "metadata": {},
   "source": [
    "<h5>reut_test</h5>"
   ]
  },
  {
   "cell_type": "code",
   "execution_count": 18,
   "id": "0dcdfb2b",
   "metadata": {
    "scrolled": true
   },
   "outputs": [
    {
     "data": {
      "text/html": [
       "<div>\n",
       "<style scoped>\n",
       "    .dataframe tbody tr th:only-of-type {\n",
       "        vertical-align: middle;\n",
       "    }\n",
       "\n",
       "    .dataframe tbody tr th {\n",
       "        vertical-align: top;\n",
       "    }\n",
       "\n",
       "    .dataframe thead th {\n",
       "        text-align: right;\n",
       "    }\n",
       "</style>\n",
       "<table border=\"1\" class=\"dataframe\">\n",
       "  <thead>\n",
       "    <tr style=\"text-align: right;\">\n",
       "      <th></th>\n",
       "      <th>0</th>\n",
       "      <th>1</th>\n",
       "      <th>2</th>\n",
       "      <th>3</th>\n",
       "      <th>4</th>\n",
       "      <th>5</th>\n",
       "      <th>6</th>\n",
       "      <th>7</th>\n",
       "      <th>8</th>\n",
       "      <th>9</th>\n",
       "      <th>...</th>\n",
       "      <th>18923</th>\n",
       "      <th>18924</th>\n",
       "      <th>18925</th>\n",
       "      <th>18926</th>\n",
       "      <th>18927</th>\n",
       "      <th>18928</th>\n",
       "      <th>18929</th>\n",
       "      <th>18930</th>\n",
       "      <th>18931</th>\n",
       "      <th>18932</th>\n",
       "    </tr>\n",
       "  </thead>\n",
       "  <tbody>\n",
       "    <tr>\n",
       "      <th>0</th>\n",
       "      <td>0.025356</td>\n",
       "      <td>0.257628</td>\n",
       "      <td>0.093497</td>\n",
       "      <td>0.102688</td>\n",
       "      <td>0.365650</td>\n",
       "      <td>0.106026</td>\n",
       "      <td>0.0</td>\n",
       "      <td>0.115535</td>\n",
       "      <td>0.000</td>\n",
       "      <td>0.125644</td>\n",
       "      <td>...</td>\n",
       "      <td>0.0</td>\n",
       "      <td>0.0</td>\n",
       "      <td>0.0</td>\n",
       "      <td>0.0</td>\n",
       "      <td>0.0</td>\n",
       "      <td>0.0</td>\n",
       "      <td>0.0</td>\n",
       "      <td>0.0</td>\n",
       "      <td>0.0</td>\n",
       "      <td>0.0</td>\n",
       "    </tr>\n",
       "    <tr>\n",
       "      <th>1</th>\n",
       "      <td>0.038247</td>\n",
       "      <td>0.129537</td>\n",
       "      <td>0.000000</td>\n",
       "      <td>0.000000</td>\n",
       "      <td>0.000000</td>\n",
       "      <td>0.000000</td>\n",
       "      <td>0.0</td>\n",
       "      <td>0.000000</td>\n",
       "      <td>0.088</td>\n",
       "      <td>0.000000</td>\n",
       "      <td>...</td>\n",
       "      <td>0.0</td>\n",
       "      <td>0.0</td>\n",
       "      <td>0.0</td>\n",
       "      <td>0.0</td>\n",
       "      <td>0.0</td>\n",
       "      <td>0.0</td>\n",
       "      <td>0.0</td>\n",
       "      <td>0.0</td>\n",
       "      <td>0.0</td>\n",
       "      <td>0.0</td>\n",
       "    </tr>\n",
       "    <tr>\n",
       "      <th>2</th>\n",
       "      <td>0.058681</td>\n",
       "      <td>0.000000</td>\n",
       "      <td>0.000000</td>\n",
       "      <td>0.000000</td>\n",
       "      <td>0.000000</td>\n",
       "      <td>0.000000</td>\n",
       "      <td>0.0</td>\n",
       "      <td>0.000000</td>\n",
       "      <td>0.000</td>\n",
       "      <td>0.000000</td>\n",
       "      <td>...</td>\n",
       "      <td>0.0</td>\n",
       "      <td>0.0</td>\n",
       "      <td>0.0</td>\n",
       "      <td>0.0</td>\n",
       "      <td>0.0</td>\n",
       "      <td>0.0</td>\n",
       "      <td>0.0</td>\n",
       "      <td>0.0</td>\n",
       "      <td>0.0</td>\n",
       "      <td>0.0</td>\n",
       "    </tr>\n",
       "    <tr>\n",
       "      <th>3</th>\n",
       "      <td>0.016681</td>\n",
       "      <td>0.084746</td>\n",
       "      <td>0.092267</td>\n",
       "      <td>0.000000</td>\n",
       "      <td>0.000000</td>\n",
       "      <td>0.000000</td>\n",
       "      <td>0.0</td>\n",
       "      <td>0.000000</td>\n",
       "      <td>0.000</td>\n",
       "      <td>0.041330</td>\n",
       "      <td>...</td>\n",
       "      <td>0.0</td>\n",
       "      <td>0.0</td>\n",
       "      <td>0.0</td>\n",
       "      <td>0.0</td>\n",
       "      <td>0.0</td>\n",
       "      <td>0.0</td>\n",
       "      <td>0.0</td>\n",
       "      <td>0.0</td>\n",
       "      <td>0.0</td>\n",
       "      <td>0.0</td>\n",
       "    </tr>\n",
       "    <tr>\n",
       "      <th>4</th>\n",
       "      <td>0.029868</td>\n",
       "      <td>0.000000</td>\n",
       "      <td>0.000000</td>\n",
       "      <td>0.181445</td>\n",
       "      <td>0.369192</td>\n",
       "      <td>0.124895</td>\n",
       "      <td>0.0</td>\n",
       "      <td>0.136096</td>\n",
       "      <td>0.000</td>\n",
       "      <td>0.000000</td>\n",
       "      <td>...</td>\n",
       "      <td>0.0</td>\n",
       "      <td>0.0</td>\n",
       "      <td>0.0</td>\n",
       "      <td>0.0</td>\n",
       "      <td>0.0</td>\n",
       "      <td>0.0</td>\n",
       "      <td>0.0</td>\n",
       "      <td>0.0</td>\n",
       "      <td>0.0</td>\n",
       "      <td>0.0</td>\n",
       "    </tr>\n",
       "  </tbody>\n",
       "</table>\n",
       "<p>5 rows × 18933 columns</p>\n",
       "</div>"
      ],
      "text/plain": [
       "          0         1         2         3         4         5    6         7  \\\n",
       "0  0.025356  0.257628  0.093497  0.102688  0.365650  0.106026  0.0  0.115535   \n",
       "1  0.038247  0.129537  0.000000  0.000000  0.000000  0.000000  0.0  0.000000   \n",
       "2  0.058681  0.000000  0.000000  0.000000  0.000000  0.000000  0.0  0.000000   \n",
       "3  0.016681  0.084746  0.092267  0.000000  0.000000  0.000000  0.0  0.000000   \n",
       "4  0.029868  0.000000  0.000000  0.181445  0.369192  0.124895  0.0  0.136096   \n",
       "\n",
       "       8         9  ...  18923  18924  18925  18926  18927  18928  18929  \\\n",
       "0  0.000  0.125644  ...    0.0    0.0    0.0    0.0    0.0    0.0    0.0   \n",
       "1  0.088  0.000000  ...    0.0    0.0    0.0    0.0    0.0    0.0    0.0   \n",
       "2  0.000  0.000000  ...    0.0    0.0    0.0    0.0    0.0    0.0    0.0   \n",
       "3  0.000  0.041330  ...    0.0    0.0    0.0    0.0    0.0    0.0    0.0   \n",
       "4  0.000  0.000000  ...    0.0    0.0    0.0    0.0    0.0    0.0    0.0   \n",
       "\n",
       "   18930  18931  18932  \n",
       "0    0.0    0.0    0.0  \n",
       "1    0.0    0.0    0.0  \n",
       "2    0.0    0.0    0.0  \n",
       "3    0.0    0.0    0.0  \n",
       "4    0.0    0.0    0.0  \n",
       "\n",
       "[5 rows x 18933 columns]"
      ]
     },
     "execution_count": 18,
     "metadata": {},
     "output_type": "execute_result"
    }
   ],
   "source": [
    "pandas_loaded_data = pd.read_csv(CLUST_SIMP_REUT_TEST)\n",
    "pandas_loaded_data.head()"
   ]
  },
  {
   "cell_type": "code",
   "execution_count": 19,
   "id": "0f49d823",
   "metadata": {},
   "outputs": [
    {
     "name": "stdout",
     "output_type": "stream",
     "text": [
      "ARRAY :  reut_test\n",
      "--- Type               :  <class 'numpy.ndarray'>\n",
      "--- Dimensions         :  (100, 18933)\n",
      "--- Nombre de lignes   :  100\n",
      "--- Nombre de colonnes :  18933\n",
      "--- Nombre totale des données décrites dans le dataset :  1893300\n",
      "--- Type des données :  float64\n",
      "\n",
      "\n",
      "AFFICHAGE (partie) : \n",
      " [[0.02535579 0.2576279  0.09349706 ... 0.         0.         0.        ]\n",
      " [0.03824711 0.12953679 0.         ... 0.         0.         0.        ]\n",
      " [0.05868105 0.         0.         ... 0.         0.         0.        ]\n",
      " [0.01668142 0.08474589 0.09226669 ... 0.         0.         0.        ]\n",
      " [0.02986835 0.         0.         ... 0.         0.         0.        ]]\n"
     ]
    }
   ],
   "source": [
    "reut_test = pandas_loaded_data.to_numpy()\n",
    "print_numpy_array_infos(reut_test, \"reut_test\")"
   ]
  },
  {
   "cell_type": "markdown",
   "id": "96dc39f3",
   "metadata": {},
   "source": [
    "<strong>| Définition de la fonction <a href=\"#print_numpy_array_infos\"> print_numpy_array_infos</a> |</strong>"
   ]
  },
  {
   "cell_type": "markdown",
   "id": "c45e4b51",
   "metadata": {},
   "source": [
    "<h5>labels_test</h5>"
   ]
  },
  {
   "cell_type": "code",
   "execution_count": 20,
   "id": "de08956c",
   "metadata": {},
   "outputs": [
    {
     "data": {
      "text/html": [
       "<div>\n",
       "<style scoped>\n",
       "    .dataframe tbody tr th:only-of-type {\n",
       "        vertical-align: middle;\n",
       "    }\n",
       "\n",
       "    .dataframe tbody tr th {\n",
       "        vertical-align: top;\n",
       "    }\n",
       "\n",
       "    .dataframe thead th {\n",
       "        text-align: right;\n",
       "    }\n",
       "</style>\n",
       "<table border=\"1\" class=\"dataframe\">\n",
       "  <thead>\n",
       "    <tr style=\"text-align: right;\">\n",
       "      <th></th>\n",
       "      <th>0</th>\n",
       "    </tr>\n",
       "  </thead>\n",
       "  <tbody>\n",
       "    <tr>\n",
       "      <th>0</th>\n",
       "      <td>1.0</td>\n",
       "    </tr>\n",
       "    <tr>\n",
       "      <th>1</th>\n",
       "      <td>1.0</td>\n",
       "    </tr>\n",
       "    <tr>\n",
       "      <th>2</th>\n",
       "      <td>1.0</td>\n",
       "    </tr>\n",
       "    <tr>\n",
       "      <th>3</th>\n",
       "      <td>1.0</td>\n",
       "    </tr>\n",
       "    <tr>\n",
       "      <th>4</th>\n",
       "      <td>1.0</td>\n",
       "    </tr>\n",
       "  </tbody>\n",
       "</table>\n",
       "</div>"
      ],
      "text/plain": [
       "     0\n",
       "0  1.0\n",
       "1  1.0\n",
       "2  1.0\n",
       "3  1.0\n",
       "4  1.0"
      ]
     },
     "execution_count": 20,
     "metadata": {},
     "output_type": "execute_result"
    }
   ],
   "source": [
    "pandas_loaded_data = pd.read_csv(CLUST_SIMP_LABELS_TEST)\n",
    "pandas_loaded_data.head()"
   ]
  },
  {
   "cell_type": "code",
   "execution_count": 21,
   "id": "3f99d9b0",
   "metadata": {},
   "outputs": [
    {
     "name": "stdout",
     "output_type": "stream",
     "text": [
      "ARRAY :  labels_test\n",
      "--- Type               :  <class 'numpy.ndarray'>\n",
      "--- Dimensions         :  (100, 1)\n",
      "--- Nombre de lignes   :  100\n",
      "--- Nombre de colonnes :  1\n",
      "--- Nombre totale des données décrites dans le dataset :  100\n",
      "--- Type des données :  float64\n",
      "\n",
      "\n",
      "AFFICHAGE (partie) : \n",
      " [[1.]\n",
      " [1.]\n",
      " [1.]\n",
      " [1.]\n",
      " [1.]]\n"
     ]
    }
   ],
   "source": [
    "labels_test = pandas_loaded_data.to_numpy()\n",
    "print_numpy_array_infos(labels_test, \"labels_test\")"
   ]
  },
  {
   "cell_type": "markdown",
   "id": "59b06801",
   "metadata": {},
   "source": [
    "<strong>| Définition de la fonction <a href=\"#print_numpy_array_infos\"> print_numpy_array_infos</a> |</strong>"
   ]
  },
  {
   "cell_type": "markdown",
   "id": "6ac06579",
   "metadata": {},
   "source": [
    "<strong><font color='#5a84ba'>Question 4/</font></strong>"
   ]
  },
  {
   "cell_type": "markdown",
   "id": "91d76ffa",
   "metadata": {},
   "source": [
    "<h4><strong><font color='#353b38'>Application de la symmetric NMF</font></strong></h4>"
   ]
  },
  {
   "cell_type": "markdown",
   "id": "cc80944f",
   "metadata": {},
   "source": [
    "<strong><font color='#5a84ba'>Question 4.a/</font></strong>"
   ]
  },
  {
   "cell_type": "markdown",
   "id": "6d5b9af3",
   "metadata": {},
   "source": [
    "Nous allons calculer la matrice de Gram **K_test**"
   ]
  },
  {
   "cell_type": "markdown",
   "id": "6c9a8e78",
   "metadata": {},
   "source": [
    "<h5>K_test</h5>"
   ]
  },
  {
   "cell_type": "code",
   "execution_count": 22,
   "id": "6d655b68",
   "metadata": {},
   "outputs": [],
   "source": [
    "k_test = rbf_kernel(reut_test, reut_test, gamma=1.0)"
   ]
  },
  {
   "cell_type": "code",
   "execution_count": 23,
   "id": "e730aba7",
   "metadata": {
    "scrolled": true
   },
   "outputs": [
    {
     "name": "stdout",
     "output_type": "stream",
     "text": [
      "ARRAY :  k_test\n",
      "--- Type               :  <class 'numpy.ndarray'>\n",
      "--- Dimensions         :  (100, 100)\n",
      "--- Nombre de lignes   :  100\n",
      "--- Nombre de colonnes :  100\n",
      "--- Nombre totale des données décrites dans le dataset :  10000\n",
      "--- Type des données :  float64\n",
      "\n",
      "\n",
      "AFFICHAGE (partie) : \n",
      " [[1.         0.14495733 0.13573861 0.14546072 0.20449516 0.24594852\n",
      "  0.17777924 0.22325256 0.14345924 0.21787211 0.20496444 0.25739405\n",
      "  0.21214112 0.22589331 0.13560485 0.13583396 0.17686072 0.2523521\n",
      "  0.24152693 0.21975282 0.1596074  0.26001137 0.13583039 0.20267274\n",
      "  0.28405193 0.13652244 0.13856178 0.13545808 0.1371932  0.13930663\n",
      "  0.13541611 0.14011385 0.13561809 0.14754325 0.13880936 0.13561613\n",
      "  0.13555205 0.13548133 0.13792576 0.13774584 0.1366118  0.13950871\n",
      "  0.13897287 0.13548132 0.13948959 0.13560346 0.1461117  0.13718454\n",
      "  0.13610545 0.13545094 0.13547428 0.13540409 0.13771371 0.1380723\n",
      "  0.1355192  0.13660713 0.13538426 0.14253126 0.13629202 0.1565242\n",
      "  0.13551529 0.13809059 0.14280527 0.14299168 0.13756486 0.13546108\n",
      "  0.13684816 0.13542739 0.14310812 0.14349951 0.13773146 0.13546505\n",
      "  0.13908014 0.13945527 0.1481671  0.13547506 0.13548597 0.13786799\n",
      "  0.13542054 0.13550673 0.15031602 0.13546711 0.137989   0.13830935\n",
      "  0.13545366 0.14085862 0.13542663 0.14089139 0.14713789 0.14397206\n",
      "  0.19191106 0.1363687  0.14345725 0.13539819 0.14033757 0.13540304\n",
      "  0.1418051  0.13890153 0.13541885 0.15944278]\n",
      " [0.14495733 1.         0.23774377 0.14673411 0.13564484 0.14417762\n",
      "  0.14149509 0.13575801 0.13580091 0.14076647 0.16959119 0.1595626\n",
      "  0.14139892 0.1517201  0.22274746 0.24748067 0.13872254 0.17163596\n",
      "  0.14410513 0.1577354  0.16404368 0.14845328 0.30854549 0.14366523\n",
      "  0.16661009 0.14121046 0.13716717 0.15269454 0.13954251 0.144013\n",
      "  0.13842238 0.15762271 0.1357621  0.14882822 0.15034428 0.13802514\n",
      "  0.14352228 0.1420806  0.14116917 0.1370803  0.13812218 0.15015035\n",
      "  0.16124174 0.13910339 0.14127626 0.13574001 0.14465533 0.14327773\n",
      "  0.1647564  0.13643733 0.14205536 0.13543909 0.13770567 0.13644077\n",
      "  0.13709148 0.13998873 0.13756098 0.14854929 0.136322   0.14569889\n",
      "  0.1356069  0.13936873 0.1380691  0.1404972  0.14088279 0.13552508\n",
      "  0.13549084 0.13809362 0.13780134 0.13802379 0.13630381 0.13986043\n",
      "  0.14067604 0.13944124 0.14142002 0.13554618 0.13841195 0.14223388\n",
      "  0.1354639  0.13559398 0.13694245 0.14096062 0.13960878 0.14099695\n",
      "  0.14268174 0.13698679 0.13906574 0.14082743 0.13711915 0.1413697\n",
      "  0.13821027 0.13969125 0.1374564  0.13543019 0.1391712  0.1368112\n",
      "  0.13545671 0.13949723 0.14224112 0.13555663]\n",
      " [0.13573861 0.23774377 1.         0.14085261 0.13581052 0.13589935\n",
      "  0.14068838 0.1359844  0.13605033 0.13567696 0.15339361 0.14355194\n",
      "  0.13606703 0.14344718 0.17153559 0.18915607 0.1357682  0.1519397\n",
      "  0.13577531 0.14337052 0.16960031 0.13561068 0.34909684 0.13569222\n",
      "  0.1357049  0.13800155 0.13577958 0.13749055 0.13558185 0.14052397\n",
      "  0.13675031 0.14690671 0.14484365 0.13844556 0.13581331 0.14031196\n",
      "  0.13583748 0.1430559  0.14003732 0.13555661 0.135505   0.15403702\n",
      "  0.14292504 0.13567349 0.13885407 0.13595673 0.13543727 0.13588146\n",
      "  0.1374888  0.13560311 0.13565718 0.13549458 0.13563533 0.13558631\n",
      "  0.13576131 0.13571148 0.13544866 0.14875935 0.13546262 0.1355382\n",
      "  0.13575224 0.13568246 0.13771485 0.13547895 0.13698916 0.13562658\n",
      "  0.13557402 0.13554855 0.13548811 0.13568823 0.1355553  0.13563578\n",
      "  0.1361254  0.13927492 0.14046356 0.13565899 0.13568428 0.13557612\n",
      "  0.13553266 0.13573239 0.14521454 0.14179914 0.13797256 0.14246477\n",
      "  0.14039624 0.13547837 0.13922458 0.14003323 0.13808182 0.13809541\n",
      "  0.13557524 0.13551485 0.13558968 0.13548092 0.13741573 0.13549215\n",
      "  0.13552163 0.13549829 0.14285515 0.13567504]\n",
      " [0.14546072 0.14673411 0.14085261 1.         0.14635279 0.13828013\n",
      "  0.14082982 0.15059395 0.13553817 0.15604567 0.15374221 0.14480009\n",
      "  0.13916542 0.15186155 0.14256406 0.14352385 0.14031109 0.14373394\n",
      "  0.15989531 0.14776717 0.14185066 0.14768942 0.14213677 0.14100351\n",
      "  0.1533551  0.13946455 0.14287435 0.13759335 0.1375563  0.13738993\n",
      "  0.13538846 0.14329891 0.13552128 0.14213364 0.135471   0.14479037\n",
      "  0.13823684 0.13831936 0.13542881 0.13842016 0.14015198 0.13784945\n",
      "  0.13864263 0.13801873 0.13863007 0.13794556 0.1412415  0.13708155\n",
      "  0.13735365 0.1377185  0.13774914 0.14328901 0.14054139 0.14728839\n",
      "  0.13884048 0.14594546 0.14074399 0.14415932 0.14270099 0.15061203\n",
      "  0.15027205 0.14332581 0.14506903 0.14833017 0.14754046 0.14607137\n",
      "  0.14567287 0.14317096 0.13985105 0.14835384 0.14383484 0.13631466\n",
      "  0.15470589 0.14328948 0.14494206 0.142972   0.13979983 0.14464278\n",
      "  0.1408247  0.13544805 0.13938272 0.14139868 0.15039792 0.1453026\n",
      "  0.13645822 0.13748181 0.14125617 0.13800668 0.14593147 0.14065894\n",
      "  0.14846385 0.13818228 0.14065494 0.13677544 0.14008549 0.13644515\n",
      "  0.14340865 0.1432522  0.14260384 0.13662212]\n",
      " [0.20449516 0.13564484 0.13581052 0.14635279 1.         0.24053976\n",
      "  0.15713219 0.4851276  0.14981781 0.26769602 0.3254568  0.23497536\n",
      "  0.20243887 0.19873755 0.13565288 0.1359229  0.18405197 0.21417097\n",
      "  0.3323462  0.18784104 0.16706719 0.19638199 0.13591869 0.17726163\n",
      "  0.22402795 0.13551394 0.13556125 0.13547995 0.13546073 0.13551981\n",
      "  0.1354305  0.13549553 0.13566849 0.13554338 0.13557838 0.13566617\n",
      "  0.13559067 0.13550733 0.13550278 0.13544789 0.13542164 0.14264982\n",
      "  0.13810314 0.13550732 0.14104007 0.13565124 0.13597941 0.13561301\n",
      "  0.13533528 0.13547154 0.13549903 0.13541634 0.13548792 0.13692543\n",
      "  0.13555196 0.13552664 0.1372545  0.14547288 0.13540008 0.13836034\n",
      "  0.13554735 0.13551188 0.1354236  0.13540839 0.13544649 0.13548348\n",
      "  0.13545675 0.13544379 0.13541305 0.14063721 0.13544723 0.13548815\n",
      "  0.13538857 0.13862662 0.13543311 0.13549995 0.13551281 0.13944279\n",
      "  0.13543571 0.13553727 0.13552066 0.13549058 0.13540857 0.14096087\n",
      "  0.13547474 0.13540809 0.13544289 0.1354649  0.13546463 0.13969625\n",
      "  0.13545737 0.13542665 0.13546471 0.13768222 0.13791244 0.1354151\n",
      "  0.1354301  0.13764211 0.13543373 0.13550811]]\n"
     ]
    }
   ],
   "source": [
    "print_numpy_array_infos(k_test, \"k_test\")"
   ]
  },
  {
   "cell_type": "markdown",
   "id": "cc2e9ace",
   "metadata": {},
   "source": [
    "<strong>| Définition de la fonction <a href=\"#print_numpy_array_infos\"> print_numpy_array_infos</a> |</strong>"
   ]
  },
  {
   "cell_type": "code",
   "execution_count": 24,
   "id": "7bb140a2",
   "metadata": {},
   "outputs": [],
   "source": [
    "pandas_loaded_data = pd.DataFrame(k_test)"
   ]
  },
  {
   "cell_type": "markdown",
   "id": "f98796cb",
   "metadata": {},
   "source": [
    "<h5>Symmetric NMF</h5>"
   ]
  },
  {
   "cell_type": "code",
   "execution_count": 25,
   "id": "25d894b1",
   "metadata": {},
   "outputs": [],
   "source": [
    "H_symmetric = sym_nmf(k_test, 4)"
   ]
  },
  {
   "cell_type": "markdown",
   "id": "f22dca92",
   "metadata": {},
   "source": [
    "<strong>| Définition de la fonction <a href=\"#sym_nmf\"> sym_nmf</a> |</strong>"
   ]
  },
  {
   "cell_type": "markdown",
   "id": "8d3dd556",
   "metadata": {},
   "source": [
    "<h5>H_symmetric</h5>"
   ]
  },
  {
   "cell_type": "code",
   "execution_count": 26,
   "id": "4f6c736b",
   "metadata": {
    "scrolled": true
   },
   "outputs": [
    {
     "name": "stdout",
     "output_type": "stream",
     "text": [
      "ARRAY :  H_symmetric\n",
      "--- Type               :  <class 'numpy.ndarray'>\n",
      "--- Dimensions         :  (4, 100)\n",
      "--- Nombre de lignes   :  4\n",
      "--- Nombre de colonnes :  100\n",
      "--- Nombre totale des données décrites dans le dataset :  400\n",
      "--- Type des données :  float64\n",
      "\n",
      "\n",
      "AFFICHAGE (partie) : \n",
      " [[0.21479045 0.20279954 0.20300525 0.24777247 0.20855567 0.21310132\n",
      "  0.21203633 0.19416265 0.22938372 0.21069477 0.2057845  0.2090516\n",
      "  0.22059069 0.2187969  0.21268281 0.21065385 0.20667892 0.20591274\n",
      "  0.20114985 0.21541763 0.22285657 0.21817848 0.19892319 0.2155037\n",
      "  0.2042636  0.23078121 0.2257527  0.2202472  0.23918864 0.22970995\n",
      "  0.22919373 0.23059092 0.22893802 0.2365826  0.22448735 0.22746743\n",
      "  0.22888962 0.22700749 0.22477268 0.23301829 0.22670323 0.22544211\n",
      "  0.22483107 0.22498014 0.22777892 0.22326018 0.23006566 0.22935405\n",
      "  0.22642954 0.22898167 0.28346025 0.25063153 0.36391225 0.47356758\n",
      "  0.25466089 0.33764074 0.24137661 0.37180295 0.28989418 0.27807742\n",
      "  0.2599158  0.30713245 0.28818426 0.65651062 0.34385554 0.64566973\n",
      "  0.33264091 0.27344155 0.43708626 0.32553989 0.48220117 0.26003656\n",
      "  0.51651083 0.2637767  0.29227942 0.23932003 0.17818231 0.20817154\n",
      "  0.21255869 0.20596169 0.21028735 0.1314422  0.21054849 0.19511942\n",
      "  0.19208705 0.22696114 0.19487535 0.20827015 0.19811718 0.22053089\n",
      "  0.21994781 0.18691698 0.2014621  0.16537345 0.25003316 0.16601891\n",
      "  0.20545845 0.17019972 0.13199631 0.22793625]\n",
      " [0.40225191 0.22011139 0.20499913 0.21893604 0.475704   0.41443094\n",
      "  0.30150302 0.53374068 0.22964428 0.44746405 0.46632998 0.43355523\n",
      "  0.3534332  0.37310941 0.20735312 0.21002733 0.32625011 0.41978929\n",
      "  0.51107207 0.37426199 0.2731059  0.39703903 0.20719431 0.3407403\n",
      "  0.46523618 0.20253437 0.20077819 0.20488305 0.19933132 0.20861646\n",
      "  0.20030949 0.21187331 0.20067553 0.21720906 0.20262668 0.20004727\n",
      "  0.20123602 0.20075187 0.20263116 0.2041044  0.20245275 0.21322177\n",
      "  0.20585687 0.19764498 0.20960527 0.20037601 0.21595308 0.20207386\n",
      "  0.20014356 0.2009732  0.17302958 0.19189523 0.14340819 0.0957867\n",
      "  0.1903082  0.14987125 0.19850102 0.15719748 0.17447479 0.21019704\n",
      "  0.18655258 0.16898271 0.18117795 0.00978029 0.14792848 0.01309478\n",
      "  0.16094722 0.18103843 0.11591561 0.16239956 0.09340757 0.18517331\n",
      "  0.07604914 0.19081829 0.17765421 0.19489488 0.21681161 0.21098687\n",
      "  0.20083458 0.21138543 0.22981534 0.26367317 0.20413905 0.22051557\n",
      "  0.20963494 0.21161274 0.20929637 0.20825355 0.22465547 0.21470994\n",
      "  0.25640357 0.22102585 0.22467805 0.22414883 0.20231204 0.21890404\n",
      "  0.21321321 0.22640205 0.26242487 0.22782436]\n",
      " [0.18856118 0.4019751  0.4049387  0.33004042 0.07274017 0.17316386\n",
      "  0.2894505  0.         0.34252222 0.12826708 0.10284776 0.15861385\n",
      "  0.23480419 0.22108529 0.39944515 0.39176871 0.26437513 0.18263598\n",
      "  0.04567643 0.22246336 0.3150445  0.19006044 0.4111827  0.25183191\n",
      "  0.12180857 0.36849005 0.373182   0.36359812 0.35560708 0.36260242\n",
      "  0.36885291 0.35177218 0.36715565 0.34998004 0.37801849 0.36963361\n",
      "  0.36408008 0.37577942 0.37422729 0.35672088 0.36561468 0.36653295\n",
      "  0.37266083 0.3777053  0.36360832 0.37340481 0.35849549 0.37055934\n",
      "  0.37662372 0.36539592 0.34200774 0.35387021 0.2757427  0.1809518\n",
      "  0.35170257 0.30584734 0.35369598 0.25685619 0.32772918 0.31377213\n",
      "  0.34372894 0.31848913 0.32688566 0.         0.29447465 0.01318681\n",
      "  0.27661309 0.33554926 0.20497881 0.30843996 0.17141536 0.34732987\n",
      "  0.12672744 0.34335994 0.32220416 0.3477224  0.28004323 0.30184341\n",
      "  0.29927085 0.3054712  0.33192229 0.0018195  0.28853354 0.29047711\n",
      "  0.29671746 0.33045836 0.29137533 0.30622008 0.31772438 0.34394929\n",
      "  0.29017971 0.2828671  0.31835978 0.25167335 0.31552753 0.24939341\n",
      "  0.32348881 0.24295964 0.         0.33077521]\n",
      " [0.14331619 0.15267602 0.16454777 0.20016115 0.14915841 0.14280444\n",
      "  0.16695996 0.1237327  0.19248275 0.14702902 0.14144403 0.12514174\n",
      "  0.15860301 0.15407562 0.17051933 0.18540043 0.17314068 0.13682691\n",
      "  0.13255269 0.1492164  0.17895261 0.13818942 0.14927663 0.17503702\n",
      "  0.1144173  0.19146609 0.20069308 0.22735087 0.20277548 0.19421493\n",
      "  0.19786638 0.21662922 0.19876574 0.19048554 0.19303115 0.20396047\n",
      "  0.20567771 0.19192529 0.19424531 0.20265362 0.21079272 0.19773781\n",
      "  0.19682415 0.19535966 0.19739797 0.19792931 0.19155767 0.1908993\n",
      "  0.19035544 0.20122511 0.16706078 0.18932164 0.13342715 0.09353895\n",
      "  0.18692927 0.1303478  0.19924096 0.12862436 0.17623582 0.17335389\n",
      "  0.19914231 0.16082122 0.17217989 0.         0.15255558 0.00508752\n",
      "  0.18442254 0.18798409 0.11418809 0.13605694 0.09166026 0.19107826\n",
      "  0.10546691 0.18443556 0.18136486 0.22600819 0.44069065 0.36913279\n",
      "  0.3688916  0.36529536 0.266338   0.86053931 0.39340449 0.40247912\n",
      "  0.40797079 0.26475054 0.41604896 0.35690792 0.33401331 0.25207052\n",
      "  0.26005737 0.41898366 0.32977129 0.50658325 0.25886425 0.51680478\n",
      "  0.32505591 0.5208888  0.86462684 0.2203372 ]]\n"
     ]
    }
   ],
   "source": [
    "print_numpy_array_infos(H_symmetric, \"H_symmetric\")"
   ]
  },
  {
   "cell_type": "markdown",
   "id": "d4990661",
   "metadata": {},
   "source": [
    "<strong>| Définition de la fonction <a href=\"#print_numpy_array_infos\"> print_numpy_array_infos</a> |</strong>"
   ]
  },
  {
   "cell_type": "code",
   "execution_count": 27,
   "id": "7da86013",
   "metadata": {},
   "outputs": [
    {
     "data": {
      "text/html": [
       "<div>\n",
       "<style scoped>\n",
       "    .dataframe tbody tr th:only-of-type {\n",
       "        vertical-align: middle;\n",
       "    }\n",
       "\n",
       "    .dataframe tbody tr th {\n",
       "        vertical-align: top;\n",
       "    }\n",
       "\n",
       "    .dataframe thead th {\n",
       "        text-align: right;\n",
       "    }\n",
       "</style>\n",
       "<table border=\"1\" class=\"dataframe\">\n",
       "  <thead>\n",
       "    <tr style=\"text-align: right;\">\n",
       "      <th></th>\n",
       "      <th>0</th>\n",
       "      <th>1</th>\n",
       "      <th>2</th>\n",
       "      <th>3</th>\n",
       "      <th>4</th>\n",
       "      <th>5</th>\n",
       "      <th>6</th>\n",
       "      <th>7</th>\n",
       "      <th>8</th>\n",
       "      <th>9</th>\n",
       "      <th>...</th>\n",
       "      <th>90</th>\n",
       "      <th>91</th>\n",
       "      <th>92</th>\n",
       "      <th>93</th>\n",
       "      <th>94</th>\n",
       "      <th>95</th>\n",
       "      <th>96</th>\n",
       "      <th>97</th>\n",
       "      <th>98</th>\n",
       "      <th>99</th>\n",
       "    </tr>\n",
       "  </thead>\n",
       "  <tbody>\n",
       "    <tr>\n",
       "      <th>0</th>\n",
       "      <td>0.214790</td>\n",
       "      <td>0.202800</td>\n",
       "      <td>0.203005</td>\n",
       "      <td>0.247772</td>\n",
       "      <td>0.208556</td>\n",
       "      <td>0.213101</td>\n",
       "      <td>0.212036</td>\n",
       "      <td>0.194163</td>\n",
       "      <td>0.229384</td>\n",
       "      <td>0.210695</td>\n",
       "      <td>...</td>\n",
       "      <td>0.219948</td>\n",
       "      <td>0.186917</td>\n",
       "      <td>0.201462</td>\n",
       "      <td>0.165373</td>\n",
       "      <td>0.250033</td>\n",
       "      <td>0.166019</td>\n",
       "      <td>0.205458</td>\n",
       "      <td>0.170200</td>\n",
       "      <td>0.131996</td>\n",
       "      <td>0.227936</td>\n",
       "    </tr>\n",
       "    <tr>\n",
       "      <th>1</th>\n",
       "      <td>0.402252</td>\n",
       "      <td>0.220111</td>\n",
       "      <td>0.204999</td>\n",
       "      <td>0.218936</td>\n",
       "      <td>0.475704</td>\n",
       "      <td>0.414431</td>\n",
       "      <td>0.301503</td>\n",
       "      <td>0.533741</td>\n",
       "      <td>0.229644</td>\n",
       "      <td>0.447464</td>\n",
       "      <td>...</td>\n",
       "      <td>0.256404</td>\n",
       "      <td>0.221026</td>\n",
       "      <td>0.224678</td>\n",
       "      <td>0.224149</td>\n",
       "      <td>0.202312</td>\n",
       "      <td>0.218904</td>\n",
       "      <td>0.213213</td>\n",
       "      <td>0.226402</td>\n",
       "      <td>0.262425</td>\n",
       "      <td>0.227824</td>\n",
       "    </tr>\n",
       "    <tr>\n",
       "      <th>2</th>\n",
       "      <td>0.188561</td>\n",
       "      <td>0.401975</td>\n",
       "      <td>0.404939</td>\n",
       "      <td>0.330040</td>\n",
       "      <td>0.072740</td>\n",
       "      <td>0.173164</td>\n",
       "      <td>0.289450</td>\n",
       "      <td>0.000000</td>\n",
       "      <td>0.342522</td>\n",
       "      <td>0.128267</td>\n",
       "      <td>...</td>\n",
       "      <td>0.290180</td>\n",
       "      <td>0.282867</td>\n",
       "      <td>0.318360</td>\n",
       "      <td>0.251673</td>\n",
       "      <td>0.315528</td>\n",
       "      <td>0.249393</td>\n",
       "      <td>0.323489</td>\n",
       "      <td>0.242960</td>\n",
       "      <td>0.000000</td>\n",
       "      <td>0.330775</td>\n",
       "    </tr>\n",
       "    <tr>\n",
       "      <th>3</th>\n",
       "      <td>0.143316</td>\n",
       "      <td>0.152676</td>\n",
       "      <td>0.164548</td>\n",
       "      <td>0.200161</td>\n",
       "      <td>0.149158</td>\n",
       "      <td>0.142804</td>\n",
       "      <td>0.166960</td>\n",
       "      <td>0.123733</td>\n",
       "      <td>0.192483</td>\n",
       "      <td>0.147029</td>\n",
       "      <td>...</td>\n",
       "      <td>0.260057</td>\n",
       "      <td>0.418984</td>\n",
       "      <td>0.329771</td>\n",
       "      <td>0.506583</td>\n",
       "      <td>0.258864</td>\n",
       "      <td>0.516805</td>\n",
       "      <td>0.325056</td>\n",
       "      <td>0.520889</td>\n",
       "      <td>0.864627</td>\n",
       "      <td>0.220337</td>\n",
       "    </tr>\n",
       "  </tbody>\n",
       "</table>\n",
       "<p>4 rows × 100 columns</p>\n",
       "</div>"
      ],
      "text/plain": [
       "         0         1         2         3         4         5         6   \\\n",
       "0  0.214790  0.202800  0.203005  0.247772  0.208556  0.213101  0.212036   \n",
       "1  0.402252  0.220111  0.204999  0.218936  0.475704  0.414431  0.301503   \n",
       "2  0.188561  0.401975  0.404939  0.330040  0.072740  0.173164  0.289450   \n",
       "3  0.143316  0.152676  0.164548  0.200161  0.149158  0.142804  0.166960   \n",
       "\n",
       "         7         8         9   ...        90        91        92        93  \\\n",
       "0  0.194163  0.229384  0.210695  ...  0.219948  0.186917  0.201462  0.165373   \n",
       "1  0.533741  0.229644  0.447464  ...  0.256404  0.221026  0.224678  0.224149   \n",
       "2  0.000000  0.342522  0.128267  ...  0.290180  0.282867  0.318360  0.251673   \n",
       "3  0.123733  0.192483  0.147029  ...  0.260057  0.418984  0.329771  0.506583   \n",
       "\n",
       "         94        95        96        97        98        99  \n",
       "0  0.250033  0.166019  0.205458  0.170200  0.131996  0.227936  \n",
       "1  0.202312  0.218904  0.213213  0.226402  0.262425  0.227824  \n",
       "2  0.315528  0.249393  0.323489  0.242960  0.000000  0.330775  \n",
       "3  0.258864  0.516805  0.325056  0.520889  0.864627  0.220337  \n",
       "\n",
       "[4 rows x 100 columns]"
      ]
     },
     "execution_count": 27,
     "metadata": {},
     "output_type": "execute_result"
    }
   ],
   "source": [
    "pd.DataFrame(H_symmetric).head()"
   ]
  },
  {
   "cell_type": "code",
   "execution_count": 28,
   "id": "47125972",
   "metadata": {},
   "outputs": [],
   "source": [
    "# Enregistrement F\n",
    "pd.DataFrame(k_test).to_csv(K_TEST_RBF, index=False)"
   ]
  },
  {
   "cell_type": "code",
   "execution_count": 29,
   "id": "0f3b898f",
   "metadata": {},
   "outputs": [],
   "source": [
    "# Enregistrement F\n",
    "pd.DataFrame(H_symmetric).to_csv(H_SYMMETRIC_RBF, index=False)"
   ]
  },
  {
   "cell_type": "markdown",
   "id": "64658a35",
   "metadata": {},
   "source": [
    "<strong><font color='#5a84ba'>Question 4.b/</font></strong>"
   ]
  },
  {
   "cell_type": "markdown",
   "id": "6e946e1a",
   "metadata": {},
   "source": [
    "<h5>Indices</h5>"
   ]
  },
  {
   "cell_type": "markdown",
   "id": "7fdd5917",
   "metadata": {},
   "source": [
    "<h6><font color='#353b38'>Indices Externes</font></h6>"
   ]
  },
  {
   "cell_type": "markdown",
   "id": "a9ec3070",
   "metadata": {},
   "source": [
    "<i>- Pureté</i>"
   ]
  },
  {
   "cell_type": "code",
   "execution_count": 30,
   "id": "e95644bc",
   "metadata": {},
   "outputs": [
    {
     "name": "stdout",
     "output_type": "stream",
     "text": [
      "------------------------------------------------------------- \n",
      "---- Détermination des labels suivant la matrice de partition \n",
      "------------------------------------------------------------- \n",
      "--------------------------------\n",
      "---- colonne :  0\n",
      "---- label associé :  2\n",
      "--------------------------------\n",
      "---- colonne :  1\n",
      "---- label associé :  3\n",
      "--------------------------------\n",
      "---- colonne :  2\n",
      "---- label associé :  3\n",
      "--------------------------------\n",
      "---- colonne :  3\n",
      "---- label associé :  3\n",
      "--------------------------------\n",
      "---- colonne :  4\n",
      "---- label associé :  2\n",
      "--------------------------------\n",
      "---- colonne :  5\n",
      "---- label associé :  2\n",
      "--------------------------------\n",
      "---- colonne :  6\n",
      "---- label associé :  2\n",
      "--------------------------------\n",
      "---- colonne :  7\n",
      "---- label associé :  2\n",
      "--------------------------------\n",
      "---- colonne :  8\n",
      "---- label associé :  3\n",
      "--------------------------------\n",
      "---- colonne :  9\n",
      "---- label associé :  2\n",
      "--------------------------------\n",
      "---- colonne :  10\n",
      "---- label associé :  2\n",
      "--------------------------------\n",
      "---- colonne :  11\n",
      "---- label associé :  2\n",
      "--------------------------------\n",
      "---- colonne :  12\n",
      "---- label associé :  2\n",
      "--------------------------------\n",
      "---- colonne :  13\n",
      "---- label associé :  2\n",
      "--------------------------------\n",
      "---- colonne :  14\n",
      "---- label associé :  3\n",
      "--------------------------------\n",
      "---- colonne :  15\n",
      "---- label associé :  3\n",
      "--------------------------------\n",
      "---- colonne :  16\n",
      "---- label associé :  2\n",
      "--------------------------------\n",
      "---- colonne :  17\n",
      "---- label associé :  2\n",
      "--------------------------------\n",
      "---- colonne :  18\n",
      "---- label associé :  2\n",
      "--------------------------------\n",
      "---- colonne :  19\n",
      "---- label associé :  2\n",
      "--------------------------------\n",
      "---- colonne :  20\n",
      "---- label associé :  3\n",
      "--------------------------------\n",
      "---- colonne :  21\n",
      "---- label associé :  2\n",
      "--------------------------------\n",
      "---- colonne :  22\n",
      "---- label associé :  3\n",
      "--------------------------------\n",
      "---- colonne :  23\n",
      "---- label associé :  2\n",
      "--------------------------------\n",
      "---- colonne :  24\n",
      "---- label associé :  2\n",
      "--------------------------------\n",
      "---- colonne :  25\n",
      "---- label associé :  3\n",
      "--------------------------------\n",
      "---- colonne :  26\n",
      "---- label associé :  3\n",
      "--------------------------------\n",
      "---- colonne :  27\n",
      "---- label associé :  3\n",
      "--------------------------------\n",
      "---- colonne :  28\n",
      "---- label associé :  3\n",
      "--------------------------------\n",
      "---- colonne :  29\n",
      "---- label associé :  3\n",
      "--------------------------------\n",
      "---- colonne :  30\n",
      "---- label associé :  3\n",
      "--------------------------------\n",
      "---- colonne :  31\n",
      "---- label associé :  3\n",
      "--------------------------------\n",
      "---- colonne :  32\n",
      "---- label associé :  3\n",
      "--------------------------------\n",
      "---- colonne :  33\n",
      "---- label associé :  3\n",
      "--------------------------------\n",
      "---- colonne :  34\n",
      "---- label associé :  3\n",
      "--------------------------------\n",
      "---- colonne :  35\n",
      "---- label associé :  3\n",
      "--------------------------------\n",
      "---- colonne :  36\n",
      "---- label associé :  3\n",
      "--------------------------------\n",
      "---- colonne :  37\n",
      "---- label associé :  3\n",
      "--------------------------------\n",
      "---- colonne :  38\n",
      "---- label associé :  3\n",
      "--------------------------------\n",
      "---- colonne :  39\n",
      "---- label associé :  3\n",
      "--------------------------------\n",
      "---- colonne :  40\n",
      "---- label associé :  3\n",
      "--------------------------------\n",
      "---- colonne :  41\n",
      "---- label associé :  3\n",
      "--------------------------------\n",
      "---- colonne :  42\n",
      "---- label associé :  3\n",
      "--------------------------------\n",
      "---- colonne :  43\n",
      "---- label associé :  3\n",
      "--------------------------------\n",
      "---- colonne :  44\n",
      "---- label associé :  3\n",
      "--------------------------------\n",
      "---- colonne :  45\n",
      "---- label associé :  3\n",
      "--------------------------------\n",
      "---- colonne :  46\n",
      "---- label associé :  3\n",
      "--------------------------------\n",
      "---- colonne :  47\n",
      "---- label associé :  3\n",
      "--------------------------------\n",
      "---- colonne :  48\n",
      "---- label associé :  3\n",
      "--------------------------------\n",
      "---- colonne :  49\n",
      "---- label associé :  3\n",
      "--------------------------------\n",
      "---- colonne :  50\n",
      "---- label associé :  3\n",
      "--------------------------------\n",
      "---- colonne :  51\n",
      "---- label associé :  3\n",
      "--------------------------------\n",
      "---- colonne :  52\n",
      "---- label associé :  1\n",
      "--------------------------------\n",
      "---- colonne :  53\n",
      "---- label associé :  1\n",
      "--------------------------------\n",
      "---- colonne :  54\n",
      "---- label associé :  3\n",
      "--------------------------------\n",
      "---- colonne :  55\n",
      "---- label associé :  1\n",
      "--------------------------------\n",
      "---- colonne :  56\n",
      "---- label associé :  3\n",
      "--------------------------------\n",
      "---- colonne :  57\n",
      "---- label associé :  1\n",
      "--------------------------------\n",
      "---- colonne :  58\n",
      "---- label associé :  3\n",
      "--------------------------------\n",
      "---- colonne :  59\n",
      "---- label associé :  3\n",
      "--------------------------------\n",
      "---- colonne :  60\n",
      "---- label associé :  3\n",
      "--------------------------------\n",
      "---- colonne :  61\n",
      "---- label associé :  3\n",
      "--------------------------------\n",
      "---- colonne :  62\n",
      "---- label associé :  3\n",
      "--------------------------------\n",
      "---- colonne :  63\n",
      "---- label associé :  1\n",
      "--------------------------------\n",
      "---- colonne :  64\n",
      "---- label associé :  1\n",
      "--------------------------------\n",
      "---- colonne :  65\n",
      "---- label associé :  1\n",
      "--------------------------------\n",
      "---- colonne :  66\n",
      "---- label associé :  1\n",
      "--------------------------------\n",
      "---- colonne :  67\n",
      "---- label associé :  3\n",
      "--------------------------------\n",
      "---- colonne :  68\n",
      "---- label associé :  1\n",
      "--------------------------------\n",
      "---- colonne :  69\n",
      "---- label associé :  1\n",
      "--------------------------------\n",
      "---- colonne :  70\n",
      "---- label associé :  1\n",
      "--------------------------------\n",
      "---- colonne :  71\n",
      "---- label associé :  3\n",
      "--------------------------------\n",
      "---- colonne :  72\n",
      "---- label associé :  1\n",
      "--------------------------------\n",
      "---- colonne :  73\n",
      "---- label associé :  3\n",
      "--------------------------------\n",
      "---- colonne :  74\n",
      "---- label associé :  3\n",
      "--------------------------------\n",
      "---- colonne :  75\n",
      "---- label associé :  3\n",
      "--------------------------------\n",
      "---- colonne :  76\n",
      "---- label associé :  4\n",
      "--------------------------------\n",
      "---- colonne :  77\n",
      "---- label associé :  4\n",
      "--------------------------------\n",
      "---- colonne :  78\n",
      "---- label associé :  4\n",
      "--------------------------------\n",
      "---- colonne :  79\n",
      "---- label associé :  4\n",
      "--------------------------------\n",
      "---- colonne :  80\n",
      "---- label associé :  3\n",
      "--------------------------------\n",
      "---- colonne :  81\n",
      "---- label associé :  4\n",
      "--------------------------------\n",
      "---- colonne :  82\n",
      "---- label associé :  4\n",
      "--------------------------------\n",
      "---- colonne :  83\n",
      "---- label associé :  4\n",
      "--------------------------------\n",
      "---- colonne :  84\n",
      "---- label associé :  4\n",
      "--------------------------------\n",
      "---- colonne :  85\n",
      "---- label associé :  3\n",
      "--------------------------------\n",
      "---- colonne :  86\n",
      "---- label associé :  4\n",
      "--------------------------------\n",
      "---- colonne :  87\n",
      "---- label associé :  4\n",
      "--------------------------------\n",
      "---- colonne :  88\n",
      "---- label associé :  4\n",
      "--------------------------------\n",
      "---- colonne :  89\n",
      "---- label associé :  3\n",
      "--------------------------------\n",
      "---- colonne :  90\n",
      "---- label associé :  3\n",
      "--------------------------------\n",
      "---- colonne :  91\n",
      "---- label associé :  4\n",
      "--------------------------------\n",
      "---- colonne :  92\n",
      "---- label associé :  4\n",
      "--------------------------------\n",
      "---- colonne :  93\n",
      "---- label associé :  4\n",
      "--------------------------------\n",
      "---- colonne :  94\n",
      "---- label associé :  3\n",
      "--------------------------------\n",
      "---- colonne :  95\n",
      "---- label associé :  4\n",
      "--------------------------------\n",
      "---- colonne :  96\n",
      "---- label associé :  4\n",
      "--------------------------------\n",
      "---- colonne :  97\n",
      "---- label associé :  4\n",
      "--------------------------------\n",
      "---- colonne :  98\n",
      "---- label associé :  4\n",
      "--------------------------------\n",
      "---- colonne :  99\n",
      "---- label associé :  3\n",
      "--------------------------------\n"
     ]
    }
   ],
   "source": [
    "H_symmetric_index_purity = calcul_purety_index(H_symmetric)"
   ]
  },
  {
   "cell_type": "markdown",
   "id": "27402770",
   "metadata": {},
   "source": [
    "<strong>| Définition de la fonction <a href=\"#calcul_purety_index\"> calcul_purety_index</a> |</strong>"
   ]
  },
  {
   "cell_type": "code",
   "execution_count": 31,
   "id": "f7532dfb",
   "metadata": {},
   "outputs": [
    {
     "name": "stdout",
     "output_type": "stream",
     "text": [
      "ARRAY :  H_test_index_purity\n",
      "--- Type               :  <class 'numpy.ndarray'>\n",
      "--- Dimensions         :  (100, 1)\n",
      "--- Nombre de lignes   :  100\n",
      "--- Nombre de colonnes :  1\n",
      "--- Nombre totale des données décrites dans le dataset :  100\n",
      "--- Type des données :  int64\n",
      "\n",
      "\n",
      "AFFICHAGE (partie) : \n",
      " [[2]\n",
      " [3]\n",
      " [3]\n",
      " [3]\n",
      " [2]]\n"
     ]
    }
   ],
   "source": [
    "print_numpy_array_infos(H_symmetric_index_purity, \"H_test_index_purity\")"
   ]
  },
  {
   "cell_type": "markdown",
   "id": "e7af94b8",
   "metadata": {},
   "source": [
    "<strong>| Définition de la fonction <a href=\"#print_numpy_array_infos\"> print_numpy_array_infos</a> |</strong>"
   ]
  },
  {
   "cell_type": "code",
   "execution_count": 32,
   "id": "fec691db",
   "metadata": {},
   "outputs": [
    {
     "data": {
      "text/html": [
       "<div>\n",
       "<style scoped>\n",
       "    .dataframe tbody tr th:only-of-type {\n",
       "        vertical-align: middle;\n",
       "    }\n",
       "\n",
       "    .dataframe tbody tr th {\n",
       "        vertical-align: top;\n",
       "    }\n",
       "\n",
       "    .dataframe thead th {\n",
       "        text-align: right;\n",
       "    }\n",
       "</style>\n",
       "<table border=\"1\" class=\"dataframe\">\n",
       "  <thead>\n",
       "    <tr style=\"text-align: right;\">\n",
       "      <th></th>\n",
       "      <th>0</th>\n",
       "    </tr>\n",
       "  </thead>\n",
       "  <tbody>\n",
       "    <tr>\n",
       "      <th>0</th>\n",
       "      <td>2</td>\n",
       "    </tr>\n",
       "    <tr>\n",
       "      <th>1</th>\n",
       "      <td>3</td>\n",
       "    </tr>\n",
       "    <tr>\n",
       "      <th>2</th>\n",
       "      <td>3</td>\n",
       "    </tr>\n",
       "    <tr>\n",
       "      <th>3</th>\n",
       "      <td>3</td>\n",
       "    </tr>\n",
       "    <tr>\n",
       "      <th>4</th>\n",
       "      <td>2</td>\n",
       "    </tr>\n",
       "  </tbody>\n",
       "</table>\n",
       "</div>"
      ],
      "text/plain": [
       "   0\n",
       "0  2\n",
       "1  3\n",
       "2  3\n",
       "3  3\n",
       "4  2"
      ]
     },
     "execution_count": 32,
     "metadata": {},
     "output_type": "execute_result"
    }
   ],
   "source": [
    "pd.DataFrame(H_symmetric_index_purity).head()"
   ]
  },
  {
   "cell_type": "code",
   "execution_count": 33,
   "id": "508c0281",
   "metadata": {},
   "outputs": [
    {
     "name": "stdout",
     "output_type": "stream",
     "text": [
      "-------------------------------------- \n",
      "---- Calcul de la pureté de la matrice \n",
      "-------------------------------------- \n"
     ]
    }
   ],
   "source": [
    "H_symmetric_purity = calcul_purety(H_symmetric_index_purity, labels_test)"
   ]
  },
  {
   "cell_type": "markdown",
   "id": "3681155f",
   "metadata": {},
   "source": [
    "<strong>| Définition de la fonction <a href=\"#calcul_purety\"> calcul_purety</a> |</strong>"
   ]
  },
  {
   "cell_type": "code",
   "execution_count": 34,
   "id": "9f0b479a",
   "metadata": {},
   "outputs": [
    {
     "name": "stdout",
     "output_type": "stream",
     "text": [
      "---- Purity =  0.73\n"
     ]
    }
   ],
   "source": [
    "print(\"---- Purity = \", H_symmetric_purity)"
   ]
  },
  {
   "cell_type": "markdown",
   "id": "be58f162",
   "metadata": {},
   "source": [
    "<i>- Entropy</i>"
   ]
  },
  {
   "cell_type": "code",
   "execution_count": 35,
   "id": "252e27d0",
   "metadata": {},
   "outputs": [
    {
     "name": "stdout",
     "output_type": "stream",
     "text": [
      "----------------------------------------------------- \n",
      "---- Calcul de l'entropie de la matrice de la matrice \n",
      "----------------------------------------------------- \n",
      "---- classes prises : [1.0, 2.0, 3.0, 4.0]\n",
      "---- entropie mpoyenne : 0.313\n",
      "---- entropies des clusters : {1.0: -0.0, 2.0: -0.0, 3.0: 1.252, 4.0: -0.0}\n",
      "----------------------------------------------------- \n"
     ]
    },
    {
     "data": {
      "text/plain": [
       "(0.313, {1.0: -0.0, 2.0: -0.0, 3.0: 1.252, 4.0: -0.0})"
      ]
     },
     "execution_count": 35,
     "metadata": {},
     "output_type": "execute_result"
    }
   ],
   "source": [
    "calcul_entropy(H_symmetric_index_purity, labels_test)"
   ]
  },
  {
   "cell_type": "markdown",
   "id": "b29dcb15",
   "metadata": {},
   "source": [
    "<strong>| Définition de la fonction <a href=\"#calcul_entropy\"> calcul_entropy</a> |</strong>"
   ]
  },
  {
   "cell_type": "markdown",
   "id": "b668fcde",
   "metadata": {},
   "source": [
    "<h6><font color='#353b38'>Indices Externes</font></h6>"
   ]
  },
  {
   "cell_type": "markdown",
   "id": "f3869337",
   "metadata": {},
   "source": [
    "<i>- Davies&amp;Bouldin-DB</i>"
   ]
  },
  {
   "cell_type": "code",
   "execution_count": 36,
   "id": "278914ba",
   "metadata": {},
   "outputs": [
    {
     "name": "stdout",
     "output_type": "stream",
     "text": [
      "------------------------------------------------------- \n",
      "---- Calcul de l'indice Davies&Bouldin-DB de la matrice \n",
      "------------------------------------------------------- \n",
      "---- DB Score :  0.9808010094709512\n",
      "------------------------------------------------------- \n"
     ]
    }
   ],
   "source": [
    "DB_H_symmetric = calcul_DB(np.transpose(H_symmetric), labels_test.reshape(-1))"
   ]
  },
  {
   "cell_type": "markdown",
   "id": "50410539",
   "metadata": {},
   "source": [
    "<i>- Calinsky&amp;Harabsz-CH</i>"
   ]
  },
  {
   "cell_type": "code",
   "execution_count": 37,
   "id": "dc54ed93",
   "metadata": {},
   "outputs": [
    {
     "name": "stdout",
     "output_type": "stream",
     "text": [
      "--------------------------------------------------------- \n",
      "---- Calcul de l'indice Calinsky&Harabsz-CH de la matrice \n",
      "--------------------------------------------------------- \n",
      "---- DB Score :  31.989186345688267\n",
      "--------------------------------------------------------- \n"
     ]
    }
   ],
   "source": [
    "CH_H_symmetric = calcul_CH(np.transpose(H_symmetric), labels_test.reshape(-1))"
   ]
  },
  {
   "cell_type": "markdown",
   "id": "92606f30",
   "metadata": {},
   "source": [
    "<i>- Krzanowski&amp;Lai-KL</i>"
   ]
  },
  {
   "cell_type": "code",
   "execution_count": 38,
   "id": "0db86df3",
   "metadata": {},
   "outputs": [
    {
     "name": "stdout",
     "output_type": "stream",
     "text": [
      "------------------------------------------------------- \n",
      "---- Calcul de l'indice Krzanowski&Lai-KL de la matrice \n",
      "------------------------------------------------------- \n"
     ]
    }
   ],
   "source": [
    "KL_H_symmetric = calcul_KL(np.transpose(H_symmetric), labels_test)"
   ]
  },
  {
   "cell_type": "code",
   "execution_count": 39,
   "id": "2d64c7f7",
   "metadata": {},
   "outputs": [
    {
     "name": "stdout",
     "output_type": "stream",
     "text": [
      "---- Krzanowski&Lai-KL =  -53.90564674219201\n"
     ]
    }
   ],
   "source": [
    "print(\"---- Krzanowski&Lai-KL = \", KL_H_symmetric)"
   ]
  },
  {
   "cell_type": "markdown",
   "id": "8b540248",
   "metadata": {},
   "source": [
    "<i>- Dunn</i>"
   ]
  },
  {
   "cell_type": "code",
   "execution_count": 40,
   "id": "3f7f3d62",
   "metadata": {},
   "outputs": [
    {
     "name": "stdout",
     "output_type": "stream",
     "text": [
      "------------------------------------------------------- \n",
      "---- Calcul de l'indice Dunn de la matrice \n",
      "------------------------------------------------------- \n",
      "---- classes prises : [1.0, 2.0, 3.0, 4.0]\n"
     ]
    }
   ],
   "source": [
    "Dunn_H_symmetric = calcul_Dunn(np.transpose(H_symmetric), labels_test)"
   ]
  },
  {
   "cell_type": "markdown",
   "id": "58208fc3",
   "metadata": {},
   "source": [
    "<strong><font color='#5a84ba'>Question 4.c/</font></strong>"
   ]
  },
  {
   "cell_type": "markdown",
   "id": "760613c4",
   "metadata": {},
   "source": [
    "<h5>Visualisation</h5>"
   ]
  },
  {
   "cell_type": "markdown",
   "id": "800e943f",
   "metadata": {},
   "source": [
    "<i>- 3D</i>"
   ]
  },
  {
   "cell_type": "code",
   "execution_count": 41,
   "id": "38197d5b",
   "metadata": {},
   "outputs": [
    {
     "name": "stdout",
     "output_type": "stream",
     "text": [
      "------------------------------------------------------- \n",
      "---- plot clusters \n",
      "------------------------------------------------------- \n"
     ]
    },
    {
     "data": {
      "image/png": "[encoded data removed]",
      "text/plain": [
       "<Figure size 432x288 with 1 Axes>"
      ]
     },
     "metadata": {
      "needs_background": "light"
     },
     "output_type": "display_data"
    },
    {
     "name": "stdout",
     "output_type": "stream",
     "text": [
      "------------------------------------------------------- \n",
      "---- plot clusters \n",
      "------------------------------------------------------- \n"
     ]
    },
    {
     "data": {
      "image/png": "[encoded data removed]",
      "text/plain": [
       "<Figure size 432x288 with 1 Axes>"
      ]
     },
     "metadata": {
      "needs_background": "light"
     },
     "output_type": "display_data"
    },
    {
     "name": "stdout",
     "output_type": "stream",
     "text": [
      "------------------------------------------------------- \n",
      "---- plot clusters \n",
      "------------------------------------------------------- \n"
     ]
    },
    {
     "data": {
      "image/png": "[encoded data removed]",
      "text/plain": [
       "<Figure size 432x288 with 1 Axes>"
      ]
     },
     "metadata": {
      "needs_background": "light"
     },
     "output_type": "display_data"
    }
   ],
   "source": [
    "plot_clusters3D(np.transpose(H_symmetric), labels_test, VI_SYM_NMF_3D_H_SYMMETRIC_RBF_PNG)\n",
    "plot_clusters3D(np.transpose(H_symmetric), labels_test, VI_SYM_NMF_3D_H_SYMMETRIC_RBF_JPG)\n",
    "plot_clusters3D(np.transpose(H_symmetric), labels_test, VI_SYM_NMF_3D_H_SYMMETRIC_RBF_PDF)"
   ]
  },
  {
   "cell_type": "markdown",
   "id": "69012881",
   "metadata": {},
   "source": [
    "<strong>| Définition de la fonction <a href=\"#plot_clusters3D\"> plot_clusters3D</a> |</strong>"
   ]
  },
  {
   "cell_type": "markdown",
   "id": "2004c902",
   "metadata": {},
   "source": [
    "<i>- 2D</i>"
   ]
  },
  {
   "cell_type": "code",
   "execution_count": 42,
   "id": "5317c69d",
   "metadata": {},
   "outputs": [
    {
     "name": "stdout",
     "output_type": "stream",
     "text": [
      "------------------------------------------------------- \n",
      "---- plot clusters \n",
      "------------------------------------------------------- \n"
     ]
    },
    {
     "data": {
      "image/png": "[encoded data removed]",
      "text/plain": [
       "<Figure size 432x288 with 6 Axes>"
      ]
     },
     "metadata": {
      "needs_background": "light"
     },
     "output_type": "display_data"
    },
    {
     "name": "stdout",
     "output_type": "stream",
     "text": [
      "------------------------------------------------------- \n",
      "---- plot clusters \n",
      "------------------------------------------------------- \n"
     ]
    },
    {
     "data": {
      "image/png": "[encoded data removed]",
      "text/plain": [
       "<Figure size 432x288 with 6 Axes>"
      ]
     },
     "metadata": {
      "needs_background": "light"
     },
     "output_type": "display_data"
    },
    {
     "name": "stdout",
     "output_type": "stream",
     "text": [
      "------------------------------------------------------- \n",
      "---- plot clusters \n",
      "------------------------------------------------------- \n"
     ]
    },
    {
     "data": {
      "image/png": "[encoded data removed]",
      "text/plain": [
       "<Figure size 432x288 with 6 Axes>"
      ]
     },
     "metadata": {
      "needs_background": "light"
     },
     "output_type": "display_data"
    }
   ],
   "source": [
    "plot_clusters2D(np.transpose(H_symmetric), labels_test, VI_SYM_NMF_2D_H_SYMMETRIC_RBF_PNG)\n",
    "plot_clusters2D(np.transpose(H_symmetric), labels_test, VI_SYM_NMF_2D_H_SYMMETRIC_RBF_JPG)\n",
    "plot_clusters2D(np.transpose(H_symmetric), labels_test, VI_SYM_NMF_2D_H_SYMMETRIC_RBF_PDF)"
   ]
  },
  {
   "cell_type": "markdown",
   "id": "4cd9f333",
   "metadata": {},
   "source": [
    "<strong>| Définition de la fonction <a href=\"#plot_clusters2D\"> plot_clusters2D</a> |</strong>"
   ]
  },
  {
   "cell_type": "markdown",
   "id": "7d66cf3a",
   "metadata": {},
   "source": [
    "<strong><font color='#5a84ba'>Question 4.d/</font></strong>"
   ]
  },
  {
   "cell_type": "markdown",
   "id": "76cfb3fd",
   "metadata": {},
   "source": [
    "Nous allons calculer la matrice de Gram **K_test** avec le kernel polynomial"
   ]
  },
  {
   "cell_type": "markdown",
   "id": "4e5879d2",
   "metadata": {},
   "source": [
    "<h5>K_test</h5>"
   ]
  },
  {
   "cell_type": "code",
   "execution_count": 43,
   "id": "9ca8b079",
   "metadata": {},
   "outputs": [],
   "source": [
    "k_test = polynomial_kernel(reut_test, reut_test, gamma=1.0, degree=2, coef0=0)"
   ]
  },
  {
   "cell_type": "code",
   "execution_count": 44,
   "id": "a2a951ee",
   "metadata": {
    "scrolled": true
   },
   "outputs": [
    {
     "name": "stdout",
     "output_type": "stream",
     "text": [
      "ARRAY :  k_test\n",
      "--- Type               :  <class 'numpy.ndarray'>\n",
      "--- Dimensions         :  (100, 100)\n",
      "--- Nombre de lignes   :  100\n",
      "--- Nombre de colonnes :  100\n",
      "--- Nombre totale des données décrites dans le dataset :  10000\n",
      "--- Type des données :  float64\n",
      "\n",
      "\n",
      "AFFICHAGE (partie) : \n",
      " [[1.00000000e+00 1.17937828e-03 2.21385898e-06 1.30143550e-03\n",
      "  4.25986980e-02 8.92118249e-02 1.86032271e-02 6.26371749e-02\n",
      "  8.49595991e-04 5.66804108e-02 4.30731044e-02 1.03314961e-01\n",
      "  5.05117632e-02 6.56147542e-02 9.89879039e-07 3.38183423e-06\n",
      "  1.79034085e-02 9.70540744e-02 8.38756050e-02 5.87451769e-02\n",
      "  6.80309770e-03 1.06592484e-01 3.33373107e-06 4.07711418e-02\n",
      "  1.37419151e-01 1.90695867e-05 1.38780265e-04 2.05651753e-07\n",
      "  4.64775882e-05 2.09123441e-04 8.91273241e-08 3.01023004e-04\n",
      "  1.08943053e-06 1.86477529e-03 1.60607494e-04 1.07435664e-06\n",
      "  6.40350701e-07 2.90811303e-07 8.98731076e-05 7.79244222e-05\n",
      "  2.20337411e-05 2.30610901e-04 1.75873282e-04 2.90772263e-07\n",
      "  2.28534432e-04 9.79711501e-07 1.46750704e-03 4.60482622e-05\n",
      "  8.05046906e-06 1.82441424e-07 2.63440021e-07 6.45901792e-08\n",
      "  7.58790001e-05 1.00222188e-04 4.61097120e-07 2.18736174e-05\n",
      "  3.27290709e-08 6.70966390e-04 1.24063378e-05 5.28931427e-03\n",
      "  4.41685879e-07 1.01552221e-04 7.21639494e-04 7.57107911e-04\n",
      "  6.67508773e-05 2.15786532e-07 3.08951321e-05 1.15729316e-07\n",
      "  7.79669984e-04 8.57797150e-04 7.70053511e-05 2.29613782e-07\n",
      "  1.86254450e-04 2.24829128e-04 2.05143027e-03 2.66411969e-07\n",
      "  3.09595568e-07 8.59452829e-05 9.91409349e-08 4.00708480e-07\n",
      "  2.75543992e-03 2.36959723e-07 9.42714521e-05 1.18130083e-04\n",
      "  1.91101910e-07 4.00028881e-04 1.13815421e-07 4.04694444e-04\n",
      "  1.74786265e-03 9.56787938e-04 3.04985614e-02 1.44665168e-05\n",
      "  8.49192528e-04 5.39978723e-08 3.29339988e-04 6.26356981e-08\n",
      "  5.45183376e-04 1.69129884e-04 9.52659180e-08 6.71824648e-03]\n",
      " [1.17937828e-03 1.00000000e+00 7.93656614e-02 1.63486308e-03\n",
      "  1.30502808e-06 1.00142845e-03 4.95279881e-04 2.43157888e-06\n",
      "  2.94915983e-06 3.87046774e-04 1.27278469e-02 6.77996146e-03\n",
      "  4.80263962e-04 3.26509853e-03 6.20715776e-02 9.10763598e-02\n",
      "  1.52776358e-04 1.41158690e-02 9.85576867e-04 5.86477594e-03\n",
      "  9.25227133e-03 2.13975676e-03 1.69790971e-01 8.91932789e-04\n",
      "  1.08057083e-02 4.51480472e-04 4.51928789e-05 3.64116903e-03\n",
      "  2.34304658e-04 9.65602844e-04 1.27176156e-04 5.81017192e-03\n",
      "  2.47880609e-06 2.25803140e-03 2.76531718e-03 9.68313699e-05\n",
      "  8.62451043e-04 5.91442936e-04 4.45287510e-04 4.10344775e-05\n",
      "  1.03870283e-04 2.69786094e-03 7.66932980e-03 1.88543459e-04\n",
      "  4.61433798e-04 2.22915990e-06 1.10884373e-03 8.13094019e-04\n",
      "  9.67397287e-03 1.64433786e-05 5.87131279e-04 1.46963506e-07\n",
      "  7.53708138e-05 1.65458716e-05 4.15585142e-05 2.85722597e-04\n",
      "  6.65207399e-05 2.16976919e-03 1.31929968e-05 1.36112345e-03\n",
      "  1.00497794e-06 2.15617834e-04 9.99899483e-05 3.50294039e-04\n",
      "  4.03467015e-04 4.90984013e-07 3.29919963e-07 1.01773839e-04\n",
      "  8.15209247e-05 9.67347897e-05 1.27129599e-05 2.70433887e-04\n",
      "  3.74507823e-04 2.23323374e-04 4.83539304e-04 6.06173222e-07\n",
      "  1.26327345e-04 6.17957424e-04 2.25577628e-07 9.11741135e-07\n",
      "  3.48425336e-05 4.14637484e-04 2.41628521e-04 4.19900639e-04\n",
      "  6.98578353e-04 3.67793442e-05 1.84844005e-04 3.95611972e-04\n",
      "  4.28698337e-05 4.75744408e-04 1.10470268e-04 2.50895129e-04\n",
      "  6.04622840e-05 1.22862589e-07 1.95294247e-04 2.94120764e-05\n",
      "  2.01085580e-07 2.29363112e-04 6.19222565e-04 6.67683470e-07]\n",
      " [2.21385898e-06 7.93656614e-02 1.00000000e+00 3.99174715e-04\n",
      "  3.07197936e-06 4.32491430e-06 3.76206159e-04 5.72383096e-06\n",
      "  6.94219402e-06 1.58951464e-06 3.92201466e-03 8.68528490e-04\n",
      "  7.26939774e-06 8.47147795e-04 1.40464551e-02 2.80256370e-02\n",
      "  2.54995446e-06 3.34827012e-03 2.63425617e-06 8.31661074e-04\n",
      "  1.27339133e-02 1.03312456e-06 2.24483634e-01 1.73439188e-06\n",
      "  1.85970554e-06 9.51564678e-05 2.68561564e-06 6.24092608e-05\n",
      "  8.28296149e-07 3.53868244e-04 2.70475225e-05 1.68274247e-03\n",
      "  1.15258897e-03 1.29071514e-04 3.10800672e-06 3.26035654e-04\n",
      "  3.42972533e-06 7.69513392e-04 2.91618770e-04 6.67542619e-07\n",
      "  3.92672332e-07 4.18852901e-03 7.44335483e-04 1.55737941e-06\n",
      "  1.64714806e-04 5.24734548e-06 1.41860321e-07 4.05541317e-06\n",
      "  6.23088020e-05 9.77158254e-07 1.41098763e-06 3.45945704e-07\n",
      "  1.22612090e-06 8.58557303e-07 2.46964120e-06 1.92638227e-06\n",
      "  1.75297261e-07 2.23609045e-03 2.21098431e-07 5.61201740e-07\n",
      "  2.36567438e-06 1.64097181e-06 7.59506612e-05 2.81433493e-07\n",
      "  3.68844709e-05 1.15575502e-06 7.76617248e-07 6.19847477e-07\n",
      "  3.18431442e-07 1.69588164e-06 6.59669360e-07 1.22981392e-06\n",
      "  8.47178944e-06 2.05844583e-04 3.45825830e-04 1.42690541e-06\n",
      "  1.65819724e-06 7.90290147e-07 5.30999928e-07 2.14619899e-06\n",
      "  1.24104670e-03 5.44202435e-04 9.31179200e-05 6.58934619e-04\n",
      "  3.36969498e-04 2.79145089e-07 2.00690435e-04 2.91119723e-04\n",
      "  1.00913725e-04 1.01904153e-04 7.84538189e-07 4.39536997e-07\n",
      "  8.81691374e-07 2.89213193e-07 5.81833307e-05 3.35477482e-07\n",
      "  4.73346712e-07 3.62227294e-07 7.31051396e-04 1.57169786e-06]\n",
      " [1.30143550e-03 1.63486308e-03 3.99174715e-04 1.00000000e+00\n",
      "  1.53134469e-03 1.15845011e-04 3.95949561e-04 2.85326075e-03\n",
      "  5.61005114e-07 5.06897115e-03 4.06546242e-03 1.14239968e-03\n",
      "  1.94714486e-04 3.31856524e-03 6.76940727e-04 8.62772133e-04\n",
      "  3.25924074e-04 9.06271455e-04 6.95255735e-03 1.93083646e-03\n",
      "  5.52709401e-04 1.90777990e-03 6.01095717e-04 4.20854838e-04\n",
      "  3.90630425e-03 2.25828735e-04 7.34689588e-04 6.84533887e-05\n",
      "  6.62431088e-05 5.67597243e-05 3.85764619e-08 8.17314507e-04\n",
      "  4.71531885e-07 6.00555653e-04 2.51160895e-07 1.14013304e-03\n",
      "  1.12499725e-04 1.18918162e-04 1.19303196e-07 1.26995454e-04\n",
      "  3.05762064e-04 8.47032810e-05 1.45737589e-04 9.63748029e-05\n",
      "  1.44645637e-04 9.12388256e-05 4.56161920e-04 4.10926394e-05\n",
      "  5.47876072e-05 7.61823693e-05 7.81359934e-05 8.15340914e-04\n",
      "  3.56204234e-04 1.79086533e-03 1.63461304e-04 1.42422163e-03\n",
      "  3.83910432e-04 9.97417246e-04 7.02148515e-04 2.85967688e-03\n",
      "  2.74010668e-03 8.22690304e-04 1.20597954e-03 2.10155357e-03\n",
      "  1.86395953e-03 1.45695090e-03 1.35454336e-03 7.91975871e-04\n",
      "  2.69332143e-04 2.10887463e-03 9.27520156e-04 1.29981337e-05\n",
      "  4.47363976e-03 8.15435272e-04 1.17576360e-03 7.53323907e-04\n",
      "  2.63353797e-04 1.10595608e-03 3.95226051e-04 1.73436324e-07\n",
      "  2.17094537e-04 4.80225871e-04 2.78411017e-03 1.26249394e-03\n",
      "  1.70701485e-05 6.19078737e-05 4.58383418e-04 9.55195094e-05\n",
      "  1.42060642e-03 3.72159000e-04 2.14305114e-03 1.08351218e-04\n",
      "  3.71610674e-04 2.80115032e-05 2.97521345e-04 1.66767419e-05\n",
      "  8.39346671e-04 8.08020588e-04 6.84219435e-04 2.23897439e-05]\n",
      " [4.25986980e-02 1.30502808e-06 3.07197936e-06 1.53134469e-03\n",
      "  1.00000000e+00 8.26936643e-02 5.57502387e-03 4.07463064e-01\n",
      "  2.58392737e-03 1.16314015e-01 1.92490357e-01 7.61002290e-02\n",
      "  4.05383406e-02 3.69081371e-02 1.37356896e-06 4.69267691e-06\n",
      "  2.36333556e-02 5.26746845e-02 2.01790491e-01 2.68698989e-02\n",
      "  1.10923851e-02 3.46530174e-02 4.62592835e-06 1.82076583e-02\n",
      "  6.35079166e-02 4.35100948e-07 6.95778082e-07 2.85365033e-07\n",
      "  2.14591507e-07 4.64125053e-07 1.23674228e-07 3.50083712e-07\n",
      "  1.51170789e-06 5.90176782e-07 8.05209399e-07 1.49079117e-06\n",
      "  8.88558915e-07 4.03533526e-07 3.82480144e-07 1.72944154e-07\n",
      "  1.01731908e-07 6.92677506e-04 1.02470117e-04 4.03479353e-07\n",
      "  4.26190587e-04 1.35946035e-06 5.63642112e-06 1.05065951e-06\n",
      "  0.00000000e+00 2.53158079e-07 3.65552781e-07 8.96261680e-08\n",
      "  3.17658281e-07 3.41123613e-05 6.39824327e-07 4.99079074e-07\n",
      "  4.95729807e-05 1.30445107e-03 5.72812579e-08 1.22170349e-04\n",
      "  6.12889039e-07 4.25136124e-07 1.06385959e-07 7.29126139e-08\n",
      "  1.68653467e-07 2.99428183e-07 2.01202753e-07 1.60587495e-07\n",
      "  8.24978880e-08 3.69183551e-04 1.70904383e-07 3.18615053e-07\n",
      "  3.87370791e-08 1.44346669e-04 1.30522552e-07 3.69676694e-07\n",
      "  4.29598814e-07 2.23489164e-04 1.37569244e-07 5.56028270e-07\n",
      "  4.68399315e-07 3.28808377e-07 7.32784107e-08 4.14673943e-04\n",
      "  2.65175482e-07 7.23197437e-08 1.57931751e-07 2.29094363e-07\n",
      "  2.28133451e-07 2.51462735e-04 2.03254877e-07 1.13873409e-07\n",
      "  2.28424919e-07 7.38998615e-05 8.89599126e-05 8.69141048e-08\n",
      "  1.22632689e-07 7.14165788e-05 1.32192220e-07 4.07188917e-07]]\n"
     ]
    }
   ],
   "source": [
    "print_numpy_array_infos(k_test, \"k_test\")"
   ]
  },
  {
   "cell_type": "markdown",
   "id": "2c566994",
   "metadata": {},
   "source": [
    "<strong>| Définition de la fonction <a href=\"#print_numpy_array_infos\"> print_numpy_array_infos</a> |</strong>"
   ]
  },
  {
   "cell_type": "code",
   "execution_count": 45,
   "id": "0556c7d9",
   "metadata": {},
   "outputs": [],
   "source": [
    "pandas_loaded_data = pd.DataFrame(k_test)"
   ]
  },
  {
   "cell_type": "markdown",
   "id": "6bef8215",
   "metadata": {},
   "source": [
    "<h5>Symmetric NMF</h5>"
   ]
  },
  {
   "cell_type": "code",
   "execution_count": 46,
   "id": "f4961a39",
   "metadata": {},
   "outputs": [],
   "source": [
    "H_symmetric = sym_nmf(k_test, 4)"
   ]
  },
  {
   "cell_type": "markdown",
   "id": "1583d93c",
   "metadata": {},
   "source": [
    "<strong>| Définition de la fonction <a href=\"#sym_nmf\"> sym_nmf</a> |</strong>"
   ]
  },
  {
   "cell_type": "markdown",
   "id": "2bbb6da9",
   "metadata": {},
   "source": [
    "<h5>H_symmetric</h5>"
   ]
  },
  {
   "cell_type": "code",
   "execution_count": 47,
   "id": "8c974cb5",
   "metadata": {},
   "outputs": [
    {
     "name": "stdout",
     "output_type": "stream",
     "text": [
      "ARRAY :  H_symmetric\n",
      "--- Type               :  <class 'numpy.ndarray'>\n",
      "--- Dimensions         :  (4, 100)\n",
      "--- Nombre de lignes   :  4\n",
      "--- Nombre de colonnes :  100\n",
      "--- Nombre totale des données décrites dans le dataset :  400\n",
      "--- Type des données :  float64\n",
      "\n",
      "\n",
      "AFFICHAGE (partie) : \n",
      " [[2.31126025e-01 3.40304838e-01 3.40832037e-01 3.25517183e-01\n",
      "  7.67605988e-02 2.09974733e-01 3.01910545e-01 0.00000000e+00\n",
      "  3.26426749e-01 1.55025294e-01 1.07015048e-01 1.95465136e-01\n",
      "  2.65525356e-01 2.53571197e-01 3.36930472e-01 3.36082134e-01\n",
      "  2.86384426e-01 2.12730403e-01 6.15711144e-02 2.52843097e-01\n",
      "  3.11789511e-01 2.27438059e-01 3.40771750e-01 2.81629887e-01\n",
      "  1.63246669e-01 3.30530325e-01 3.31563610e-01 3.30855444e-01\n",
      "  3.30135100e-01 3.30128210e-01 3.30756903e-01 3.30333827e-01\n",
      "  3.30343177e-01 3.27997461e-01 3.31997754e-01 3.30831230e-01\n",
      "  3.30556102e-01 3.31541762e-01 3.31000123e-01 3.29719193e-01\n",
      "  3.31024015e-01 3.30565872e-01 3.31384071e-01 3.33398488e-01\n",
      "  3.30615435e-01 3.32776131e-01 3.29393058e-01 3.30805425e-01\n",
      "  3.32655001e-01 3.30578391e-01 3.28626031e-01 3.29507570e-01\n",
      "  2.91633423e-01 2.15272475e-01 3.29130532e-01 3.12746424e-01\n",
      "  3.29815572e-01 2.83343782e-01 3.24520800e-01 3.21730632e-01\n",
      "  3.28657730e-01 3.20910205e-01 3.26055747e-01 1.24408356e-03\n",
      "  3.08646054e-01 9.59950226e-03 3.00449776e-01 3.26403132e-01\n",
      "  2.36013561e-01 3.14841920e-01 2.05745675e-01 3.30354478e-01\n",
      "  1.73117095e-01 3.28695775e-01 3.24410767e-01 3.30609627e-01\n",
      "  3.39584591e-01 3.39588104e-01 3.38026914e-01 3.28976640e-01\n",
      "  3.37551366e-01 0.00000000e+00 3.35688414e-01 3.36429365e-01\n",
      "  3.38001451e-01 3.29030681e-01 3.38902326e-01 3.39775419e-01\n",
      "  3.37903266e-01 3.33306163e-01 3.25531168e-01 3.23938224e-01\n",
      "  3.34627859e-01 3.29158772e-01 3.27607968e-01 3.36045595e-01\n",
      "  3.37173893e-01 3.27693427e-01 1.60730030e-04 3.32219062e-01]\n",
      " [7.68413500e-02 1.22946625e-01 1.24736403e-01 1.36456805e-01\n",
      "  3.62198377e-02 7.34916856e-02 1.08804020e-01 0.00000000e+00\n",
      "  1.33250213e-01 5.42876551e-02 4.32718251e-02 6.03322952e-02\n",
      "  9.99530912e-02 9.04869410e-02 1.30606380e-01 1.29586649e-01\n",
      "  1.02036789e-01 6.86515171e-02 1.84408954e-02 8.89704963e-02\n",
      "  1.24708925e-01 7.69532857e-02 1.21446885e-01 1.02340951e-01\n",
      "  4.15023755e-02 1.35042959e-01 1.34722615e-01 1.34570147e-01\n",
      "  1.37324129e-01 1.34871307e-01 1.35032246e-01 1.35191181e-01\n",
      "  1.35123814e-01 1.34656988e-01 1.34487492e-01 1.34985321e-01\n",
      "  1.34985797e-01 1.34764047e-01 1.34805912e-01 1.35450185e-01\n",
      "  1.34816468e-01 1.33943208e-01 1.34408282e-01 1.33733090e-01\n",
      "  1.34536419e-01 1.33800998e-01 1.34048283e-01 1.35008099e-01\n",
      "  1.34378866e-01 1.35046887e-01 1.46899030e-01 1.37743500e-01\n",
      "  2.09620524e-01 3.33123474e-01 1.38228659e-01 1.75632053e-01\n",
      "  1.36092857e-01 2.18054252e-01 1.50626008e-01 1.43384115e-01\n",
      "  1.40758845e-01 1.59531842e-01 1.49262449e-01 6.28559092e-01\n",
      "  1.85653634e-01 6.16990815e-01 1.89815541e-01 1.44727726e-01\n",
      "  2.96339660e-01 1.68932500e-01 3.46875410e-01 1.40310589e-01\n",
      "  3.98256571e-01 1.40497060e-01 1.53408081e-01 1.38035216e-01\n",
      "  1.13999296e-01 1.27890783e-01 1.29280875e-01 1.29428172e-01\n",
      "  1.26243397e-01 5.86755231e-02 1.29953224e-01 1.25159445e-01\n",
      "  1.24227986e-01 1.34936485e-01 1.24425147e-01 1.28427035e-01\n",
      "  1.25620693e-01 1.32931526e-01 1.19414266e-01 1.20746602e-01\n",
      "  1.28430870e-01 1.09925858e-01 1.39233440e-01 1.09020861e-01\n",
      "  1.28361971e-01 1.11071901e-01 5.84057151e-02 1.28283085e-01]\n",
      " [1.70010627e-01 1.78427867e-01 1.78650375e-01 1.87597483e-01\n",
      "  1.68172273e-01 1.72135210e-01 1.75187396e-01 1.52660620e-01\n",
      "  1.87284460e-01 1.68935152e-01 1.69087699e-01 1.64947219e-01\n",
      "  1.79025342e-01 1.75093417e-01 1.84283449e-01 1.86386842e-01\n",
      "  1.74462620e-01 1.68666554e-01 1.59326091e-01 1.74095559e-01\n",
      "  1.85252989e-01 1.69913673e-01 1.75537337e-01 1.78215815e-01\n",
      "  1.56979295e-01 1.87517361e-01 1.87411120e-01 1.88717290e-01\n",
      "  1.87102826e-01 1.87545304e-01 1.87579031e-01 1.87912401e-01\n",
      "  1.87680765e-01 1.87106326e-01 1.87191521e-01 1.88420266e-01\n",
      "  1.87901309e-01 1.87285702e-01 1.87511042e-01 1.87780633e-01\n",
      "  1.87935004e-01 1.87937837e-01 1.87653292e-01 1.86342950e-01\n",
      "  1.87325070e-01 1.86473107e-01 1.87155862e-01 1.87474043e-01\n",
      "  1.86703055e-01 1.87635964e-01 1.84360706e-01 1.87190126e-01\n",
      "  1.78627897e-01 1.64452937e-01 1.87205721e-01 1.79751110e-01\n",
      "  1.87622599e-01 1.77357430e-01 1.85255229e-01 1.84348996e-01\n",
      "  1.86990923e-01 1.83665632e-01 1.84341472e-01 1.24315255e-01\n",
      "  1.80436252e-01 1.27200716e-01 1.82937920e-01 1.86473660e-01\n",
      "  1.70414573e-01 1.80614640e-01 1.63662554e-01 1.86082831e-01\n",
      "  1.60006954e-01 1.86735186e-01 1.84596245e-01 1.87388194e-01\n",
      "  2.13720960e-01 2.01605528e-01 2.00114870e-01 2.11321670e-01\n",
      "  1.85141337e-01 7.98545686e-01 2.09551549e-01 2.10468717e-01\n",
      "  2.09177924e-01 1.92507287e-01 2.10519380e-01 1.97767404e-01\n",
      "  1.95127488e-01 1.88586933e-01 1.82552322e-01 2.31230524e-01\n",
      "  1.97393909e-01 2.43118906e-01 1.93442968e-01 2.33809973e-01\n",
      "  1.93975584e-01 2.51581386e-01 7.99233456e-01 1.83155898e-01]\n",
      " [4.28830256e-01 2.42297147e-01 2.34876959e-01 2.50185542e-01\n",
      "  6.12361512e-01 4.54715432e-01 2.98355239e-01 7.06866871e-01\n",
      "  2.51375530e-01 5.28556422e-01 5.82534290e-01 4.80942231e-01\n",
      "  3.65340904e-01 3.91789884e-01 2.42570276e-01 2.41884927e-01\n",
      "  3.24444561e-01 4.57962952e-01 6.49282703e-01 3.91735664e-01\n",
      "  2.81115946e-01 4.29819389e-01 2.35190437e-01 3.45007327e-01\n",
      "  5.30074738e-01 2.43799702e-01 2.43081774e-01 2.42898914e-01\n",
      "  2.42951980e-01 2.44419695e-01 2.43429068e-01 2.44490792e-01\n",
      "  2.43617932e-01 2.48459825e-01 2.43178605e-01 2.42919515e-01\n",
      "  2.43460045e-01 2.43171653e-01 2.43434074e-01 2.43991635e-01\n",
      "  2.43166982e-01 2.45176848e-01 2.43504527e-01 2.41335224e-01\n",
      "  2.44515947e-01 2.41615158e-01 2.46926621e-01 2.43571692e-01\n",
      "  2.42373802e-01 2.43503382e-01 2.41553562e-01 2.43556665e-01\n",
      "  2.45736021e-01 2.49660769e-01 2.43641882e-01 2.41203691e-01\n",
      "  2.43714128e-01 2.50401281e-01 2.43006663e-01 2.54940483e-01\n",
      "  2.43038933e-01 2.43019939e-01 2.43158727e-01 2.54665900e-01\n",
      "  2.42602593e-01 2.56193084e-01 2.45923498e-01 2.43314250e-01\n",
      "  2.50924209e-01 2.42706388e-01 2.51601004e-01 2.41825027e-01\n",
      "  2.48916480e-01 2.43630037e-01 2.42475100e-01 2.42067577e-01\n",
      "  2.11726439e-01 2.28342398e-01 2.25585551e-01 2.31221152e-01\n",
      "  2.44535432e-01 6.68498202e-02 2.22010052e-01 2.25478161e-01\n",
      "  2.21645142e-01 2.42159257e-01 2.22071010e-01 2.28005532e-01\n",
      "  2.34248938e-01 2.42542300e-01 2.66858330e-01 2.19919885e-01\n",
      "  2.37507557e-01 2.03040619e-01 2.41238000e-01 1.99856761e-01\n",
      "  2.33294323e-01 2.02598388e-01 6.60600452e-02 2.49585298e-01]]\n"
     ]
    }
   ],
   "source": [
    "print_numpy_array_infos(H_symmetric, \"H_symmetric\")"
   ]
  },
  {
   "cell_type": "markdown",
   "id": "ea6c52c9",
   "metadata": {},
   "source": [
    "<strong>| Définition de la fonction <a href=\"#print_numpy_array_infos\"> print_numpy_array_infos</a> |</strong>"
   ]
  },
  {
   "cell_type": "code",
   "execution_count": 48,
   "id": "a486a4f4",
   "metadata": {},
   "outputs": [
    {
     "data": {
      "text/html": [
       "<div>\n",
       "<style scoped>\n",
       "    .dataframe tbody tr th:only-of-type {\n",
       "        vertical-align: middle;\n",
       "    }\n",
       "\n",
       "    .dataframe tbody tr th {\n",
       "        vertical-align: top;\n",
       "    }\n",
       "\n",
       "    .dataframe thead th {\n",
       "        text-align: right;\n",
       "    }\n",
       "</style>\n",
       "<table border=\"1\" class=\"dataframe\">\n",
       "  <thead>\n",
       "    <tr style=\"text-align: right;\">\n",
       "      <th></th>\n",
       "      <th>0</th>\n",
       "      <th>1</th>\n",
       "      <th>2</th>\n",
       "      <th>3</th>\n",
       "      <th>4</th>\n",
       "      <th>5</th>\n",
       "      <th>6</th>\n",
       "      <th>7</th>\n",
       "      <th>8</th>\n",
       "      <th>9</th>\n",
       "      <th>...</th>\n",
       "      <th>90</th>\n",
       "      <th>91</th>\n",
       "      <th>92</th>\n",
       "      <th>93</th>\n",
       "      <th>94</th>\n",
       "      <th>95</th>\n",
       "      <th>96</th>\n",
       "      <th>97</th>\n",
       "      <th>98</th>\n",
       "      <th>99</th>\n",
       "    </tr>\n",
       "  </thead>\n",
       "  <tbody>\n",
       "    <tr>\n",
       "      <th>0</th>\n",
       "      <td>0.231126</td>\n",
       "      <td>0.340305</td>\n",
       "      <td>0.340832</td>\n",
       "      <td>0.325517</td>\n",
       "      <td>0.076761</td>\n",
       "      <td>0.209975</td>\n",
       "      <td>0.301911</td>\n",
       "      <td>0.000000</td>\n",
       "      <td>0.326427</td>\n",
       "      <td>0.155025</td>\n",
       "      <td>...</td>\n",
       "      <td>0.325531</td>\n",
       "      <td>0.323938</td>\n",
       "      <td>0.334628</td>\n",
       "      <td>0.329159</td>\n",
       "      <td>0.327608</td>\n",
       "      <td>0.336046</td>\n",
       "      <td>0.337174</td>\n",
       "      <td>0.327693</td>\n",
       "      <td>0.000161</td>\n",
       "      <td>0.332219</td>\n",
       "    </tr>\n",
       "    <tr>\n",
       "      <th>1</th>\n",
       "      <td>0.076841</td>\n",
       "      <td>0.122947</td>\n",
       "      <td>0.124736</td>\n",
       "      <td>0.136457</td>\n",
       "      <td>0.036220</td>\n",
       "      <td>0.073492</td>\n",
       "      <td>0.108804</td>\n",
       "      <td>0.000000</td>\n",
       "      <td>0.133250</td>\n",
       "      <td>0.054288</td>\n",
       "      <td>...</td>\n",
       "      <td>0.119414</td>\n",
       "      <td>0.120747</td>\n",
       "      <td>0.128431</td>\n",
       "      <td>0.109926</td>\n",
       "      <td>0.139233</td>\n",
       "      <td>0.109021</td>\n",
       "      <td>0.128362</td>\n",
       "      <td>0.111072</td>\n",
       "      <td>0.058406</td>\n",
       "      <td>0.128283</td>\n",
       "    </tr>\n",
       "    <tr>\n",
       "      <th>2</th>\n",
       "      <td>0.170011</td>\n",
       "      <td>0.178428</td>\n",
       "      <td>0.178650</td>\n",
       "      <td>0.187597</td>\n",
       "      <td>0.168172</td>\n",
       "      <td>0.172135</td>\n",
       "      <td>0.175187</td>\n",
       "      <td>0.152661</td>\n",
       "      <td>0.187284</td>\n",
       "      <td>0.168935</td>\n",
       "      <td>...</td>\n",
       "      <td>0.182552</td>\n",
       "      <td>0.231231</td>\n",
       "      <td>0.197394</td>\n",
       "      <td>0.243119</td>\n",
       "      <td>0.193443</td>\n",
       "      <td>0.233810</td>\n",
       "      <td>0.193976</td>\n",
       "      <td>0.251581</td>\n",
       "      <td>0.799233</td>\n",
       "      <td>0.183156</td>\n",
       "    </tr>\n",
       "    <tr>\n",
       "      <th>3</th>\n",
       "      <td>0.428830</td>\n",
       "      <td>0.242297</td>\n",
       "      <td>0.234877</td>\n",
       "      <td>0.250186</td>\n",
       "      <td>0.612362</td>\n",
       "      <td>0.454715</td>\n",
       "      <td>0.298355</td>\n",
       "      <td>0.706867</td>\n",
       "      <td>0.251376</td>\n",
       "      <td>0.528556</td>\n",
       "      <td>...</td>\n",
       "      <td>0.266858</td>\n",
       "      <td>0.219920</td>\n",
       "      <td>0.237508</td>\n",
       "      <td>0.203041</td>\n",
       "      <td>0.241238</td>\n",
       "      <td>0.199857</td>\n",
       "      <td>0.233294</td>\n",
       "      <td>0.202598</td>\n",
       "      <td>0.066060</td>\n",
       "      <td>0.249585</td>\n",
       "    </tr>\n",
       "  </tbody>\n",
       "</table>\n",
       "<p>4 rows × 100 columns</p>\n",
       "</div>"
      ],
      "text/plain": [
       "         0         1         2         3         4         5         6   \\\n",
       "0  0.231126  0.340305  0.340832  0.325517  0.076761  0.209975  0.301911   \n",
       "1  0.076841  0.122947  0.124736  0.136457  0.036220  0.073492  0.108804   \n",
       "2  0.170011  0.178428  0.178650  0.187597  0.168172  0.172135  0.175187   \n",
       "3  0.428830  0.242297  0.234877  0.250186  0.612362  0.454715  0.298355   \n",
       "\n",
       "         7         8         9   ...        90        91        92        93  \\\n",
       "0  0.000000  0.326427  0.155025  ...  0.325531  0.323938  0.334628  0.329159   \n",
       "1  0.000000  0.133250  0.054288  ...  0.119414  0.120747  0.128431  0.109926   \n",
       "2  0.152661  0.187284  0.168935  ...  0.182552  0.231231  0.197394  0.243119   \n",
       "3  0.706867  0.251376  0.528556  ...  0.266858  0.219920  0.237508  0.203041   \n",
       "\n",
       "         94        95        96        97        98        99  \n",
       "0  0.327608  0.336046  0.337174  0.327693  0.000161  0.332219  \n",
       "1  0.139233  0.109021  0.128362  0.111072  0.058406  0.128283  \n",
       "2  0.193443  0.233810  0.193976  0.251581  0.799233  0.183156  \n",
       "3  0.241238  0.199857  0.233294  0.202598  0.066060  0.249585  \n",
       "\n",
       "[4 rows x 100 columns]"
      ]
     },
     "execution_count": 48,
     "metadata": {},
     "output_type": "execute_result"
    }
   ],
   "source": [
    "pd.DataFrame(H_symmetric).head()"
   ]
  },
  {
   "cell_type": "code",
   "execution_count": 49,
   "id": "e502af2b",
   "metadata": {},
   "outputs": [],
   "source": [
    "# Enregistrement F\n",
    "pd.DataFrame(k_test).to_csv(K_TEST_POLY, index=False)"
   ]
  },
  {
   "cell_type": "code",
   "execution_count": 50,
   "id": "d3121968",
   "metadata": {},
   "outputs": [],
   "source": [
    "# Enregistrement F\n",
    "pd.DataFrame(H_symmetric).to_csv(H_SYMMETRIC_POLY, index=False)"
   ]
  },
  {
   "cell_type": "markdown",
   "id": "b0f6d5a4",
   "metadata": {},
   "source": [
    "<h5>Indices</h5>"
   ]
  },
  {
   "cell_type": "markdown",
   "id": "86e77a7b",
   "metadata": {},
   "source": [
    "<h6><font color='#353b38'>Indices Externes</font></h6>"
   ]
  },
  {
   "cell_type": "markdown",
   "id": "233c4c9a",
   "metadata": {},
   "source": [
    "<i>- Pureté</i>"
   ]
  },
  {
   "cell_type": "code",
   "execution_count": 51,
   "id": "6976d0ce",
   "metadata": {},
   "outputs": [
    {
     "name": "stdout",
     "output_type": "stream",
     "text": [
      "------------------------------------------------------------- \n",
      "---- Détermination des labels suivant la matrice de partition \n",
      "------------------------------------------------------------- \n",
      "--------------------------------\n",
      "---- colonne :  0\n",
      "---- label associé :  4\n",
      "--------------------------------\n",
      "---- colonne :  1\n",
      "---- label associé :  1\n",
      "--------------------------------\n",
      "---- colonne :  2\n",
      "---- label associé :  1\n",
      "--------------------------------\n",
      "---- colonne :  3\n",
      "---- label associé :  1\n",
      "--------------------------------\n",
      "---- colonne :  4\n",
      "---- label associé :  4\n",
      "--------------------------------\n",
      "---- colonne :  5\n",
      "---- label associé :  4\n",
      "--------------------------------\n",
      "---- colonne :  6\n",
      "---- label associé :  1\n",
      "--------------------------------\n",
      "---- colonne :  7\n",
      "---- label associé :  4\n",
      "--------------------------------\n",
      "---- colonne :  8\n",
      "---- label associé :  1\n",
      "--------------------------------\n",
      "---- colonne :  9\n",
      "---- label associé :  4\n",
      "--------------------------------\n",
      "---- colonne :  10\n",
      "---- label associé :  4\n",
      "--------------------------------\n",
      "---- colonne :  11\n",
      "---- label associé :  4\n",
      "--------------------------------\n",
      "---- colonne :  12\n",
      "---- label associé :  4\n",
      "--------------------------------\n",
      "---- colonne :  13\n",
      "---- label associé :  4\n",
      "--------------------------------\n",
      "---- colonne :  14\n",
      "---- label associé :  1\n",
      "--------------------------------\n",
      "---- colonne :  15\n",
      "---- label associé :  1\n",
      "--------------------------------\n",
      "---- colonne :  16\n",
      "---- label associé :  4\n",
      "--------------------------------\n",
      "---- colonne :  17\n",
      "---- label associé :  4\n",
      "--------------------------------\n",
      "---- colonne :  18\n",
      "---- label associé :  4\n",
      "--------------------------------\n",
      "---- colonne :  19\n",
      "---- label associé :  4\n",
      "--------------------------------\n",
      "---- colonne :  20\n",
      "---- label associé :  1\n",
      "--------------------------------\n",
      "---- colonne :  21\n",
      "---- label associé :  4\n",
      "--------------------------------\n",
      "---- colonne :  22\n",
      "---- label associé :  1\n",
      "--------------------------------\n",
      "---- colonne :  23\n",
      "---- label associé :  4\n",
      "--------------------------------\n",
      "---- colonne :  24\n",
      "---- label associé :  4\n",
      "--------------------------------\n",
      "---- colonne :  25\n",
      "---- label associé :  1\n",
      "--------------------------------\n",
      "---- colonne :  26\n",
      "---- label associé :  1\n",
      "--------------------------------\n",
      "---- colonne :  27\n",
      "---- label associé :  1\n",
      "--------------------------------\n",
      "---- colonne :  28\n",
      "---- label associé :  1\n",
      "--------------------------------\n",
      "---- colonne :  29\n",
      "---- label associé :  1\n",
      "--------------------------------\n",
      "---- colonne :  30\n",
      "---- label associé :  1\n",
      "--------------------------------\n",
      "---- colonne :  31\n",
      "---- label associé :  1\n",
      "--------------------------------\n",
      "---- colonne :  32\n",
      "---- label associé :  1\n",
      "--------------------------------\n",
      "---- colonne :  33\n",
      "---- label associé :  1\n",
      "--------------------------------\n",
      "---- colonne :  34\n",
      "---- label associé :  1\n",
      "--------------------------------\n",
      "---- colonne :  35\n",
      "---- label associé :  1\n",
      "--------------------------------\n",
      "---- colonne :  36\n",
      "---- label associé :  1\n",
      "--------------------------------\n",
      "---- colonne :  37\n",
      "---- label associé :  1\n",
      "--------------------------------\n",
      "---- colonne :  38\n",
      "---- label associé :  1\n",
      "--------------------------------\n",
      "---- colonne :  39\n",
      "---- label associé :  1\n",
      "--------------------------------\n",
      "---- colonne :  40\n",
      "---- label associé :  1\n",
      "--------------------------------\n",
      "---- colonne :  41\n",
      "---- label associé :  1\n",
      "--------------------------------\n",
      "---- colonne :  42\n",
      "---- label associé :  1\n",
      "--------------------------------\n",
      "---- colonne :  43\n",
      "---- label associé :  1\n",
      "--------------------------------\n",
      "---- colonne :  44\n",
      "---- label associé :  1\n",
      "--------------------------------\n",
      "---- colonne :  45\n",
      "---- label associé :  1\n",
      "--------------------------------\n",
      "---- colonne :  46\n",
      "---- label associé :  1\n",
      "--------------------------------\n",
      "---- colonne :  47\n",
      "---- label associé :  1\n",
      "--------------------------------\n",
      "---- colonne :  48\n",
      "---- label associé :  1\n",
      "--------------------------------\n",
      "---- colonne :  49\n",
      "---- label associé :  1\n",
      "--------------------------------\n",
      "---- colonne :  50\n",
      "---- label associé :  1\n",
      "--------------------------------\n",
      "---- colonne :  51\n",
      "---- label associé :  1\n",
      "--------------------------------\n",
      "---- colonne :  52\n",
      "---- label associé :  1\n",
      "--------------------------------\n",
      "---- colonne :  53\n",
      "---- label associé :  2\n",
      "--------------------------------\n",
      "---- colonne :  54\n",
      "---- label associé :  1\n",
      "--------------------------------\n",
      "---- colonne :  55\n",
      "---- label associé :  1\n",
      "--------------------------------\n",
      "---- colonne :  56\n",
      "---- label associé :  1\n",
      "--------------------------------\n",
      "---- colonne :  57\n",
      "---- label associé :  1\n",
      "--------------------------------\n",
      "---- colonne :  58\n",
      "---- label associé :  1\n",
      "--------------------------------\n",
      "---- colonne :  59\n",
      "---- label associé :  1\n",
      "--------------------------------\n",
      "---- colonne :  60\n",
      "---- label associé :  1\n",
      "--------------------------------\n",
      "---- colonne :  61\n",
      "---- label associé :  1\n",
      "--------------------------------\n",
      "---- colonne :  62\n",
      "---- label associé :  1\n",
      "--------------------------------\n",
      "---- colonne :  63\n",
      "---- label associé :  2\n",
      "--------------------------------\n",
      "---- colonne :  64\n",
      "---- label associé :  1\n",
      "--------------------------------\n",
      "---- colonne :  65\n",
      "---- label associé :  2\n",
      "--------------------------------\n",
      "---- colonne :  66\n",
      "---- label associé :  1\n",
      "--------------------------------\n",
      "---- colonne :  67\n",
      "---- label associé :  1\n",
      "--------------------------------\n",
      "---- colonne :  68\n",
      "---- label associé :  2\n",
      "--------------------------------\n",
      "---- colonne :  69\n",
      "---- label associé :  1\n",
      "--------------------------------\n",
      "---- colonne :  70\n",
      "---- label associé :  2\n",
      "--------------------------------\n",
      "---- colonne :  71\n",
      "---- label associé :  1\n",
      "--------------------------------\n",
      "---- colonne :  72\n",
      "---- label associé :  2\n",
      "--------------------------------\n",
      "---- colonne :  73\n",
      "---- label associé :  1\n",
      "--------------------------------\n",
      "---- colonne :  74\n",
      "---- label associé :  1\n",
      "--------------------------------\n",
      "---- colonne :  75\n",
      "---- label associé :  1\n",
      "--------------------------------\n",
      "---- colonne :  76\n",
      "---- label associé :  1\n",
      "--------------------------------\n",
      "---- colonne :  77\n",
      "---- label associé :  1\n",
      "--------------------------------\n",
      "---- colonne :  78\n",
      "---- label associé :  1\n",
      "--------------------------------\n",
      "---- colonne :  79\n",
      "---- label associé :  1\n",
      "--------------------------------\n",
      "---- colonne :  80\n",
      "---- label associé :  1\n",
      "--------------------------------\n",
      "---- colonne :  81\n",
      "---- label associé :  3\n",
      "--------------------------------\n",
      "---- colonne :  82\n",
      "---- label associé :  1\n",
      "--------------------------------\n",
      "---- colonne :  83\n",
      "---- label associé :  1\n",
      "--------------------------------\n",
      "---- colonne :  84\n",
      "---- label associé :  1\n",
      "--------------------------------\n",
      "---- colonne :  85\n",
      "---- label associé :  1\n",
      "--------------------------------\n",
      "---- colonne :  86\n",
      "---- label associé :  1\n",
      "--------------------------------\n",
      "---- colonne :  87\n",
      "---- label associé :  1\n",
      "--------------------------------\n",
      "---- colonne :  88\n",
      "---- label associé :  1\n",
      "--------------------------------\n",
      "---- colonne :  89\n",
      "---- label associé :  1\n",
      "--------------------------------\n",
      "---- colonne :  90\n",
      "---- label associé :  1\n",
      "--------------------------------\n",
      "---- colonne :  91\n",
      "---- label associé :  1\n",
      "--------------------------------\n",
      "---- colonne :  92\n",
      "---- label associé :  1\n",
      "--------------------------------\n",
      "---- colonne :  93\n",
      "---- label associé :  1\n",
      "--------------------------------\n",
      "---- colonne :  94\n",
      "---- label associé :  1\n",
      "--------------------------------\n",
      "---- colonne :  95\n",
      "---- label associé :  1\n",
      "--------------------------------\n",
      "---- colonne :  96\n",
      "---- label associé :  1\n",
      "--------------------------------\n",
      "---- colonne :  97\n",
      "---- label associé :  1\n",
      "--------------------------------\n",
      "---- colonne :  98\n",
      "---- label associé :  3\n",
      "--------------------------------\n",
      "---- colonne :  99\n",
      "---- label associé :  1\n",
      "--------------------------------\n"
     ]
    }
   ],
   "source": [
    "H_symmetric_index_purity = calcul_purety_index(H_symmetric)"
   ]
  },
  {
   "cell_type": "markdown",
   "id": "d8889fbe",
   "metadata": {},
   "source": [
    "<strong>| Définition de la fonction <a href=\"#calcul_purety_index\"> calcul_purety_index</a> |</strong>"
   ]
  },
  {
   "cell_type": "code",
   "execution_count": 52,
   "id": "f2604863",
   "metadata": {},
   "outputs": [
    {
     "name": "stdout",
     "output_type": "stream",
     "text": [
      "ARRAY :  H_test_index_purity\n",
      "--- Type               :  <class 'numpy.ndarray'>\n",
      "--- Dimensions         :  (100, 1)\n",
      "--- Nombre de lignes   :  100\n",
      "--- Nombre de colonnes :  1\n",
      "--- Nombre totale des données décrites dans le dataset :  100\n",
      "--- Type des données :  int64\n",
      "\n",
      "\n",
      "AFFICHAGE (partie) : \n",
      " [[4]\n",
      " [1]\n",
      " [1]\n",
      " [1]\n",
      " [4]]\n"
     ]
    }
   ],
   "source": [
    "print_numpy_array_infos(H_symmetric_index_purity, \"H_test_index_purity\")"
   ]
  },
  {
   "cell_type": "markdown",
   "id": "92d25951",
   "metadata": {},
   "source": [
    "<strong>| Définition de la fonction <a href=\"#print_numpy_array_infos\"> print_numpy_array_infos</a> |</strong>"
   ]
  },
  {
   "cell_type": "code",
   "execution_count": 53,
   "id": "03c1b18c",
   "metadata": {},
   "outputs": [
    {
     "data": {
      "text/html": [
       "<div>\n",
       "<style scoped>\n",
       "    .dataframe tbody tr th:only-of-type {\n",
       "        vertical-align: middle;\n",
       "    }\n",
       "\n",
       "    .dataframe tbody tr th {\n",
       "        vertical-align: top;\n",
       "    }\n",
       "\n",
       "    .dataframe thead th {\n",
       "        text-align: right;\n",
       "    }\n",
       "</style>\n",
       "<table border=\"1\" class=\"dataframe\">\n",
       "  <thead>\n",
       "    <tr style=\"text-align: right;\">\n",
       "      <th></th>\n",
       "      <th>0</th>\n",
       "    </tr>\n",
       "  </thead>\n",
       "  <tbody>\n",
       "    <tr>\n",
       "      <th>0</th>\n",
       "      <td>4</td>\n",
       "    </tr>\n",
       "    <tr>\n",
       "      <th>1</th>\n",
       "      <td>1</td>\n",
       "    </tr>\n",
       "    <tr>\n",
       "      <th>2</th>\n",
       "      <td>1</td>\n",
       "    </tr>\n",
       "    <tr>\n",
       "      <th>3</th>\n",
       "      <td>1</td>\n",
       "    </tr>\n",
       "    <tr>\n",
       "      <th>4</th>\n",
       "      <td>4</td>\n",
       "    </tr>\n",
       "  </tbody>\n",
       "</table>\n",
       "</div>"
      ],
      "text/plain": [
       "   0\n",
       "0  4\n",
       "1  1\n",
       "2  1\n",
       "3  1\n",
       "4  4"
      ]
     },
     "execution_count": 53,
     "metadata": {},
     "output_type": "execute_result"
    }
   ],
   "source": [
    "pd.DataFrame(H_symmetric_index_purity).head()"
   ]
  },
  {
   "cell_type": "code",
   "execution_count": 54,
   "id": "0e7f3227",
   "metadata": {},
   "outputs": [
    {
     "name": "stdout",
     "output_type": "stream",
     "text": [
      "-------------------------------------- \n",
      "---- Calcul de la pureté de la matrice \n",
      "-------------------------------------- \n"
     ]
    }
   ],
   "source": [
    "H_symmetric_purity = calcul_purety(H_symmetric_index_purity, labels_test)"
   ]
  },
  {
   "cell_type": "markdown",
   "id": "6e229494",
   "metadata": {},
   "source": [
    "<strong>| Définition de la fonction <a href=\"#calcul_purety\"> calcul_purety</a> |</strong>"
   ]
  },
  {
   "cell_type": "code",
   "execution_count": 55,
   "id": "a9d165ec",
   "metadata": {},
   "outputs": [
    {
     "name": "stdout",
     "output_type": "stream",
     "text": [
      "---- Purity =  0.83\n"
     ]
    }
   ],
   "source": [
    "print(\"---- Purity = \", H_symmetric_purity)"
   ]
  },
  {
   "cell_type": "markdown",
   "id": "2e19c48d",
   "metadata": {},
   "source": [
    "<i>- Entropy</i>"
   ]
  },
  {
   "cell_type": "code",
   "execution_count": 56,
   "id": "6ffe5396",
   "metadata": {},
   "outputs": [
    {
     "name": "stdout",
     "output_type": "stream",
     "text": [
      "----------------------------------------------------- \n",
      "---- Calcul de l'entropie de la matrice de la matrice \n",
      "----------------------------------------------------- \n",
      "---- classes prises : [1.0, 2.0, 3.0, 4.0]\n",
      "---- entropie mpoyenne : 0.332\n",
      "---- entropies des clusters : {1.0: 1.326, 2.0: -0.0, 3.0: -0.0, 4.0: -0.0}\n",
      "----------------------------------------------------- \n"
     ]
    },
    {
     "data": {
      "text/plain": [
       "(0.332, {1.0: 1.326, 2.0: -0.0, 3.0: -0.0, 4.0: -0.0})"
      ]
     },
     "execution_count": 56,
     "metadata": {},
     "output_type": "execute_result"
    }
   ],
   "source": [
    "calcul_entropy(H_symmetric_index_purity, labels_test)"
   ]
  },
  {
   "cell_type": "markdown",
   "id": "579cbb63",
   "metadata": {},
   "source": [
    "<strong>| Définition de la fonction <a href=\"#calcul_entropy\"> calcul_entropy</a> |</strong>"
   ]
  },
  {
   "cell_type": "markdown",
   "id": "b3718795",
   "metadata": {},
   "source": [
    "<h6><font color='#353b38'>Indices Externes</font></h6>"
   ]
  },
  {
   "cell_type": "markdown",
   "id": "f1944a28",
   "metadata": {},
   "source": [
    "<i>- Davies&amp;Bouldin-DB</i>"
   ]
  },
  {
   "cell_type": "code",
   "execution_count": 57,
   "id": "42eb580c",
   "metadata": {},
   "outputs": [
    {
     "name": "stdout",
     "output_type": "stream",
     "text": [
      "------------------------------------------------------- \n",
      "---- Calcul de l'indice Davies&Bouldin-DB de la matrice \n",
      "------------------------------------------------------- \n",
      "---- DB Score :  1.50154784027035\n",
      "------------------------------------------------------- \n"
     ]
    }
   ],
   "source": [
    "DB_H_symmetric = calcul_DB(np.transpose(H_symmetric), labels_test.reshape(-1))"
   ]
  },
  {
   "cell_type": "markdown",
   "id": "dea9cd08",
   "metadata": {},
   "source": [
    "<i>- Calinsky&amp;Harabsz-CH</i>"
   ]
  },
  {
   "cell_type": "code",
   "execution_count": 58,
   "id": "28f5415b",
   "metadata": {},
   "outputs": [
    {
     "name": "stdout",
     "output_type": "stream",
     "text": [
      "--------------------------------------------------------- \n",
      "---- Calcul de l'indice Calinsky&Harabsz-CH de la matrice \n",
      "--------------------------------------------------------- \n",
      "---- DB Score :  13.575354718864608\n",
      "--------------------------------------------------------- \n"
     ]
    }
   ],
   "source": [
    "CH_H_symmetric = calcul_CH(np.transpose(H_symmetric), labels_test.reshape(-1))"
   ]
  },
  {
   "cell_type": "markdown",
   "id": "6b7b5f05",
   "metadata": {},
   "source": [
    "<i>- Krzanowski&amp;Lai-KL</i>"
   ]
  },
  {
   "cell_type": "code",
   "execution_count": 59,
   "id": "e3c43ec3",
   "metadata": {
    "scrolled": true
   },
   "outputs": [
    {
     "name": "stdout",
     "output_type": "stream",
     "text": [
      "------------------------------------------------------- \n",
      "---- Calcul de l'indice Krzanowski&Lai-KL de la matrice \n",
      "------------------------------------------------------- \n"
     ]
    }
   ],
   "source": [
    "KL_H_symmetric = calcul_KL(np.transpose(H_symmetric), labels_test)"
   ]
  },
  {
   "cell_type": "code",
   "execution_count": 60,
   "id": "5b223ee5",
   "metadata": {},
   "outputs": [
    {
     "name": "stdout",
     "output_type": "stream",
     "text": [
      "---- Krzanowski&Lai-KL =  -57.70055654140862\n"
     ]
    }
   ],
   "source": [
    "print(\"---- Krzanowski&Lai-KL = \", KL_H_symmetric)"
   ]
  },
  {
   "cell_type": "markdown",
   "id": "ffa972f7",
   "metadata": {},
   "source": [
    "<i>- Dunn</i>"
   ]
  },
  {
   "cell_type": "code",
   "execution_count": 61,
   "id": "8972f09a",
   "metadata": {},
   "outputs": [
    {
     "name": "stdout",
     "output_type": "stream",
     "text": [
      "------------------------------------------------------- \n",
      "---- Calcul de l'indice Dunn de la matrice \n",
      "------------------------------------------------------- \n",
      "---- classes prises : [1.0, 2.0, 3.0, 4.0]\n"
     ]
    }
   ],
   "source": [
    "Dunn_H_symmetric = calcul_Dunn(np.transpose(H_symmetric), labels_test)"
   ]
  },
  {
   "cell_type": "markdown",
   "id": "be62fc96",
   "metadata": {},
   "source": [
    "<strong><font color='#5a84ba'>Question 4.c/</font></strong>"
   ]
  },
  {
   "cell_type": "markdown",
   "id": "848fb74f",
   "metadata": {},
   "source": [
    "<h5>Visualisation</h5>"
   ]
  },
  {
   "cell_type": "markdown",
   "id": "02d5725f",
   "metadata": {},
   "source": [
    "<i>- 3D</i>"
   ]
  },
  {
   "cell_type": "code",
   "execution_count": 62,
   "id": "8094b56f",
   "metadata": {},
   "outputs": [
    {
     "name": "stdout",
     "output_type": "stream",
     "text": [
      "------------------------------------------------------- \n",
      "---- plot clusters \n",
      "------------------------------------------------------- \n"
     ]
    },
    {
     "data": {
      "image/png": "[encoded data removed]",
      "text/plain": [
       "<Figure size 432x288 with 1 Axes>"
      ]
     },
     "metadata": {
      "needs_background": "light"
     },
     "output_type": "display_data"
    },
    {
     "name": "stdout",
     "output_type": "stream",
     "text": [
      "------------------------------------------------------- \n",
      "---- plot clusters \n",
      "------------------------------------------------------- \n"
     ]
    },
    {
     "data": {
      "image/png": "[encoded data removed]",
      "text/plain": [
       "<Figure size 432x288 with 1 Axes>"
      ]
     },
     "metadata": {
      "needs_background": "light"
     },
     "output_type": "display_data"
    },
    {
     "name": "stdout",
     "output_type": "stream",
     "text": [
      "------------------------------------------------------- \n",
      "---- plot clusters \n",
      "------------------------------------------------------- \n"
     ]
    },
    {
     "data": {
      "image/png": "[encoded data removed]",
      "text/plain": [
       "<Figure size 432x288 with 1 Axes>"
      ]
     },
     "metadata": {
      "needs_background": "light"
     },
     "output_type": "display_data"
    }
   ],
   "source": [
    "plot_clusters3D(np.transpose(H_symmetric), labels_test, VI_SYM_NMF_3D_H_SYMMETRIC_POLY_PNG)\n",
    "plot_clusters3D(np.transpose(H_symmetric), labels_test, VI_SYM_NMF_3D_H_SYMMETRIC_POLY_JPG)\n",
    "plot_clusters3D(np.transpose(H_symmetric), labels_test, VI_SYM_NMF_3D_H_SYMMETRIC_POLY_PDF)"
   ]
  },
  {
   "cell_type": "markdown",
   "id": "1da98e52",
   "metadata": {},
   "source": [
    "<strong>| Définition de la fonction <a href=\"#plot_clusters3D\"> plot_clusters3D</a> |</strong>"
   ]
  },
  {
   "cell_type": "markdown",
   "id": "a609eddf",
   "metadata": {},
   "source": [
    "<i>- 2D</i>"
   ]
  },
  {
   "cell_type": "code",
   "execution_count": 63,
   "id": "316caa98",
   "metadata": {},
   "outputs": [
    {
     "name": "stdout",
     "output_type": "stream",
     "text": [
      "------------------------------------------------------- \n",
      "---- plot clusters \n",
      "------------------------------------------------------- \n"
     ]
    },
    {
     "data": {
      "image/png": "[encoded data removed]",
      "text/plain": [
       "<Figure size 432x288 with 6 Axes>"
      ]
     },
     "metadata": {
      "needs_background": "light"
     },
     "output_type": "display_data"
    },
    {
     "name": "stdout",
     "output_type": "stream",
     "text": [
      "------------------------------------------------------- \n",
      "---- plot clusters \n",
      "------------------------------------------------------- \n"
     ]
    },
    {
     "data": {
      "image/png": "[encoded data removed]",
      "text/plain": [
       "<Figure size 432x288 with 6 Axes>"
      ]
     },
     "metadata": {
      "needs_background": "light"
     },
     "output_type": "display_data"
    },
    {
     "name": "stdout",
     "output_type": "stream",
     "text": [
      "------------------------------------------------------- \n",
      "---- plot clusters \n",
      "------------------------------------------------------- \n"
     ]
    },
    {
     "data": {
      "image/png": "[encoded data removed]",
      "text/plain": [
       "<Figure size 432x288 with 6 Axes>"
      ]
     },
     "metadata": {
      "needs_background": "light"
     },
     "output_type": "display_data"
    }
   ],
   "source": [
    "plot_clusters2D(np.transpose(H_symmetric), labels_test, VI_SYM_NMF_2D_H_SYMMETRIC_POLY_PNG)\n",
    "plot_clusters2D(np.transpose(H_symmetric), labels_test, VI_SYM_NMF_2D_H_SYMMETRIC_POLY_JPG)\n",
    "plot_clusters2D(np.transpose(H_symmetric), labels_test, VI_SYM_NMF_2D_H_SYMMETRIC_POLY_PDF)"
   ]
  },
  {
   "cell_type": "markdown",
   "id": "ad153594",
   "metadata": {},
   "source": [
    "<strong>| Définition de la fonction <a href=\"#plot_clusters2D\"> plot_clusters2D</a> |</strong>"
   ]
  },
  {
   "cell_type": "markdown",
   "id": "74fcf440",
   "metadata": {},
   "source": [
    "<hr>\n",
    "<div style=\"display: flex;\">\n",
    "    <div style=\"margin: 10px;\"><strong><a href=\"./V-Orthogonal NMF.ipynb\">précédent</a></strong></div>\n",
    "    <div style=\"margin: 10px;\"><strong><a href=\"./VII-Conclusion.ipynb\">suivant</a></strong></div>\n",
    "</div>"
   ]
  }
 ],
 "metadata": {
  "kernelspec": {
   "display_name": "Python 3 (ipykernel)",
   "language": "python",
   "name": "python3"
  },
  "language_info": {
   "codemirror_mode": {
    "name": "ipython",
    "version": 3
   },
   "file_extension": ".py",
   "mimetype": "text/x-python",
   "name": "python",
   "nbconvert_exporter": "python",
   "pygments_lexer": "ipython3",
   "version": "3.8.13"
  }
 },
 "nbformat": 4,
 "nbformat_minor": 5
}
