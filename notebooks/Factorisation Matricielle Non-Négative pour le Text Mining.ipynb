{
 "cells": [
  {
   "cell_type": "code",
   "execution_count": 1,
   "id": "40c2ea22",
   "metadata": {},
   "outputs": [],
   "source": [
    "# Packages Importation\n",
    "import scipy.io\n",
    "import os\n",
    "import pandas as pd\n",
    "import math\n",
    "\n",
    "\n",
    "from numpy import *\n",
    "from matplotlib.pyplot import *\n",
    "\n",
    "\n",
    "from sklearn.decomposition import NMF\n",
    "from sklearn.metrics import calinski_harabasz_score, davies_bouldin_score\n",
    "from sklearn.gaussian_process import GaussianProcessClassifier\n",
    "from sklearn.gaussian_process.kernels import RBF\n",
    "from sklearn.metrics.pairwise import polynomial_kernel\n",
    "from sklearn import metrics\n",
    "\n",
    "from scipy.optimize import linear_sum_assignment"
   ]
  },
  {
   "cell_type": "markdown",
   "id": "cb2389fd",
   "metadata": {},
   "source": [
    "<hr>"
   ]
  },
  {
   "cell_type": "markdown",
   "id": "23061810",
   "metadata": {},
   "source": [
    "// k élements les plus fréquents de il faut voir qi l'on doit utiliser des méthodes matricielles ou non. Projeter sur ce qui doit être atteint à la fin du projet "
   ]
  },
  {
   "cell_type": "markdown",
   "id": "04f5e1ae",
   "metadata": {},
   "source": [
    "// Il faut faire attention à savoir quels clusters à utiliser. Devons nous effectuer une approche de k-means ou quoi ?\n",
    "// L'idée est de réduire la dimension vers 3 à partir des 18... termes. Nous supposons que les 400 documents resterons les mêmes (ils formeront les points après).\n",
    "// Donc il faut une technique qui réduit les dimensions comme l'ACP."
   ]
  },
  {
   "cell_type": "markdown",
   "id": "a6b69c11",
   "metadata": {},
   "source": [
    "Quand il s'agit de clustering utiliser tous les algorithmes possibles : <br> \n",
    "https://scikit-learn.org/stable/modules/clustering.html"
   ]
  },
  {
   "cell_type": "code",
   "execution_count": 61,
   "id": "3e0ede5c",
   "metadata": {},
   "outputs": [],
   "source": [
    "def plot_clusters(data, label) :\n",
    "    # Plot\n",
    "    print(\"plot clusters \")\n",
    "    \n",
    "    # Enregistrement des figures"
   ]
  },
  {
   "cell_type": "code",
   "execution_count": 62,
   "id": "5c364748",
   "metadata": {},
   "outputs": [
    {
     "name": "stdout",
     "output_type": "stream",
     "text": [
      "plot clusters \n"
     ]
    }
   ],
   "source": [
    "plot_clusters(reut_train_r, labels_train_r)"
   ]
  },
  {
   "cell_type": "markdown",
   "id": "01c6db3a",
   "metadata": {},
   "source": [
    "<hr>\n",
    "<h4><strong><font color='#353b38'>Partie 3 : Application de la tri-NMF </font></strong></h4>"
   ]
  },
  {
   "cell_type": "markdown",
   "id": "ed3bdff3",
   "metadata": {},
   "source": [
    "Il faut voir s'il faut faire le travail sur la version de 75 objets par classes (training)"
   ]
  },
  {
   "cell_type": "markdown",
   "id": "547a5abf",
   "metadata": {},
   "source": [
    "// Pouruquoi ne pas utiliser k plus fréquent ?<br>\n",
    "// Une meilleure écriture de la [1, 1, 1]"
   ]
  },
  {
   "cell_type": "markdown",
   "id": "765aeec3",
   "metadata": {},
   "source": [
    "<hr>\n",
    "<h4><strong><font color='#353b38'>Partie 4 : Application de la NMF Symétrique</font></strong></h4>"
   ]
  },
  {
   "cell_type": "markdown",
   "id": "765cd472",
   "metadata": {},
   "source": [
    "<h5>Calcul de la matrice Gram</h5>"
   ]
  },
  {
   "cell_type": "markdown",
   "id": "a7cee164",
   "metadata": {},
   "source": [
    "// Expliquer ce que c'est que la mtrice de Gram <br>\n",
    "// Expliquer ce que c'est que RBF et pourquoi l'avoir choisi <br>"
   ]
  },
  {
   "cell_type": "code",
   "execution_count": 146,
   "id": "fab49439",
   "metadata": {},
   "outputs": [
    {
     "data": {
      "text/plain": [
       "1**2 * RBF(length_scale=1)"
      ]
     },
     "execution_count": 146,
     "metadata": {},
     "output_type": "execute_result"
    }
   ],
   "source": [
    "kernel = 1.0 * RBF(1.0)\n",
    "kernel"
   ]
  },
  {
   "cell_type": "markdown",
   "id": "bf8f1b4c",
   "metadata": {},
   "source": [
    "// Explication que la valeur prise est sigma = 1"
   ]
  },
  {
   "cell_type": "markdown",
   "id": "3123a5f0",
   "metadata": {},
   "source": [
    "// Est ce qu'il n'y a que le Gaussian process classifier ?"
   ]
  },
  {
   "cell_type": "markdown",
   "id": "e1a6ece2",
   "metadata": {},
   "source": [
    "<hr>\n",
    "<h4><strong><font color='#353b38'>Partie 5 : Comparaison des résultats </font></strong></h4>"
   ]
  },
  {
   "cell_type": "markdown",
   "id": "4f4fee4a",
   "metadata": {},
   "source": [
    "// Il faut dire l'approche générale des 4 parties <br>\n",
    "// Comparer les résultats en termes de forme et de métriques <br>"
   ]
  },
  {
   "cell_type": "code",
   "execution_count": null,
   "id": "7fb8947f",
   "metadata": {},
   "outputs": [],
   "source": [
    "    "
   ]
  }
 ],
 "metadata": {
  "kernelspec": {
   "display_name": "Python 3 (ipykernel)",
   "language": "python",
   "name": "python3"
  },
  "language_info": {
   "codemirror_mode": {
    "name": "ipython",
    "version": 3
   },
   "file_extension": ".py",
   "mimetype": "text/x-python",
   "name": "python",
   "nbconvert_exporter": "python",
   "pygments_lexer": "ipython3",
   "version": "3.8.13"
  }
 },
 "nbformat": 4,
 "nbformat_minor": 5
}
