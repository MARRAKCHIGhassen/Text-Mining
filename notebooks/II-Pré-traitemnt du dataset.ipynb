{
 "cells": [
  {
   "cell_type": "markdown",
   "id": "c75f6c9f",
   "metadata": {},
   "source": [
    "<center>&copy; | Ghassen <strong>MARRAKCHI</strong> - 2022</center>"
   ]
  },
  {
   "cell_type": "markdown",
   "id": "3b586ed1",
   "metadata": {},
   "source": [
    "<img src=\"../__src/Institut_Galilee.png\" style=\"\">\n",
    "<hr>"
   ]
  },
  {
   "cell_type": "markdown",
   "id": "f3a83688",
   "metadata": {},
   "source": [
    "<h1 style=\"text-align:center;color:#5a84ba\"><center>Méthodes Matricielles pour le Data Mining</center></h1>\n",
    "<h2><center><strong><font color='#3f4a4f'>Factorisation Matricielle Non-Négative pour\n",
    "le Text Mining\n",
    "</font></strong></center></h2>"
   ]
  },
  {
   "cell_type": "markdown",
   "id": "b405cb21",
   "metadata": {},
   "source": [
    "<hr>\n",
    "<h3><center><strong><font color='#3f4a4f'>II- Pré-traitemnt du dataset</font></strong></center></h3>\n",
    "<hr>"
   ]
  },
  {
   "cell_type": "markdown",
   "id": "ccffb65d",
   "metadata": {},
   "source": [
    "<h4><strong><font color='#353b38'>Plan de Travail</font></strong></h4>"
   ]
  },
  {
   "cell_type": "markdown",
   "id": "854f4cce",
   "metadata": {},
   "source": [
    "<ol style=\"list-style-type: upper-roman;\">\n",
    "    <li><a href=\"./I-Introduction.ipynb\">Introduction</a></li>\n",
    "    <li><strong>Pré-traitemnt du dataset</strong></li>\n",
    "    <li><a href=\"./III-Clustering simple.ipynb\">Clustering simple</a></li>\n",
    "    <li><a href=\"./IV-NMF.ipynb\">NMF</a></li>\n",
    "    <li><a href=\"./V-Orthogonal NMF.ipynb\">Orthogonal NMF</a></li>\n",
    "    <li><a href=\"./VI-Symmetric NMF.ipynb\">Symmetric NMF</a></li>\n",
    "    <li><a href=\"./VII-Conclusion.ipynb\">Conclusion</a></li>\n",
    "</ol>"
   ]
  },
  {
   "cell_type": "markdown",
   "id": "cdcd9217",
   "metadata": {},
   "source": [
    "<hr>\n",
    "<h4><strong><font color='#353b38'>Objectif</font></strong></h4>"
   ]
  },
  {
   "cell_type": "markdown",
   "id": "23d08f0d",
   "metadata": {},
   "source": [
    "- Comprendre le type des données traitées (Text).\n",
    "- Explorer le dataset.\n",
    "- transformer le texte pour les questions suivantes."
   ]
  },
  {
   "cell_type": "markdown",
   "id": "d2bc5c90",
   "metadata": {},
   "source": [
    "<h4><strong><font color='#353b38'>Configuration générale du notebook</font></strong></h4>"
   ]
  },
  {
   "cell_type": "code",
   "execution_count": 1,
   "id": "3e6afdc8",
   "metadata": {},
   "outputs": [],
   "source": [
    "# Packages Importation\n",
    "import os\n",
    "import scipy.io\n",
    "import pandas as pd\n",
    "\n",
    "from numpy import *\n",
    "from sklearn.feature_extraction.text import TfidfTransformer"
   ]
  },
  {
   "cell_type": "code",
   "execution_count": 2,
   "id": "c61c1bb0",
   "metadata": {},
   "outputs": [],
   "source": [
    "# Files paths\n",
    "\n",
    "\n",
    "## BRUTE\n",
    "BRUT_MAT_FILE = os.path.join('..', 'dataset', 'brute', 'Reuters21578.mat')\n",
    "BRUT_DOC_FILE = os.path.join('..', 'dataset', 'brute', 'documents.csv')\n",
    "BRUT_TER_FILE = os.path.join('..', 'dataset', 'brute', 'terms.csv')\n",
    "BRUT_TOP_FILE = os.path.join('..', 'dataset', 'brute', 'topics.csv')\n",
    "\n",
    "\n",
    "## PRE-TRAITEMENT\n",
    "PRE_TRAIT_MAT_FILE        = os.path.join('..', 'dataset', 'II-pre-traite', 'data.csv')\n",
    "PRE_TRAIT_MAT_TF_IDF_FILE = os.path.join('..', 'dataset', 'II-pre-traite', 'data_tf-idf.csv')\n",
    "PRE_TRAIT_MAT_SORTED_FILE = os.path.join('..', 'dataset', 'II-pre-traite', 'data_sorted.csv')\n",
    "\n",
    "PRE_TRAIT_LAB_FILE        = os.path.join('..', 'dataset', 'II-pre-traite', 'label.csv')\n",
    "PRE_TRAIT_LAB_SORTED_FILE = os.path.join('..', 'dataset', 'II-pre-traite', 'label_sorted.csv')\n",
    "\n",
    "PRE_TRAIT_DOC_FILE        = os.path.join('..', 'dataset', 'II-pre-traite', 'docs.csv')\n",
    "PRE_TRAIT_DOC_SORTED_FILE = os.path.join('..', 'dataset', 'II-pre-traite', 'docs_sorted.csv')\n",
    "\n",
    "PRE_TRAIT_TER_FILE        = os.path.join('..', 'dataset', 'II-pre-traite', 'terms.csv')\n",
    "\n",
    "PRE_TRAIT_TOP_FILE        = os.path.join('..', 'dataset', 'II-pre-traite', 'topics.csv')"
   ]
  },
  {
   "cell_type": "markdown",
   "id": "f5a12137",
   "metadata": {},
   "source": [
    "<h4><strong><font color='#353b38'>Implémentation des fonctions</font></strong></h4>"
   ]
  },
  {
   "cell_type": "markdown",
   "id": "87452e4d",
   "metadata": {},
   "source": [
    "<h5 id=\"print_numpy_array_infos\">print_numpy_array_infos</h5>"
   ]
  },
  {
   "cell_type": "code",
   "execution_count": 3,
   "id": "1c2a1417",
   "metadata": {},
   "outputs": [],
   "source": [
    "def print_numpy_array_infos(array, name) :\n",
    "    \"\"\" Prints numpy array informations.\n",
    "    \n",
    "    Parameters\n",
    "    ----------\n",
    "    array : numpy.ndarray\n",
    "        The array to print its informations\n",
    "    name : str\n",
    "        The name to be used for a formatted printing\n",
    "    \"\"\"\n",
    "    \n",
    "    print(\"ARRAY : \", name)\n",
    "    print(\"--- Type               : \", type(array))\n",
    "    print(\"--- Dimensions         : \", array.shape)\n",
    "    print(\"--- Nombre de lignes   : \", array.shape[0])\n",
    "    print(\"--- Nombre de colonnes : \", array.shape[1])\n",
    "    print(\"--- Nombre totale des données décrites dans le dataset : \", array.size)\n",
    "    print(\"--- Type des données : \", array.dtype)\n",
    "\n",
    "    print(\"\\n\")\n",
    "\n",
    "    print(\"AFFICHAGE (partie) : \\n\", array[:5,:])"
   ]
  },
  {
   "cell_type": "markdown",
   "id": "9bdd505e",
   "metadata": {},
   "source": [
    "<h4><strong><font color='#353b38'>Description du dataset</font></strong></h4>"
   ]
  },
  {
   "cell_type": "markdown",
   "id": "3acd569a",
   "metadata": {},
   "source": [
    "<ul>\n",
    "    <li><strong> Nom : </strong> Ruters21578 </li>\n",
    "    <li><strong> URL : </strong> <a href=\"http://www.cad.zju.edu.cn/home/dengcai/Data/TextData.html\">liens</a></li>\n",
    "    <li><strong> Déscription : </strong> contient des documents de <strong>Reuters</strong> apparus dans son fil de presse. Ils sont catégorisées et pré-traités en enlevant la ponctuation, les mots d'arret ...  </li>\n",
    "</ul>"
   ]
  },
  {
   "cell_type": "markdown",
   "id": "f660eeb9",
   "metadata": {},
   "source": [
    "Le dataset dans sa forme brute est constitué de trois fichiers : <br>\n",
    "<ul>\n",
    "    <li><strong> Ruters21578.mat : </strong> Contient la matrice des termes des documents. Chaque cellule est une valeur tf. </li>\n",
    "    <li><strong> documents.csv : </strong> Contient la liste des documents, leurs classes et leurs appartenance technique (test/train) </li>\n",
    "    <li><strong> terms.csv : </strong> Contient l'ensemble des termes du dataset </li>\n",
    "    <li><strong> topics.csv : </strong> Contient les classes (labels) du dataset</li>\n",
    "</ul>"
   ]
  },
  {
   "cell_type": "markdown",
   "id": "04ebbbf5",
   "metadata": {},
   "source": [
    "<h4><strong><font color='#353b38'>Découverte des fichiers</font></strong></h4>"
   ]
  },
  {
   "cell_type": "markdown",
   "id": "0ebbf83b",
   "metadata": {},
   "source": [
    "Nous allons procéder à la découverte de chaque fichier indépendament."
   ]
  },
  {
   "cell_type": "markdown",
   "id": "49f8d728",
   "metadata": {},
   "source": [
    "<h5>Ruters21578.mat</h5>"
   ]
  },
  {
   "cell_type": "code",
   "execution_count": 4,
   "id": "2e9f7463",
   "metadata": {},
   "outputs": [
    {
     "data": {
      "text/plain": [
       "{'__header__': b'MATLAB 5.0 MAT-file, Platform: PCWIN, Created on: Wed Jan 16 00:53:49 2008',\n",
       " '__version__': '1.0',\n",
       " '__globals__': [],\n",
       " 'gnd': array([[ 1],\n",
       "        [ 1],\n",
       "        [ 1],\n",
       "        ...,\n",
       "        [63],\n",
       "        [64],\n",
       "        [65]], dtype=uint8),\n",
       " 'trainIdx': array([[   1],\n",
       "        [   2],\n",
       "        [   3],\n",
       "        ...,\n",
       "        [8286],\n",
       "        [8288],\n",
       "        [8290]], dtype=uint16),\n",
       " 'testIdx': array([[2674],\n",
       "        [2675],\n",
       "        [2676],\n",
       "        ...,\n",
       "        [8291],\n",
       "        [8292],\n",
       "        [8293]], dtype=uint16),\n",
       " 'fea': <8293x18933 sparse matrix of type '<class 'numpy.float64'>'\n",
       " \twith 389455 stored elements in Compressed Sparse Column format>}"
      ]
     },
     "execution_count": 4,
     "metadata": {},
     "output_type": "execute_result"
    }
   ],
   "source": [
    "# Load .mat file\n",
    "mat_file = scipy.io.loadmat(BRUT_MAT_FILE)\n",
    "mat_file"
   ]
  },
  {
   "cell_type": "code",
   "execution_count": 5,
   "id": "0d9f9683",
   "metadata": {},
   "outputs": [
    {
     "data": {
      "text/plain": [
       "dict"
      ]
     },
     "execution_count": 5,
     "metadata": {},
     "output_type": "execute_result"
    }
   ],
   "source": [
    "# Returned Data Structure\n",
    "type(mat_file)"
   ]
  },
  {
   "cell_type": "markdown",
   "id": "9ed3534e",
   "metadata": {},
   "source": [
    "Le dictionnaire retourné contient plusieurs champs : <br>\n",
    "<ul>\n",
    "    <li><strong> __header__ : </strong> Un ensemble de méta-données à propos du dataset. </li>\n",
    "    <li><strong> __version__ : </strong> La version du dataset.  </li>\n",
    "    <li><strong> __globals__ : </strong></li>\n",
    "    <li><strong> gnd : </strong> Le tableau de labels des documents. Utilisable essentiellement comme target pour l'entrainement d'un modèle machine learning. </li>\n",
    "    <li><strong> fea : </strong> La matrice des termes des documents de l'ensemble du corpus. Les lignes étant les documents et les colonnes sont les termes. Chaque cellule mets en évidence la valeur de tf (Term Frequency) dans chaque document </li>\n",
    "    <li><strong> trainIdx : </strong> tableau des indices à utiliser pour l'entrainnement. </li>\n",
    "    <li><strong> testIdx : </strong> tableau des indices à utiliser pour le test. </li>\n",
    "</ul>"
   ]
  },
  {
   "cell_type": "markdown",
   "id": "0a4cceb5",
   "metadata": {},
   "source": [
    "Il faut rappeler que le choix des IDs d'entrainnement et de test dès le début n'a pour but que l'uniformaisation des résultats. Il s''agit d'une condition experimentale pour avoir les même résultats."
   ]
  },
  {
   "cell_type": "markdown",
   "id": "73f8954d",
   "metadata": {},
   "source": [
    "Nous allons nous intéresser à <strong>\"fea\"</strong> et <strong>\"gnd\"</strong> pour former un format de dataset plus simple à analyser."
   ]
  },
  {
   "cell_type": "markdown",
   "id": "bbb05c76",
   "metadata": {},
   "source": [
    "<h6>\"gnd\"</h6>"
   ]
  },
  {
   "cell_type": "code",
   "execution_count": 6,
   "id": "61a4596f",
   "metadata": {},
   "outputs": [
    {
     "name": "stdout",
     "output_type": "stream",
     "text": [
      "ARRAY :  reuters_labels\n",
      "--- Type               :  <class 'numpy.ndarray'>\n",
      "--- Dimensions         :  (8293, 1)\n",
      "--- Nombre de lignes   :  8293\n",
      "--- Nombre de colonnes :  1\n",
      "--- Nombre totale des données décrites dans le dataset :  8293\n",
      "--- Type des données :  uint8\n",
      "\n",
      "\n",
      "AFFICHAGE (partie) : \n",
      " [[1]\n",
      " [1]\n",
      " [1]\n",
      " [1]\n",
      " [1]]\n"
     ]
    }
   ],
   "source": [
    "# Informations des labels\n",
    "reuters_labels = mat_file['gnd']\n",
    "print_numpy_array_infos(reuters_labels, \"reuters_labels\")"
   ]
  },
  {
   "cell_type": "markdown",
   "id": "fbb433a5",
   "metadata": {},
   "source": [
    "<strong>| Définition de la fonction <a href=\"#print_numpy_array_infos\"> print_numpy_array_infos</a> |</strong>"
   ]
  },
  {
   "cell_type": "markdown",
   "id": "29cbb42a",
   "metadata": {},
   "source": [
    "Pour des raisons de visibilité, nous afficherons une partie du tableau sous pandas.DataFrame"
   ]
  },
  {
   "cell_type": "code",
   "execution_count": 7,
   "id": "c1dbe978",
   "metadata": {},
   "outputs": [
    {
     "data": {
      "text/html": [
       "<div>\n",
       "<style scoped>\n",
       "    .dataframe tbody tr th:only-of-type {\n",
       "        vertical-align: middle;\n",
       "    }\n",
       "\n",
       "    .dataframe tbody tr th {\n",
       "        vertical-align: top;\n",
       "    }\n",
       "\n",
       "    .dataframe thead th {\n",
       "        text-align: right;\n",
       "    }\n",
       "</style>\n",
       "<table border=\"1\" class=\"dataframe\">\n",
       "  <thead>\n",
       "    <tr style=\"text-align: right;\">\n",
       "      <th></th>\n",
       "      <th>0</th>\n",
       "    </tr>\n",
       "  </thead>\n",
       "  <tbody>\n",
       "    <tr>\n",
       "      <th>0</th>\n",
       "      <td>1</td>\n",
       "    </tr>\n",
       "    <tr>\n",
       "      <th>1</th>\n",
       "      <td>1</td>\n",
       "    </tr>\n",
       "    <tr>\n",
       "      <th>2</th>\n",
       "      <td>1</td>\n",
       "    </tr>\n",
       "    <tr>\n",
       "      <th>3</th>\n",
       "      <td>1</td>\n",
       "    </tr>\n",
       "    <tr>\n",
       "      <th>4</th>\n",
       "      <td>1</td>\n",
       "    </tr>\n",
       "  </tbody>\n",
       "</table>\n",
       "</div>"
      ],
      "text/plain": [
       "   0\n",
       "0  1\n",
       "1  1\n",
       "2  1\n",
       "3  1\n",
       "4  1"
      ]
     },
     "execution_count": 7,
     "metadata": {},
     "output_type": "execute_result"
    }
   ],
   "source": [
    "# Pandas DataFrame\n",
    "reuters_labels = pd.DataFrame(reuters_labels)\n",
    "reuters_labels.head()"
   ]
  },
  {
   "cell_type": "markdown",
   "id": "2716bfd0",
   "metadata": {},
   "source": [
    "<h6>\"fea\"</h6>"
   ]
  },
  {
   "cell_type": "markdown",
   "id": "76f331f2",
   "metadata": {},
   "source": [
    "Il faut le transformer en un tableau numpy"
   ]
  },
  {
   "cell_type": "code",
   "execution_count": 8,
   "id": "52b50d54",
   "metadata": {},
   "outputs": [
    {
     "name": "stdout",
     "output_type": "stream",
     "text": [
      "ARRAY :  reuters_data\n",
      "--- Type               :  <class 'numpy.ndarray'>\n",
      "--- Dimensions         :  (8293, 18933)\n",
      "--- Nombre de lignes   :  8293\n",
      "--- Nombre de colonnes :  18933\n",
      "--- Nombre totale des données décrites dans le dataset :  157011369\n",
      "--- Type des données :  float64\n",
      "\n",
      "\n",
      "AFFICHAGE (partie) : \n",
      " [[1. 1. 1. ... 0. 0. 0.]\n",
      " [1. 0. 0. ... 0. 0. 0.]\n",
      " [1. 0. 0. ... 0. 0. 0.]\n",
      " [1. 2. 1. ... 0. 0. 0.]\n",
      " [1. 0. 1. ... 0. 0. 0.]]\n"
     ]
    }
   ],
   "source": [
    "# Informations Matrice des termes de documents\n",
    "reuters_data = mat_file['fea'].toarray()\n",
    "print_numpy_array_infos(reuters_data, \"reuters_data\")"
   ]
  },
  {
   "cell_type": "markdown",
   "id": "d7dfd95f",
   "metadata": {},
   "source": [
    "<strong>| Définition de la fonction <a href=\"#print_numpy_array_infos\"> print_numpy_array_infos</a> |</strong>"
   ]
  },
  {
   "cell_type": "markdown",
   "id": "1315df29",
   "metadata": {},
   "source": [
    "On va utiliser la fonctions <strong>.toarray()</strong> car il s'agit d'une sparse matrix."
   ]
  },
  {
   "cell_type": "code",
   "execution_count": 9,
   "id": "afd3cfe3",
   "metadata": {},
   "outputs": [
    {
     "data": {
      "text/html": [
       "<div>\n",
       "<style scoped>\n",
       "    .dataframe tbody tr th:only-of-type {\n",
       "        vertical-align: middle;\n",
       "    }\n",
       "\n",
       "    .dataframe tbody tr th {\n",
       "        vertical-align: top;\n",
       "    }\n",
       "\n",
       "    .dataframe thead th {\n",
       "        text-align: right;\n",
       "    }\n",
       "</style>\n",
       "<table border=\"1\" class=\"dataframe\">\n",
       "  <thead>\n",
       "    <tr style=\"text-align: right;\">\n",
       "      <th></th>\n",
       "      <th>0</th>\n",
       "      <th>1</th>\n",
       "      <th>2</th>\n",
       "      <th>3</th>\n",
       "      <th>4</th>\n",
       "      <th>5</th>\n",
       "      <th>6</th>\n",
       "      <th>7</th>\n",
       "      <th>8</th>\n",
       "      <th>9</th>\n",
       "      <th>...</th>\n",
       "      <th>18923</th>\n",
       "      <th>18924</th>\n",
       "      <th>18925</th>\n",
       "      <th>18926</th>\n",
       "      <th>18927</th>\n",
       "      <th>18928</th>\n",
       "      <th>18929</th>\n",
       "      <th>18930</th>\n",
       "      <th>18931</th>\n",
       "      <th>18932</th>\n",
       "    </tr>\n",
       "  </thead>\n",
       "  <tbody>\n",
       "    <tr>\n",
       "      <th>0</th>\n",
       "      <td>1.0</td>\n",
       "      <td>1.0</td>\n",
       "      <td>1.0</td>\n",
       "      <td>3.0</td>\n",
       "      <td>8.0</td>\n",
       "      <td>3.0</td>\n",
       "      <td>0.0</td>\n",
       "      <td>2.0</td>\n",
       "      <td>0.0</td>\n",
       "      <td>0.0</td>\n",
       "      <td>...</td>\n",
       "      <td>0.0</td>\n",
       "      <td>0.0</td>\n",
       "      <td>0.0</td>\n",
       "      <td>0.0</td>\n",
       "      <td>0.0</td>\n",
       "      <td>0.0</td>\n",
       "      <td>0.0</td>\n",
       "      <td>0.0</td>\n",
       "      <td>0.0</td>\n",
       "      <td>0.0</td>\n",
       "    </tr>\n",
       "    <tr>\n",
       "      <th>1</th>\n",
       "      <td>1.0</td>\n",
       "      <td>0.0</td>\n",
       "      <td>0.0</td>\n",
       "      <td>2.0</td>\n",
       "      <td>1.0</td>\n",
       "      <td>0.0</td>\n",
       "      <td>0.0</td>\n",
       "      <td>0.0</td>\n",
       "      <td>0.0</td>\n",
       "      <td>0.0</td>\n",
       "      <td>...</td>\n",
       "      <td>0.0</td>\n",
       "      <td>0.0</td>\n",
       "      <td>0.0</td>\n",
       "      <td>0.0</td>\n",
       "      <td>0.0</td>\n",
       "      <td>0.0</td>\n",
       "      <td>0.0</td>\n",
       "      <td>0.0</td>\n",
       "      <td>0.0</td>\n",
       "      <td>0.0</td>\n",
       "    </tr>\n",
       "    <tr>\n",
       "      <th>2</th>\n",
       "      <td>1.0</td>\n",
       "      <td>0.0</td>\n",
       "      <td>0.0</td>\n",
       "      <td>0.0</td>\n",
       "      <td>0.0</td>\n",
       "      <td>1.0</td>\n",
       "      <td>0.0</td>\n",
       "      <td>0.0</td>\n",
       "      <td>1.0</td>\n",
       "      <td>0.0</td>\n",
       "      <td>...</td>\n",
       "      <td>0.0</td>\n",
       "      <td>0.0</td>\n",
       "      <td>0.0</td>\n",
       "      <td>0.0</td>\n",
       "      <td>0.0</td>\n",
       "      <td>0.0</td>\n",
       "      <td>0.0</td>\n",
       "      <td>0.0</td>\n",
       "      <td>0.0</td>\n",
       "      <td>0.0</td>\n",
       "    </tr>\n",
       "    <tr>\n",
       "      <th>3</th>\n",
       "      <td>1.0</td>\n",
       "      <td>2.0</td>\n",
       "      <td>1.0</td>\n",
       "      <td>1.0</td>\n",
       "      <td>2.0</td>\n",
       "      <td>1.0</td>\n",
       "      <td>0.0</td>\n",
       "      <td>1.0</td>\n",
       "      <td>0.0</td>\n",
       "      <td>0.0</td>\n",
       "      <td>...</td>\n",
       "      <td>0.0</td>\n",
       "      <td>0.0</td>\n",
       "      <td>0.0</td>\n",
       "      <td>0.0</td>\n",
       "      <td>0.0</td>\n",
       "      <td>0.0</td>\n",
       "      <td>0.0</td>\n",
       "      <td>0.0</td>\n",
       "      <td>0.0</td>\n",
       "      <td>0.0</td>\n",
       "    </tr>\n",
       "    <tr>\n",
       "      <th>4</th>\n",
       "      <td>1.0</td>\n",
       "      <td>0.0</td>\n",
       "      <td>1.0</td>\n",
       "      <td>3.0</td>\n",
       "      <td>8.0</td>\n",
       "      <td>2.0</td>\n",
       "      <td>0.0</td>\n",
       "      <td>2.0</td>\n",
       "      <td>0.0</td>\n",
       "      <td>0.0</td>\n",
       "      <td>...</td>\n",
       "      <td>0.0</td>\n",
       "      <td>0.0</td>\n",
       "      <td>0.0</td>\n",
       "      <td>0.0</td>\n",
       "      <td>0.0</td>\n",
       "      <td>0.0</td>\n",
       "      <td>0.0</td>\n",
       "      <td>0.0</td>\n",
       "      <td>0.0</td>\n",
       "      <td>0.0</td>\n",
       "    </tr>\n",
       "  </tbody>\n",
       "</table>\n",
       "<p>5 rows × 18933 columns</p>\n",
       "</div>"
      ],
      "text/plain": [
       "   0      1      2      3      4      5      6      7      8      9      ...  \\\n",
       "0    1.0    1.0    1.0    3.0    8.0    3.0    0.0    2.0    0.0    0.0  ...   \n",
       "1    1.0    0.0    0.0    2.0    1.0    0.0    0.0    0.0    0.0    0.0  ...   \n",
       "2    1.0    0.0    0.0    0.0    0.0    1.0    0.0    0.0    1.0    0.0  ...   \n",
       "3    1.0    2.0    1.0    1.0    2.0    1.0    0.0    1.0    0.0    0.0  ...   \n",
       "4    1.0    0.0    1.0    3.0    8.0    2.0    0.0    2.0    0.0    0.0  ...   \n",
       "\n",
       "   18923  18924  18925  18926  18927  18928  18929  18930  18931  18932  \n",
       "0    0.0    0.0    0.0    0.0    0.0    0.0    0.0    0.0    0.0    0.0  \n",
       "1    0.0    0.0    0.0    0.0    0.0    0.0    0.0    0.0    0.0    0.0  \n",
       "2    0.0    0.0    0.0    0.0    0.0    0.0    0.0    0.0    0.0    0.0  \n",
       "3    0.0    0.0    0.0    0.0    0.0    0.0    0.0    0.0    0.0    0.0  \n",
       "4    0.0    0.0    0.0    0.0    0.0    0.0    0.0    0.0    0.0    0.0  \n",
       "\n",
       "[5 rows x 18933 columns]"
      ]
     },
     "execution_count": 9,
     "metadata": {},
     "output_type": "execute_result"
    }
   ],
   "source": [
    "# Pandas DataFrame\n",
    "reuters_data = pd.DataFrame(reuters_data)\n",
    "reuters_data.head()"
   ]
  },
  {
   "cell_type": "markdown",
   "id": "63f07666",
   "metadata": {},
   "source": [
    "On remarque que les lignes et les colonnes sont indexée par des nombres : Il faut faire correspondre les nombres avec les vrais termes. On trouvera cela dans les autres fichiers"
   ]
  },
  {
   "cell_type": "markdown",
   "id": "43cf9c32",
   "metadata": {},
   "source": [
    "<h5>documents.csv</h5>"
   ]
  },
  {
   "cell_type": "code",
   "execution_count": 10,
   "id": "eda7670d",
   "metadata": {},
   "outputs": [],
   "source": [
    "reuters_docs = pd.read_csv(BRUT_DOC_FILE)"
   ]
  },
  {
   "cell_type": "code",
   "execution_count": 11,
   "id": "6d5e8493",
   "metadata": {},
   "outputs": [
    {
     "name": "stdout",
     "output_type": "stream",
     "text": [
      "ARRAY :  reuters_docs\n",
      "--- Type               :  <class 'numpy.ndarray'>\n",
      "--- Dimensions         :  (8293, 4)\n",
      "--- Nombre de lignes   :  8293\n",
      "--- Nombre de colonnes :  4\n",
      "--- Nombre totale des données décrites dans le dataset :  33172\n",
      "--- Type des données :  object\n",
      "\n",
      "\n",
      "AFFICHAGE (partie) : \n",
      " [['6504.txt' 1 'earn' 'Train']\n",
      " ['4253.txt' 1 'earn' 'Train']\n",
      " ['11728.txt' 1 'earn' 'Train']\n",
      " ['9115.txt' 1 'earn' 'Train']\n",
      " ['3874.txt' 1 'earn' 'Train']]\n"
     ]
    }
   ],
   "source": [
    "# Informations des documents\n",
    "print_numpy_array_infos(reuters_docs.to_numpy(), \"reuters_docs\")"
   ]
  },
  {
   "cell_type": "markdown",
   "id": "0b789516",
   "metadata": {},
   "source": [
    "<strong>| Définition de la fonction <a href=\"#print_numpy_array_infos\"> print_numpy_array_infos</a> |</strong>"
   ]
  },
  {
   "cell_type": "code",
   "execution_count": 12,
   "id": "fbd3a649",
   "metadata": {},
   "outputs": [
    {
     "data": {
      "text/html": [
       "<div>\n",
       "<style scoped>\n",
       "    .dataframe tbody tr th:only-of-type {\n",
       "        vertical-align: middle;\n",
       "    }\n",
       "\n",
       "    .dataframe tbody tr th {\n",
       "        vertical-align: top;\n",
       "    }\n",
       "\n",
       "    .dataframe thead th {\n",
       "        text-align: right;\n",
       "    }\n",
       "</style>\n",
       "<table border=\"1\" class=\"dataframe\">\n",
       "  <thead>\n",
       "    <tr style=\"text-align: right;\">\n",
       "      <th></th>\n",
       "      <th>doc_index</th>\n",
       "      <th>label</th>\n",
       "      <th>topic_name</th>\n",
       "      <th>split</th>\n",
       "    </tr>\n",
       "  </thead>\n",
       "  <tbody>\n",
       "    <tr>\n",
       "      <th>0</th>\n",
       "      <td>6504.txt</td>\n",
       "      <td>1</td>\n",
       "      <td>earn</td>\n",
       "      <td>Train</td>\n",
       "    </tr>\n",
       "    <tr>\n",
       "      <th>1</th>\n",
       "      <td>4253.txt</td>\n",
       "      <td>1</td>\n",
       "      <td>earn</td>\n",
       "      <td>Train</td>\n",
       "    </tr>\n",
       "    <tr>\n",
       "      <th>2</th>\n",
       "      <td>11728.txt</td>\n",
       "      <td>1</td>\n",
       "      <td>earn</td>\n",
       "      <td>Train</td>\n",
       "    </tr>\n",
       "    <tr>\n",
       "      <th>3</th>\n",
       "      <td>9115.txt</td>\n",
       "      <td>1</td>\n",
       "      <td>earn</td>\n",
       "      <td>Train</td>\n",
       "    </tr>\n",
       "    <tr>\n",
       "      <th>4</th>\n",
       "      <td>3874.txt</td>\n",
       "      <td>1</td>\n",
       "      <td>earn</td>\n",
       "      <td>Train</td>\n",
       "    </tr>\n",
       "  </tbody>\n",
       "</table>\n",
       "</div>"
      ],
      "text/plain": [
       "   doc_index  label topic_name  split\n",
       "0   6504.txt      1       earn  Train\n",
       "1   4253.txt      1       earn  Train\n",
       "2  11728.txt      1       earn  Train\n",
       "3   9115.txt      1       earn  Train\n",
       "4   3874.txt      1       earn  Train"
      ]
     },
     "execution_count": 12,
     "metadata": {},
     "output_type": "execute_result"
    }
   ],
   "source": [
    "# Pandas DataFrame\n",
    "reuters_docs.head()"
   ]
  },
  {
   "cell_type": "markdown",
   "id": "878f9c4b",
   "metadata": {},
   "source": [
    "On remarque que les lignes représentent les documents."
   ]
  },
  {
   "cell_type": "markdown",
   "id": "6d639ee4",
   "metadata": {},
   "source": [
    "Pour chaque document, on a le nom, l'indice sujet (topic), le nom du sujet et la partie à laquelle il appartient (entrainement ou test)"
   ]
  },
  {
   "cell_type": "markdown",
   "id": "9b4e1885",
   "metadata": {},
   "source": [
    "<h5>terms.csv</h5>"
   ]
  },
  {
   "cell_type": "code",
   "execution_count": 13,
   "id": "f758be73",
   "metadata": {},
   "outputs": [],
   "source": [
    "reuters_terms = pd.read_csv(BRUT_TER_FILE)"
   ]
  },
  {
   "cell_type": "code",
   "execution_count": 14,
   "id": "b7d96630",
   "metadata": {},
   "outputs": [
    {
     "name": "stdout",
     "output_type": "stream",
     "text": [
      "ARRAY :  reuters_terms\n",
      "--- Type               :  <class 'numpy.ndarray'>\n",
      "--- Dimensions         :  (18933, 2)\n",
      "--- Nombre de lignes   :  18933\n",
      "--- Nombre de colonnes :  2\n",
      "--- Nombre totale des données décrites dans le dataset :  37866\n",
      "--- Type des données :  object\n",
      "\n",
      "\n",
      "AFFICHAGE (partie) : \n",
      " [['reuter' 8228]\n",
      " ['mln' 4090]\n",
      " ['dlrs' 3515]\n",
      " ['cts' 2928]\n",
      " ['vs' 2826]]\n"
     ]
    }
   ],
   "source": [
    "# Informations des documents\n",
    "print_numpy_array_infos(reuters_terms.to_numpy(), \"reuters_terms\")"
   ]
  },
  {
   "cell_type": "markdown",
   "id": "102618d2",
   "metadata": {},
   "source": [
    "<strong>| Définition de la fonction <a href=\"#print_numpy_array_infos\"> print_numpy_array_infos</a> |</strong>"
   ]
  },
  {
   "cell_type": "code",
   "execution_count": 15,
   "id": "11f3041f",
   "metadata": {},
   "outputs": [
    {
     "data": {
      "text/html": [
       "<div>\n",
       "<style scoped>\n",
       "    .dataframe tbody tr th:only-of-type {\n",
       "        vertical-align: middle;\n",
       "    }\n",
       "\n",
       "    .dataframe tbody tr th {\n",
       "        vertical-align: top;\n",
       "    }\n",
       "\n",
       "    .dataframe thead th {\n",
       "        text-align: right;\n",
       "    }\n",
       "</style>\n",
       "<table border=\"1\" class=\"dataframe\">\n",
       "  <thead>\n",
       "    <tr style=\"text-align: right;\">\n",
       "      <th></th>\n",
       "      <th>term</th>\n",
       "      <th>count</th>\n",
       "    </tr>\n",
       "  </thead>\n",
       "  <tbody>\n",
       "    <tr>\n",
       "      <th>0</th>\n",
       "      <td>reuter</td>\n",
       "      <td>8228</td>\n",
       "    </tr>\n",
       "    <tr>\n",
       "      <th>1</th>\n",
       "      <td>mln</td>\n",
       "      <td>4090</td>\n",
       "    </tr>\n",
       "    <tr>\n",
       "      <th>2</th>\n",
       "      <td>dlrs</td>\n",
       "      <td>3515</td>\n",
       "    </tr>\n",
       "    <tr>\n",
       "      <th>3</th>\n",
       "      <td>cts</td>\n",
       "      <td>2928</td>\n",
       "    </tr>\n",
       "    <tr>\n",
       "      <th>4</th>\n",
       "      <td>vs</td>\n",
       "      <td>2826</td>\n",
       "    </tr>\n",
       "  </tbody>\n",
       "</table>\n",
       "</div>"
      ],
      "text/plain": [
       "     term  count\n",
       "0  reuter   8228\n",
       "1     mln   4090\n",
       "2    dlrs   3515\n",
       "3     cts   2928\n",
       "4      vs   2826"
      ]
     },
     "execution_count": 15,
     "metadata": {},
     "output_type": "execute_result"
    }
   ],
   "source": [
    "# Pandas DataFrame\n",
    "reuters_terms.head()"
   ]
  },
  {
   "cell_type": "markdown",
   "id": "2addc13b",
   "metadata": {},
   "source": [
    "On remarque que les lignes représentent les termes."
   ]
  },
  {
   "cell_type": "markdown",
   "id": "0e97b44d",
   "metadata": {},
   "source": [
    "Pour chaque document, on a le terme et l'occurence totale dans tout les documents du dataset (Document Frequency)"
   ]
  },
  {
   "cell_type": "markdown",
   "id": "539a9844",
   "metadata": {},
   "source": [
    "<h5>topics.csv</h5>"
   ]
  },
  {
   "cell_type": "code",
   "execution_count": 16,
   "id": "2a151165",
   "metadata": {},
   "outputs": [],
   "source": [
    "reuters_topics = pd.read_csv(BRUT_TOP_FILE)"
   ]
  },
  {
   "cell_type": "code",
   "execution_count": 17,
   "id": "fe397ac0",
   "metadata": {},
   "outputs": [
    {
     "name": "stdout",
     "output_type": "stream",
     "text": [
      "ARRAY :  reuters_topics\n",
      "--- Type               :  <class 'numpy.ndarray'>\n",
      "--- Dimensions         :  (65, 2)\n",
      "--- Nombre de lignes   :  65\n",
      "--- Nombre de colonnes :  2\n",
      "--- Nombre totale des données décrites dans le dataset :  130\n",
      "--- Type des données :  object\n",
      "\n",
      "\n",
      "AFFICHAGE (partie) : \n",
      " [[1 'earn']\n",
      " [2 'acq']\n",
      " [3 'crude']\n",
      " [4 'trade']\n",
      " [5 'money-fx']]\n"
     ]
    }
   ],
   "source": [
    "# Informations des documents\n",
    "print_numpy_array_infos(reuters_topics.to_numpy(), \"reuters_topics\")"
   ]
  },
  {
   "cell_type": "markdown",
   "id": "cc1422fa",
   "metadata": {},
   "source": [
    "<strong>| Définition de la fonction <a href=\"#print_numpy_array_infos\"> print_numpy_array_infos</a> |</strong>"
   ]
  },
  {
   "cell_type": "code",
   "execution_count": 18,
   "id": "08ee0e3a",
   "metadata": {},
   "outputs": [
    {
     "data": {
      "text/html": [
       "<div>\n",
       "<style scoped>\n",
       "    .dataframe tbody tr th:only-of-type {\n",
       "        vertical-align: middle;\n",
       "    }\n",
       "\n",
       "    .dataframe tbody tr th {\n",
       "        vertical-align: top;\n",
       "    }\n",
       "\n",
       "    .dataframe thead th {\n",
       "        text-align: right;\n",
       "    }\n",
       "</style>\n",
       "<table border=\"1\" class=\"dataframe\">\n",
       "  <thead>\n",
       "    <tr style=\"text-align: right;\">\n",
       "      <th></th>\n",
       "      <th>id</th>\n",
       "      <th>name</th>\n",
       "    </tr>\n",
       "  </thead>\n",
       "  <tbody>\n",
       "    <tr>\n",
       "      <th>0</th>\n",
       "      <td>1</td>\n",
       "      <td>earn</td>\n",
       "    </tr>\n",
       "    <tr>\n",
       "      <th>1</th>\n",
       "      <td>2</td>\n",
       "      <td>acq</td>\n",
       "    </tr>\n",
       "    <tr>\n",
       "      <th>2</th>\n",
       "      <td>3</td>\n",
       "      <td>crude</td>\n",
       "    </tr>\n",
       "    <tr>\n",
       "      <th>3</th>\n",
       "      <td>4</td>\n",
       "      <td>trade</td>\n",
       "    </tr>\n",
       "    <tr>\n",
       "      <th>4</th>\n",
       "      <td>5</td>\n",
       "      <td>money-fx</td>\n",
       "    </tr>\n",
       "  </tbody>\n",
       "</table>\n",
       "</div>"
      ],
      "text/plain": [
       "   id      name\n",
       "0   1      earn\n",
       "1   2       acq\n",
       "2   3     crude\n",
       "3   4     trade\n",
       "4   5  money-fx"
      ]
     },
     "execution_count": 18,
     "metadata": {},
     "output_type": "execute_result"
    }
   ],
   "source": [
    "# Pandas DataFrame\n",
    "reuters_topics.head()"
   ]
  },
  {
   "cell_type": "markdown",
   "id": "1fb053e2",
   "metadata": {},
   "source": [
    "On remarque que les lignes représentent les sujets (topics)."
   ]
  },
  {
   "cell_type": "markdown",
   "id": "917604a2",
   "metadata": {},
   "source": [
    "Pour chaque document, on a l'indice sujet (topic) et le nom du sujet."
   ]
  },
  {
   "cell_type": "markdown",
   "id": "3ddbe7dc",
   "metadata": {},
   "source": [
    "<h4><strong><font color='#353b38'>Pré-traitement des fichiers</font></strong></h4>"
   ]
  },
  {
   "cell_type": "markdown",
   "id": "7954424e",
   "metadata": {},
   "source": [
    "Nous allons procéder à l'enregistrement des csv qui ne nécessite pas de pré-traitement."
   ]
  },
  {
   "cell_type": "code",
   "execution_count": 19,
   "id": "67e96c10",
   "metadata": {},
   "outputs": [],
   "source": [
    "# Enregistrement topic.csv\n",
    "reuters_topics.to_csv(PRE_TRAIT_TOP_FILE, index=False)"
   ]
  },
  {
   "cell_type": "markdown",
   "id": "daa19bb2",
   "metadata": {},
   "source": [
    "<h5>Pré-traitement \"terms.csv\"</h5>"
   ]
  },
  {
   "cell_type": "markdown",
   "id": "7f96604c",
   "metadata": {},
   "source": [
    "Nous allons ajouter les indices dans le tableau"
   ]
  },
  {
   "cell_type": "code",
   "execution_count": 20,
   "id": "6201bf6d",
   "metadata": {},
   "outputs": [
    {
     "data": {
      "text/html": [
       "<div>\n",
       "<style scoped>\n",
       "    .dataframe tbody tr th:only-of-type {\n",
       "        vertical-align: middle;\n",
       "    }\n",
       "\n",
       "    .dataframe tbody tr th {\n",
       "        vertical-align: top;\n",
       "    }\n",
       "\n",
       "    .dataframe thead th {\n",
       "        text-align: right;\n",
       "    }\n",
       "</style>\n",
       "<table border=\"1\" class=\"dataframe\">\n",
       "  <thead>\n",
       "    <tr style=\"text-align: right;\">\n",
       "      <th></th>\n",
       "      <th>index</th>\n",
       "      <th>term</th>\n",
       "      <th>count</th>\n",
       "    </tr>\n",
       "  </thead>\n",
       "  <tbody>\n",
       "    <tr>\n",
       "      <th>0</th>\n",
       "      <td>0</td>\n",
       "      <td>reuter</td>\n",
       "      <td>8228</td>\n",
       "    </tr>\n",
       "    <tr>\n",
       "      <th>1</th>\n",
       "      <td>1</td>\n",
       "      <td>mln</td>\n",
       "      <td>4090</td>\n",
       "    </tr>\n",
       "    <tr>\n",
       "      <th>2</th>\n",
       "      <td>2</td>\n",
       "      <td>dlrs</td>\n",
       "      <td>3515</td>\n",
       "    </tr>\n",
       "    <tr>\n",
       "      <th>3</th>\n",
       "      <td>3</td>\n",
       "      <td>cts</td>\n",
       "      <td>2928</td>\n",
       "    </tr>\n",
       "    <tr>\n",
       "      <th>4</th>\n",
       "      <td>4</td>\n",
       "      <td>vs</td>\n",
       "      <td>2826</td>\n",
       "    </tr>\n",
       "  </tbody>\n",
       "</table>\n",
       "</div>"
      ],
      "text/plain": [
       "   index    term  count\n",
       "0      0  reuter   8228\n",
       "1      1     mln   4090\n",
       "2      2    dlrs   3515\n",
       "3      3     cts   2928\n",
       "4      4      vs   2826"
      ]
     },
     "execution_count": 20,
     "metadata": {},
     "output_type": "execute_result"
    }
   ],
   "source": [
    "reuters_terms.insert(0, \"index\", list(reuters_terms.index.values))\n",
    "reuters_terms.head()"
   ]
  },
  {
   "cell_type": "code",
   "execution_count": 21,
   "id": "79654e69",
   "metadata": {},
   "outputs": [],
   "source": [
    "# Enregistrement terms.csv\n",
    "reuters_terms.to_csv(PRE_TRAIT_TER_FILE, index=False)"
   ]
  },
  {
   "cell_type": "markdown",
   "id": "b0eaab05",
   "metadata": {},
   "source": [
    "<h5>Pré-traitement \"documents.csv\"</h5>"
   ]
  },
  {
   "cell_type": "markdown",
   "id": "6a5743f0",
   "metadata": {},
   "source": [
    "Nous allons transformer la colonne des indices en des entiers."
   ]
  },
  {
   "cell_type": "code",
   "execution_count": 22,
   "id": "6d7201da",
   "metadata": {},
   "outputs": [
    {
     "data": {
      "text/plain": [
       "array(['6504.txt', '4253.txt', '11728.txt', ..., '15206.txt', '17823.txt',\n",
       "       '17880.txt'], dtype=object)"
      ]
     },
     "execution_count": 22,
     "metadata": {},
     "output_type": "execute_result"
    }
   ],
   "source": [
    "# Transformation en un tableau numpy\n",
    "reuters_docs_numpy = reuters_docs.to_numpy()\n",
    "reuters_docs_index = reuters_docs_numpy[:, 0]\n",
    "reuters_docs_index"
   ]
  },
  {
   "cell_type": "markdown",
   "id": "cfa2bad7",
   "metadata": {},
   "source": [
    "Nous allons enlever la partie '.txt' pour faciliter la transformation en **int** dans les prochaines étapes"
   ]
  },
  {
   "cell_type": "code",
   "execution_count": 23,
   "id": "34a3ca29",
   "metadata": {},
   "outputs": [
    {
     "data": {
      "text/plain": [
       "array([6504, 4253, 11728, ..., 15206, 17823, 17880], dtype=object)"
      ]
     },
     "execution_count": 23,
     "metadata": {},
     "output_type": "execute_result"
    }
   ],
   "source": [
    "for i in range(len(reuters_docs_index)) :\n",
    "    reuters_docs_index[i] = int(reuters_docs_index[i].replace('.txt', ''))\n",
    "\n",
    "reuters_docs_index"
   ]
  },
  {
   "cell_type": "code",
   "execution_count": 24,
   "id": "9d898325",
   "metadata": {},
   "outputs": [],
   "source": [
    "# Insertion de la colonne des indices\n",
    "reuters_docs_numpy[:, 0] = reuters_docs_index"
   ]
  },
  {
   "cell_type": "code",
   "execution_count": 25,
   "id": "78926cf7",
   "metadata": {},
   "outputs": [
    {
     "data": {
      "text/html": [
       "<div>\n",
       "<style scoped>\n",
       "    .dataframe tbody tr th:only-of-type {\n",
       "        vertical-align: middle;\n",
       "    }\n",
       "\n",
       "    .dataframe tbody tr th {\n",
       "        vertical-align: top;\n",
       "    }\n",
       "\n",
       "    .dataframe thead th {\n",
       "        text-align: right;\n",
       "    }\n",
       "</style>\n",
       "<table border=\"1\" class=\"dataframe\">\n",
       "  <thead>\n",
       "    <tr style=\"text-align: right;\">\n",
       "      <th></th>\n",
       "      <th>doc_index</th>\n",
       "      <th>label</th>\n",
       "      <th>topic_name</th>\n",
       "      <th>split</th>\n",
       "    </tr>\n",
       "  </thead>\n",
       "  <tbody>\n",
       "    <tr>\n",
       "      <th>0</th>\n",
       "      <td>6504</td>\n",
       "      <td>1</td>\n",
       "      <td>earn</td>\n",
       "      <td>Train</td>\n",
       "    </tr>\n",
       "    <tr>\n",
       "      <th>1</th>\n",
       "      <td>4253</td>\n",
       "      <td>1</td>\n",
       "      <td>earn</td>\n",
       "      <td>Train</td>\n",
       "    </tr>\n",
       "    <tr>\n",
       "      <th>2</th>\n",
       "      <td>11728</td>\n",
       "      <td>1</td>\n",
       "      <td>earn</td>\n",
       "      <td>Train</td>\n",
       "    </tr>\n",
       "    <tr>\n",
       "      <th>3</th>\n",
       "      <td>9115</td>\n",
       "      <td>1</td>\n",
       "      <td>earn</td>\n",
       "      <td>Train</td>\n",
       "    </tr>\n",
       "    <tr>\n",
       "      <th>4</th>\n",
       "      <td>3874</td>\n",
       "      <td>1</td>\n",
       "      <td>earn</td>\n",
       "      <td>Train</td>\n",
       "    </tr>\n",
       "  </tbody>\n",
       "</table>\n",
       "</div>"
      ],
      "text/plain": [
       "  doc_index label topic_name  split\n",
       "0      6504     1       earn  Train\n",
       "1      4253     1       earn  Train\n",
       "2     11728     1       earn  Train\n",
       "3      9115     1       earn  Train\n",
       "4      3874     1       earn  Train"
      ]
     },
     "execution_count": 25,
     "metadata": {},
     "output_type": "execute_result"
    }
   ],
   "source": [
    "# Pandas DataFrame\n",
    "reuters_docs = pd.DataFrame(reuters_docs_numpy, columns=reuters_docs.columns)\n",
    "reuters_docs.head()"
   ]
  },
  {
   "cell_type": "markdown",
   "id": "0c019f0d",
   "metadata": {},
   "source": [
    "<i>- Non-Ordonnées</i>"
   ]
  },
  {
   "cell_type": "code",
   "execution_count": 26,
   "id": "d143231e",
   "metadata": {},
   "outputs": [],
   "source": [
    "# Enregistrement doc.csv\n",
    "reuters_docs.to_csv(PRE_TRAIT_DOC_FILE, index=False)"
   ]
  },
  {
   "cell_type": "markdown",
   "id": "3b7221f4",
   "metadata": {},
   "source": [
    "<i>- Ordonnées</i>"
   ]
  },
  {
   "cell_type": "markdown",
   "id": "a8e805e4",
   "metadata": {},
   "source": [
    "Nous allons maintenant ordonner le doc.csv suivant les indices."
   ]
  },
  {
   "cell_type": "code",
   "execution_count": 27,
   "id": "d46928e8",
   "metadata": {},
   "outputs": [
    {
     "data": {
      "text/html": [
       "<div>\n",
       "<style scoped>\n",
       "    .dataframe tbody tr th:only-of-type {\n",
       "        vertical-align: middle;\n",
       "    }\n",
       "\n",
       "    .dataframe tbody tr th {\n",
       "        vertical-align: top;\n",
       "    }\n",
       "\n",
       "    .dataframe thead th {\n",
       "        text-align: right;\n",
       "    }\n",
       "</style>\n",
       "<table border=\"1\" class=\"dataframe\">\n",
       "  <thead>\n",
       "    <tr style=\"text-align: right;\">\n",
       "      <th></th>\n",
       "      <th>doc_index</th>\n",
       "      <th>label</th>\n",
       "      <th>topic_name</th>\n",
       "      <th>split</th>\n",
       "    </tr>\n",
       "  </thead>\n",
       "  <tbody>\n",
       "    <tr>\n",
       "      <th>7511</th>\n",
       "      <td>1</td>\n",
       "      <td>14</td>\n",
       "      <td>cocoa</td>\n",
       "      <td>Train</td>\n",
       "    </tr>\n",
       "    <tr>\n",
       "      <th>1293</th>\n",
       "      <td>9</td>\n",
       "      <td>1</td>\n",
       "      <td>earn</td>\n",
       "      <td>Train</td>\n",
       "    </tr>\n",
       "    <tr>\n",
       "      <th>4313</th>\n",
       "      <td>10</td>\n",
       "      <td>2</td>\n",
       "      <td>acq</td>\n",
       "      <td>Train</td>\n",
       "    </tr>\n",
       "    <tr>\n",
       "      <th>916</th>\n",
       "      <td>11</td>\n",
       "      <td>1</td>\n",
       "      <td>earn</td>\n",
       "      <td>Train</td>\n",
       "    </tr>\n",
       "    <tr>\n",
       "      <th>572</th>\n",
       "      <td>13</td>\n",
       "      <td>1</td>\n",
       "      <td>earn</td>\n",
       "      <td>Train</td>\n",
       "    </tr>\n",
       "  </tbody>\n",
       "</table>\n",
       "</div>"
      ],
      "text/plain": [
       "     doc_index label topic_name  split\n",
       "7511         1    14      cocoa  Train\n",
       "1293         9     1       earn  Train\n",
       "4313        10     2        acq  Train\n",
       "916         11     1       earn  Train\n",
       "572         13     1       earn  Train"
      ]
     },
     "execution_count": 27,
     "metadata": {},
     "output_type": "execute_result"
    }
   ],
   "source": [
    "reuters_docs = reuters_docs.sort_values(by=['doc_index'])\n",
    "reuters_docs.head()"
   ]
  },
  {
   "cell_type": "code",
   "execution_count": 28,
   "id": "d6acbca1",
   "metadata": {},
   "outputs": [],
   "source": [
    "# Enregistrement doc.csv (ordonné)\n",
    "reuters_docs.to_csv(PRE_TRAIT_DOC_SORTED_FILE, index=False)"
   ]
  },
  {
   "cell_type": "markdown",
   "id": "23a7ff02",
   "metadata": {},
   "source": [
    "<h5>Pré-traitement des données</h5>"
   ]
  },
  {
   "cell_type": "markdown",
   "id": "18738ab0",
   "metadata": {},
   "source": [
    "<i>- Non-Ordonnées</i>"
   ]
  },
  {
   "cell_type": "markdown",
   "id": "236d3cc1",
   "metadata": {},
   "source": [
    "Nous allons d'abord enregistrer une version non ordonnée."
   ]
  },
  {
   "cell_type": "code",
   "execution_count": 29,
   "id": "ede3242e",
   "metadata": {},
   "outputs": [],
   "source": [
    "# Enregistrement\n",
    "reuters_data.to_csv(PRE_TRAIT_MAT_FILE, index=False)"
   ]
  },
  {
   "cell_type": "markdown",
   "id": "3b728a99",
   "metadata": {},
   "source": [
    "<strong><font color='#5a84ba'>Question 1.b/</font></strong>"
   ]
  },
  {
   "cell_type": "markdown",
   "id": "3038ac66",
   "metadata": {},
   "source": [
    "<i>- TF-IDF</i>"
   ]
  },
  {
   "cell_type": "markdown",
   "id": "3953a3a5",
   "metadata": {},
   "source": [
    "Rappelons d'abord la formule de <strong>TF-IDF</strong> :"
   ]
  },
  {
   "cell_type": "markdown",
   "id": "9c2ce2ad",
   "metadata": {},
   "source": [
    "$$ \\textrm{TF-IDF} = (1 + \\log (\\textrm{tf})) \\times \\log (\\frac{\\textrm{N}}{\\textrm{df}})$$"
   ]
  },
  {
   "cell_type": "markdown",
   "id": "760aaf47",
   "metadata": {},
   "source": [
    "Il faut noter que le problème qui survient est un problème issu de la conversion CSV"
   ]
  },
  {
   "cell_type": "markdown",
   "id": "f2d6acda",
   "metadata": {},
   "source": [
    "<ul>\n",
    "    <li><strong> tf : </strong> Fréquence d'un terme dans un document</li>\n",
    "    <li><strong> df : </strong> Occurance d'un terme dans le document  </li>\n",
    "    <li><strong> N : </strong> Nombre de documents total</li>\n",
    "</ul>"
   ]
  },
  {
   "cell_type": "code",
   "execution_count": 30,
   "id": "278870a7",
   "metadata": {},
   "outputs": [],
   "source": [
    "# Importation des fichiers\n",
    "reuters_data_pandas = reuters_data\n",
    "reuters_data = reuters_data.to_numpy()\n",
    "reuters_terms = reuters_terms.to_numpy()"
   ]
  },
  {
   "cell_type": "markdown",
   "id": "9f69db06",
   "metadata": {},
   "source": [
    "1- tranformer les colonnes en des termes"
   ]
  },
  {
   "cell_type": "code",
   "execution_count": 31,
   "id": "ebeeacf1",
   "metadata": {},
   "outputs": [
    {
     "name": "stdout",
     "output_type": "stream",
     "text": [
      "Nombre de termes  = 18933\n",
      "Confirmation de l'égalité entre nombre de termes :  True\n"
     ]
    }
   ],
   "source": [
    "# Vérification du nombre des termes\n",
    "termes = reuters_terms[:,1]\n",
    "\n",
    "print(\"Nombre de termes  =\", termes.shape[0])\n",
    "print(\"Confirmation de l'égalité entre nombre de termes : \", termes.shape[0] == reuters_data.shape[1])"
   ]
  },
  {
   "cell_type": "code",
   "execution_count": 32,
   "id": "05bdce27",
   "metadata": {},
   "outputs": [
    {
     "name": "stdout",
     "output_type": "stream",
     "text": [
      "Nombre de termes comptés :  18933\n"
     ]
    }
   ],
   "source": [
    "termes_str = []\n",
    "for i in range(termes.shape[0]) :\n",
    "    termes_str.append(str(termes[i]))\n",
    "\n",
    "print(\"Nombre de termes comptés : \", len(termes_str))"
   ]
  },
  {
   "cell_type": "markdown",
   "id": "31baeb25",
   "metadata": {},
   "source": [
    "Nous allons substituer les indices des colonnes par la liste générée"
   ]
  },
  {
   "cell_type": "code",
   "execution_count": 33,
   "id": "99d78f96",
   "metadata": {},
   "outputs": [
    {
     "data": {
      "text/html": [
       "<div>\n",
       "<style scoped>\n",
       "    .dataframe tbody tr th:only-of-type {\n",
       "        vertical-align: middle;\n",
       "    }\n",
       "\n",
       "    .dataframe tbody tr th {\n",
       "        vertical-align: top;\n",
       "    }\n",
       "\n",
       "    .dataframe thead th {\n",
       "        text-align: right;\n",
       "    }\n",
       "</style>\n",
       "<table border=\"1\" class=\"dataframe\">\n",
       "  <thead>\n",
       "    <tr style=\"text-align: right;\">\n",
       "      <th></th>\n",
       "      <th>reuter</th>\n",
       "      <th>mln</th>\n",
       "      <th>dlrs</th>\n",
       "      <th>cts</th>\n",
       "      <th>vs</th>\n",
       "      <th>net</th>\n",
       "      <th>pct</th>\n",
       "      <th>shr</th>\n",
       "      <th>company</th>\n",
       "      <th>1986</th>\n",
       "      <th>...</th>\n",
       "      <th>surges</th>\n",
       "      <th>substituting</th>\n",
       "      <th>388.1</th>\n",
       "      <th>siege</th>\n",
       "      <th>toits</th>\n",
       "      <th>montedision</th>\n",
       "      <th>petroli</th>\n",
       "      <th>5952000</th>\n",
       "      <th>scrapped</th>\n",
       "      <th>richer</th>\n",
       "    </tr>\n",
       "  </thead>\n",
       "  <tbody>\n",
       "    <tr>\n",
       "      <th>0</th>\n",
       "      <td>1.0</td>\n",
       "      <td>1.0</td>\n",
       "      <td>1.0</td>\n",
       "      <td>3.0</td>\n",
       "      <td>8.0</td>\n",
       "      <td>3.0</td>\n",
       "      <td>0.0</td>\n",
       "      <td>2.0</td>\n",
       "      <td>0.0</td>\n",
       "      <td>0.0</td>\n",
       "      <td>...</td>\n",
       "      <td>0.0</td>\n",
       "      <td>0.0</td>\n",
       "      <td>0.0</td>\n",
       "      <td>0.0</td>\n",
       "      <td>0.0</td>\n",
       "      <td>0.0</td>\n",
       "      <td>0.0</td>\n",
       "      <td>0.0</td>\n",
       "      <td>0.0</td>\n",
       "      <td>0.0</td>\n",
       "    </tr>\n",
       "    <tr>\n",
       "      <th>1</th>\n",
       "      <td>1.0</td>\n",
       "      <td>0.0</td>\n",
       "      <td>0.0</td>\n",
       "      <td>2.0</td>\n",
       "      <td>1.0</td>\n",
       "      <td>0.0</td>\n",
       "      <td>0.0</td>\n",
       "      <td>0.0</td>\n",
       "      <td>0.0</td>\n",
       "      <td>0.0</td>\n",
       "      <td>...</td>\n",
       "      <td>0.0</td>\n",
       "      <td>0.0</td>\n",
       "      <td>0.0</td>\n",
       "      <td>0.0</td>\n",
       "      <td>0.0</td>\n",
       "      <td>0.0</td>\n",
       "      <td>0.0</td>\n",
       "      <td>0.0</td>\n",
       "      <td>0.0</td>\n",
       "      <td>0.0</td>\n",
       "    </tr>\n",
       "    <tr>\n",
       "      <th>2</th>\n",
       "      <td>1.0</td>\n",
       "      <td>0.0</td>\n",
       "      <td>0.0</td>\n",
       "      <td>0.0</td>\n",
       "      <td>0.0</td>\n",
       "      <td>1.0</td>\n",
       "      <td>0.0</td>\n",
       "      <td>0.0</td>\n",
       "      <td>1.0</td>\n",
       "      <td>0.0</td>\n",
       "      <td>...</td>\n",
       "      <td>0.0</td>\n",
       "      <td>0.0</td>\n",
       "      <td>0.0</td>\n",
       "      <td>0.0</td>\n",
       "      <td>0.0</td>\n",
       "      <td>0.0</td>\n",
       "      <td>0.0</td>\n",
       "      <td>0.0</td>\n",
       "      <td>0.0</td>\n",
       "      <td>0.0</td>\n",
       "    </tr>\n",
       "    <tr>\n",
       "      <th>3</th>\n",
       "      <td>1.0</td>\n",
       "      <td>2.0</td>\n",
       "      <td>1.0</td>\n",
       "      <td>1.0</td>\n",
       "      <td>2.0</td>\n",
       "      <td>1.0</td>\n",
       "      <td>0.0</td>\n",
       "      <td>1.0</td>\n",
       "      <td>0.0</td>\n",
       "      <td>0.0</td>\n",
       "      <td>...</td>\n",
       "      <td>0.0</td>\n",
       "      <td>0.0</td>\n",
       "      <td>0.0</td>\n",
       "      <td>0.0</td>\n",
       "      <td>0.0</td>\n",
       "      <td>0.0</td>\n",
       "      <td>0.0</td>\n",
       "      <td>0.0</td>\n",
       "      <td>0.0</td>\n",
       "      <td>0.0</td>\n",
       "    </tr>\n",
       "    <tr>\n",
       "      <th>4</th>\n",
       "      <td>1.0</td>\n",
       "      <td>0.0</td>\n",
       "      <td>1.0</td>\n",
       "      <td>3.0</td>\n",
       "      <td>8.0</td>\n",
       "      <td>2.0</td>\n",
       "      <td>0.0</td>\n",
       "      <td>2.0</td>\n",
       "      <td>0.0</td>\n",
       "      <td>0.0</td>\n",
       "      <td>...</td>\n",
       "      <td>0.0</td>\n",
       "      <td>0.0</td>\n",
       "      <td>0.0</td>\n",
       "      <td>0.0</td>\n",
       "      <td>0.0</td>\n",
       "      <td>0.0</td>\n",
       "      <td>0.0</td>\n",
       "      <td>0.0</td>\n",
       "      <td>0.0</td>\n",
       "      <td>0.0</td>\n",
       "    </tr>\n",
       "  </tbody>\n",
       "</table>\n",
       "<p>5 rows × 18933 columns</p>\n",
       "</div>"
      ],
      "text/plain": [
       "   reuter  mln  dlrs  cts   vs  net  pct  shr  company  1986  ...  surges  \\\n",
       "0     1.0  1.0   1.0  3.0  8.0  3.0  0.0  2.0      0.0   0.0  ...     0.0   \n",
       "1     1.0  0.0   0.0  2.0  1.0  0.0  0.0  0.0      0.0   0.0  ...     0.0   \n",
       "2     1.0  0.0   0.0  0.0  0.0  1.0  0.0  0.0      1.0   0.0  ...     0.0   \n",
       "3     1.0  2.0   1.0  1.0  2.0  1.0  0.0  1.0      0.0   0.0  ...     0.0   \n",
       "4     1.0  0.0   1.0  3.0  8.0  2.0  0.0  2.0      0.0   0.0  ...     0.0   \n",
       "\n",
       "   substituting  388.1  siege  toits  montedision  petroli  5952000  scrapped  \\\n",
       "0           0.0    0.0    0.0    0.0          0.0      0.0      0.0       0.0   \n",
       "1           0.0    0.0    0.0    0.0          0.0      0.0      0.0       0.0   \n",
       "2           0.0    0.0    0.0    0.0          0.0      0.0      0.0       0.0   \n",
       "3           0.0    0.0    0.0    0.0          0.0      0.0      0.0       0.0   \n",
       "4           0.0    0.0    0.0    0.0          0.0      0.0      0.0       0.0   \n",
       "\n",
       "   richer  \n",
       "0     0.0  \n",
       "1     0.0  \n",
       "2     0.0  \n",
       "3     0.0  \n",
       "4     0.0  \n",
       "\n",
       "[5 rows x 18933 columns]"
      ]
     },
     "execution_count": 33,
     "metadata": {},
     "output_type": "execute_result"
    }
   ],
   "source": [
    "reuters_data_pandas.columns = termes_str\n",
    "reuters_data_pandas.head()"
   ]
  },
  {
   "cell_type": "markdown",
   "id": "e2728047",
   "metadata": {},
   "source": [
    "Nous allons appliquer tfidf transformer de scikit-learn"
   ]
  },
  {
   "cell_type": "code",
   "execution_count": 34,
   "id": "74f1da4d",
   "metadata": {},
   "outputs": [],
   "source": [
    "transformer = TfidfTransformer()"
   ]
  },
  {
   "cell_type": "code",
   "execution_count": 35,
   "id": "f2ece735",
   "metadata": {},
   "outputs": [
    {
     "data": {
      "text/plain": [
       "<8293x18933 sparse matrix of type '<class 'numpy.float64'>'\n",
       "\twith 389455 stored elements in Compressed Sparse Row format>"
      ]
     },
     "execution_count": 35,
     "metadata": {},
     "output_type": "execute_result"
    }
   ],
   "source": [
    "tfidf_trans = transformer.fit_transform(reuters_data_pandas)\n",
    "tfidf_trans"
   ]
  },
  {
   "cell_type": "code",
   "execution_count": 36,
   "id": "0816494f",
   "metadata": {},
   "outputs": [
    {
     "data": {
      "text/html": [
       "<div>\n",
       "<style scoped>\n",
       "    .dataframe tbody tr th:only-of-type {\n",
       "        vertical-align: middle;\n",
       "    }\n",
       "\n",
       "    .dataframe tbody tr th {\n",
       "        vertical-align: top;\n",
       "    }\n",
       "\n",
       "    .dataframe thead th {\n",
       "        text-align: right;\n",
       "    }\n",
       "</style>\n",
       "<table border=\"1\" class=\"dataframe\">\n",
       "  <thead>\n",
       "    <tr style=\"text-align: right;\">\n",
       "      <th></th>\n",
       "      <th>reuter</th>\n",
       "      <th>mln</th>\n",
       "      <th>dlrs</th>\n",
       "      <th>cts</th>\n",
       "      <th>vs</th>\n",
       "      <th>net</th>\n",
       "      <th>pct</th>\n",
       "      <th>shr</th>\n",
       "      <th>company</th>\n",
       "      <th>1986</th>\n",
       "      <th>...</th>\n",
       "      <th>surges</th>\n",
       "      <th>substituting</th>\n",
       "      <th>388.1</th>\n",
       "      <th>siege</th>\n",
       "      <th>toits</th>\n",
       "      <th>montedision</th>\n",
       "      <th>petroli</th>\n",
       "      <th>5952000</th>\n",
       "      <th>scrapped</th>\n",
       "      <th>richer</th>\n",
       "    </tr>\n",
       "  </thead>\n",
       "  <tbody>\n",
       "    <tr>\n",
       "      <th>0</th>\n",
       "      <td>0.023775</td>\n",
       "      <td>0.040260</td>\n",
       "      <td>0.043833</td>\n",
       "      <td>0.144426</td>\n",
       "      <td>0.391826</td>\n",
       "      <td>0.149121</td>\n",
       "      <td>0.0</td>\n",
       "      <td>0.108330</td>\n",
       "      <td>0.00000</td>\n",
       "      <td>0.0</td>\n",
       "      <td>...</td>\n",
       "      <td>0.0</td>\n",
       "      <td>0.0</td>\n",
       "      <td>0.0</td>\n",
       "      <td>0.0</td>\n",
       "      <td>0.0</td>\n",
       "      <td>0.0</td>\n",
       "      <td>0.0</td>\n",
       "      <td>0.0</td>\n",
       "      <td>0.0</td>\n",
       "      <td>0.0</td>\n",
       "    </tr>\n",
       "    <tr>\n",
       "      <th>1</th>\n",
       "      <td>0.069224</td>\n",
       "      <td>0.000000</td>\n",
       "      <td>0.000000</td>\n",
       "      <td>0.280349</td>\n",
       "      <td>0.142609</td>\n",
       "      <td>0.000000</td>\n",
       "      <td>0.0</td>\n",
       "      <td>0.000000</td>\n",
       "      <td>0.00000</td>\n",
       "      <td>0.0</td>\n",
       "      <td>...</td>\n",
       "      <td>0.0</td>\n",
       "      <td>0.0</td>\n",
       "      <td>0.0</td>\n",
       "      <td>0.0</td>\n",
       "      <td>0.0</td>\n",
       "      <td>0.0</td>\n",
       "      <td>0.0</td>\n",
       "      <td>0.0</td>\n",
       "      <td>0.0</td>\n",
       "      <td>0.0</td>\n",
       "    </tr>\n",
       "    <tr>\n",
       "      <th>2</th>\n",
       "      <td>0.047774</td>\n",
       "      <td>0.000000</td>\n",
       "      <td>0.000000</td>\n",
       "      <td>0.000000</td>\n",
       "      <td>0.000000</td>\n",
       "      <td>0.099885</td>\n",
       "      <td>0.0</td>\n",
       "      <td>0.000000</td>\n",
       "      <td>0.10992</td>\n",
       "      <td>0.0</td>\n",
       "      <td>...</td>\n",
       "      <td>0.0</td>\n",
       "      <td>0.0</td>\n",
       "      <td>0.0</td>\n",
       "      <td>0.0</td>\n",
       "      <td>0.0</td>\n",
       "      <td>0.0</td>\n",
       "      <td>0.0</td>\n",
       "      <td>0.0</td>\n",
       "      <td>0.0</td>\n",
       "      <td>0.0</td>\n",
       "    </tr>\n",
       "    <tr>\n",
       "      <th>3</th>\n",
       "      <td>0.048581</td>\n",
       "      <td>0.164537</td>\n",
       "      <td>0.089570</td>\n",
       "      <td>0.098374</td>\n",
       "      <td>0.200166</td>\n",
       "      <td>0.101572</td>\n",
       "      <td>0.0</td>\n",
       "      <td>0.110681</td>\n",
       "      <td>0.00000</td>\n",
       "      <td>0.0</td>\n",
       "      <td>...</td>\n",
       "      <td>0.0</td>\n",
       "      <td>0.0</td>\n",
       "      <td>0.0</td>\n",
       "      <td>0.0</td>\n",
       "      <td>0.0</td>\n",
       "      <td>0.0</td>\n",
       "      <td>0.0</td>\n",
       "      <td>0.0</td>\n",
       "      <td>0.0</td>\n",
       "      <td>0.0</td>\n",
       "    </tr>\n",
       "    <tr>\n",
       "      <th>4</th>\n",
       "      <td>0.027998</td>\n",
       "      <td>0.000000</td>\n",
       "      <td>0.051620</td>\n",
       "      <td>0.170083</td>\n",
       "      <td>0.461433</td>\n",
       "      <td>0.117075</td>\n",
       "      <td>0.0</td>\n",
       "      <td>0.127574</td>\n",
       "      <td>0.00000</td>\n",
       "      <td>0.0</td>\n",
       "      <td>...</td>\n",
       "      <td>0.0</td>\n",
       "      <td>0.0</td>\n",
       "      <td>0.0</td>\n",
       "      <td>0.0</td>\n",
       "      <td>0.0</td>\n",
       "      <td>0.0</td>\n",
       "      <td>0.0</td>\n",
       "      <td>0.0</td>\n",
       "      <td>0.0</td>\n",
       "      <td>0.0</td>\n",
       "    </tr>\n",
       "  </tbody>\n",
       "</table>\n",
       "<p>5 rows × 18933 columns</p>\n",
       "</div>"
      ],
      "text/plain": [
       "     reuter       mln      dlrs       cts        vs       net  pct       shr  \\\n",
       "0  0.023775  0.040260  0.043833  0.144426  0.391826  0.149121  0.0  0.108330   \n",
       "1  0.069224  0.000000  0.000000  0.280349  0.142609  0.000000  0.0  0.000000   \n",
       "2  0.047774  0.000000  0.000000  0.000000  0.000000  0.099885  0.0  0.000000   \n",
       "3  0.048581  0.164537  0.089570  0.098374  0.200166  0.101572  0.0  0.110681   \n",
       "4  0.027998  0.000000  0.051620  0.170083  0.461433  0.117075  0.0  0.127574   \n",
       "\n",
       "   company  1986  ...  surges  substituting  388.1  siege  toits  montedision  \\\n",
       "0  0.00000   0.0  ...     0.0           0.0    0.0    0.0    0.0          0.0   \n",
       "1  0.00000   0.0  ...     0.0           0.0    0.0    0.0    0.0          0.0   \n",
       "2  0.10992   0.0  ...     0.0           0.0    0.0    0.0    0.0          0.0   \n",
       "3  0.00000   0.0  ...     0.0           0.0    0.0    0.0    0.0          0.0   \n",
       "4  0.00000   0.0  ...     0.0           0.0    0.0    0.0    0.0          0.0   \n",
       "\n",
       "   petroli  5952000  scrapped  richer  \n",
       "0      0.0      0.0       0.0     0.0  \n",
       "1      0.0      0.0       0.0     0.0  \n",
       "2      0.0      0.0       0.0     0.0  \n",
       "3      0.0      0.0       0.0     0.0  \n",
       "4      0.0      0.0       0.0     0.0  \n",
       "\n",
       "[5 rows x 18933 columns]"
      ]
     },
     "execution_count": 36,
     "metadata": {},
     "output_type": "execute_result"
    }
   ],
   "source": [
    "reuters_data_pandas = pd.DataFrame(tfidf_trans.toarray(), index = reuters_data_pandas.index, columns=reuters_data_pandas.columns)\n",
    "reuters_data_pandas.head()"
   ]
  },
  {
   "cell_type": "markdown",
   "id": "3b84f3b7",
   "metadata": {},
   "source": [
    "Nous allons retourner le tableau à la version initiale (avec une indexation entière)"
   ]
  },
  {
   "cell_type": "code",
   "execution_count": 37,
   "id": "e6a6e3f4",
   "metadata": {},
   "outputs": [
    {
     "data": {
      "text/html": [
       "<div>\n",
       "<style scoped>\n",
       "    .dataframe tbody tr th:only-of-type {\n",
       "        vertical-align: middle;\n",
       "    }\n",
       "\n",
       "    .dataframe tbody tr th {\n",
       "        vertical-align: top;\n",
       "    }\n",
       "\n",
       "    .dataframe thead th {\n",
       "        text-align: right;\n",
       "    }\n",
       "</style>\n",
       "<table border=\"1\" class=\"dataframe\">\n",
       "  <thead>\n",
       "    <tr style=\"text-align: right;\">\n",
       "      <th></th>\n",
       "      <th>0</th>\n",
       "      <th>1</th>\n",
       "      <th>2</th>\n",
       "      <th>3</th>\n",
       "      <th>4</th>\n",
       "      <th>5</th>\n",
       "      <th>6</th>\n",
       "      <th>7</th>\n",
       "      <th>8</th>\n",
       "      <th>9</th>\n",
       "      <th>...</th>\n",
       "      <th>18923</th>\n",
       "      <th>18924</th>\n",
       "      <th>18925</th>\n",
       "      <th>18926</th>\n",
       "      <th>18927</th>\n",
       "      <th>18928</th>\n",
       "      <th>18929</th>\n",
       "      <th>18930</th>\n",
       "      <th>18931</th>\n",
       "      <th>18932</th>\n",
       "    </tr>\n",
       "  </thead>\n",
       "  <tbody>\n",
       "    <tr>\n",
       "      <th>0</th>\n",
       "      <td>0.023775</td>\n",
       "      <td>0.040260</td>\n",
       "      <td>0.043833</td>\n",
       "      <td>0.144426</td>\n",
       "      <td>0.391826</td>\n",
       "      <td>0.149121</td>\n",
       "      <td>0.0</td>\n",
       "      <td>0.108330</td>\n",
       "      <td>0.00000</td>\n",
       "      <td>0.0</td>\n",
       "      <td>...</td>\n",
       "      <td>0.0</td>\n",
       "      <td>0.0</td>\n",
       "      <td>0.0</td>\n",
       "      <td>0.0</td>\n",
       "      <td>0.0</td>\n",
       "      <td>0.0</td>\n",
       "      <td>0.0</td>\n",
       "      <td>0.0</td>\n",
       "      <td>0.0</td>\n",
       "      <td>0.0</td>\n",
       "    </tr>\n",
       "    <tr>\n",
       "      <th>1</th>\n",
       "      <td>0.069224</td>\n",
       "      <td>0.000000</td>\n",
       "      <td>0.000000</td>\n",
       "      <td>0.280349</td>\n",
       "      <td>0.142609</td>\n",
       "      <td>0.000000</td>\n",
       "      <td>0.0</td>\n",
       "      <td>0.000000</td>\n",
       "      <td>0.00000</td>\n",
       "      <td>0.0</td>\n",
       "      <td>...</td>\n",
       "      <td>0.0</td>\n",
       "      <td>0.0</td>\n",
       "      <td>0.0</td>\n",
       "      <td>0.0</td>\n",
       "      <td>0.0</td>\n",
       "      <td>0.0</td>\n",
       "      <td>0.0</td>\n",
       "      <td>0.0</td>\n",
       "      <td>0.0</td>\n",
       "      <td>0.0</td>\n",
       "    </tr>\n",
       "    <tr>\n",
       "      <th>2</th>\n",
       "      <td>0.047774</td>\n",
       "      <td>0.000000</td>\n",
       "      <td>0.000000</td>\n",
       "      <td>0.000000</td>\n",
       "      <td>0.000000</td>\n",
       "      <td>0.099885</td>\n",
       "      <td>0.0</td>\n",
       "      <td>0.000000</td>\n",
       "      <td>0.10992</td>\n",
       "      <td>0.0</td>\n",
       "      <td>...</td>\n",
       "      <td>0.0</td>\n",
       "      <td>0.0</td>\n",
       "      <td>0.0</td>\n",
       "      <td>0.0</td>\n",
       "      <td>0.0</td>\n",
       "      <td>0.0</td>\n",
       "      <td>0.0</td>\n",
       "      <td>0.0</td>\n",
       "      <td>0.0</td>\n",
       "      <td>0.0</td>\n",
       "    </tr>\n",
       "    <tr>\n",
       "      <th>3</th>\n",
       "      <td>0.048581</td>\n",
       "      <td>0.164537</td>\n",
       "      <td>0.089570</td>\n",
       "      <td>0.098374</td>\n",
       "      <td>0.200166</td>\n",
       "      <td>0.101572</td>\n",
       "      <td>0.0</td>\n",
       "      <td>0.110681</td>\n",
       "      <td>0.00000</td>\n",
       "      <td>0.0</td>\n",
       "      <td>...</td>\n",
       "      <td>0.0</td>\n",
       "      <td>0.0</td>\n",
       "      <td>0.0</td>\n",
       "      <td>0.0</td>\n",
       "      <td>0.0</td>\n",
       "      <td>0.0</td>\n",
       "      <td>0.0</td>\n",
       "      <td>0.0</td>\n",
       "      <td>0.0</td>\n",
       "      <td>0.0</td>\n",
       "    </tr>\n",
       "    <tr>\n",
       "      <th>4</th>\n",
       "      <td>0.027998</td>\n",
       "      <td>0.000000</td>\n",
       "      <td>0.051620</td>\n",
       "      <td>0.170083</td>\n",
       "      <td>0.461433</td>\n",
       "      <td>0.117075</td>\n",
       "      <td>0.0</td>\n",
       "      <td>0.127574</td>\n",
       "      <td>0.00000</td>\n",
       "      <td>0.0</td>\n",
       "      <td>...</td>\n",
       "      <td>0.0</td>\n",
       "      <td>0.0</td>\n",
       "      <td>0.0</td>\n",
       "      <td>0.0</td>\n",
       "      <td>0.0</td>\n",
       "      <td>0.0</td>\n",
       "      <td>0.0</td>\n",
       "      <td>0.0</td>\n",
       "      <td>0.0</td>\n",
       "      <td>0.0</td>\n",
       "    </tr>\n",
       "  </tbody>\n",
       "</table>\n",
       "<p>5 rows × 18933 columns</p>\n",
       "</div>"
      ],
      "text/plain": [
       "      0         1         2         3         4         5      6      \\\n",
       "0  0.023775  0.040260  0.043833  0.144426  0.391826  0.149121    0.0   \n",
       "1  0.069224  0.000000  0.000000  0.280349  0.142609  0.000000    0.0   \n",
       "2  0.047774  0.000000  0.000000  0.000000  0.000000  0.099885    0.0   \n",
       "3  0.048581  0.164537  0.089570  0.098374  0.200166  0.101572    0.0   \n",
       "4  0.027998  0.000000  0.051620  0.170083  0.461433  0.117075    0.0   \n",
       "\n",
       "      7        8      9      ...  18923  18924  18925  18926  18927  18928  \\\n",
       "0  0.108330  0.00000    0.0  ...    0.0    0.0    0.0    0.0    0.0    0.0   \n",
       "1  0.000000  0.00000    0.0  ...    0.0    0.0    0.0    0.0    0.0    0.0   \n",
       "2  0.000000  0.10992    0.0  ...    0.0    0.0    0.0    0.0    0.0    0.0   \n",
       "3  0.110681  0.00000    0.0  ...    0.0    0.0    0.0    0.0    0.0    0.0   \n",
       "4  0.127574  0.00000    0.0  ...    0.0    0.0    0.0    0.0    0.0    0.0   \n",
       "\n",
       "   18929  18930  18931  18932  \n",
       "0    0.0    0.0    0.0    0.0  \n",
       "1    0.0    0.0    0.0    0.0  \n",
       "2    0.0    0.0    0.0    0.0  \n",
       "3    0.0    0.0    0.0    0.0  \n",
       "4    0.0    0.0    0.0    0.0  \n",
       "\n",
       "[5 rows x 18933 columns]"
      ]
     },
     "execution_count": 37,
     "metadata": {},
     "output_type": "execute_result"
    }
   ],
   "source": [
    "reuters_data_pandas.columns = reuters_terms[:,0]\n",
    "reuters_data_pandas.head()"
   ]
  },
  {
   "cell_type": "code",
   "execution_count": 38,
   "id": "f50725e6",
   "metadata": {},
   "outputs": [
    {
     "name": "stdout",
     "output_type": "stream",
     "text": [
      "ARRAY :  reuters_data\n",
      "--- Type               :  <class 'numpy.ndarray'>\n",
      "--- Dimensions         :  (8293, 18933)\n",
      "--- Nombre de lignes   :  8293\n",
      "--- Nombre de colonnes :  18933\n",
      "--- Nombre totale des données décrites dans le dataset :  157011369\n",
      "--- Type des données :  float64\n",
      "\n",
      "\n",
      "AFFICHAGE (partie) : \n",
      " [[0.0237746  0.04026036 0.04383328 ... 0.         0.         0.        ]\n",
      " [0.06922406 0.         0.         ... 0.         0.         0.        ]\n",
      " [0.04777428 0.         0.         ... 0.         0.         0.        ]\n",
      " [0.04858139 0.16453732 0.08956962 ... 0.         0.         0.        ]\n",
      " [0.02799811 0.         0.05162019 ... 0.         0.         0.        ]]\n"
     ]
    }
   ],
   "source": [
    "print_numpy_array_infos(reuters_data_pandas.to_numpy(), \"reuters_data\")"
   ]
  },
  {
   "cell_type": "markdown",
   "id": "d626b996",
   "metadata": {},
   "source": [
    "<strong>| Définition de la fonction <a href=\"#print_numpy_array_infos\"> print_numpy_array_infos</a> |</strong>"
   ]
  },
  {
   "cell_type": "code",
   "execution_count": 39,
   "id": "b35a53df",
   "metadata": {},
   "outputs": [],
   "source": [
    "# Enregistrement data.csv (tf-idf)\n",
    "reuters_data_pandas.to_csv(PRE_TRAIT_MAT_TF_IDF_FILE, index=False)"
   ]
  },
  {
   "cell_type": "markdown",
   "id": "2c548b3a",
   "metadata": {},
   "source": [
    "<i>- Ordonnées</i>"
   ]
  },
  {
   "cell_type": "markdown",
   "id": "475749b0",
   "metadata": {},
   "source": [
    "nous allons ordonner data suivant les documents"
   ]
  },
  {
   "cell_type": "code",
   "execution_count": 40,
   "id": "bd4720b1",
   "metadata": {},
   "outputs": [
    {
     "data": {
      "text/html": [
       "<div>\n",
       "<style scoped>\n",
       "    .dataframe tbody tr th:only-of-type {\n",
       "        vertical-align: middle;\n",
       "    }\n",
       "\n",
       "    .dataframe tbody tr th {\n",
       "        vertical-align: top;\n",
       "    }\n",
       "\n",
       "    .dataframe thead th {\n",
       "        text-align: right;\n",
       "    }\n",
       "</style>\n",
       "<table border=\"1\" class=\"dataframe\">\n",
       "  <thead>\n",
       "    <tr style=\"text-align: right;\">\n",
       "      <th></th>\n",
       "      <th>0</th>\n",
       "      <th>1</th>\n",
       "      <th>2</th>\n",
       "      <th>3</th>\n",
       "      <th>4</th>\n",
       "      <th>5</th>\n",
       "      <th>6</th>\n",
       "      <th>7</th>\n",
       "      <th>8</th>\n",
       "      <th>9</th>\n",
       "      <th>...</th>\n",
       "      <th>18923</th>\n",
       "      <th>18924</th>\n",
       "      <th>18925</th>\n",
       "      <th>18926</th>\n",
       "      <th>18927</th>\n",
       "      <th>18928</th>\n",
       "      <th>18929</th>\n",
       "      <th>18930</th>\n",
       "      <th>18931</th>\n",
       "      <th>18932</th>\n",
       "    </tr>\n",
       "  </thead>\n",
       "  <tbody>\n",
       "    <tr>\n",
       "      <th>0</th>\n",
       "      <td>1.0</td>\n",
       "      <td>1.0</td>\n",
       "      <td>1.0</td>\n",
       "      <td>3.0</td>\n",
       "      <td>8.0</td>\n",
       "      <td>3.0</td>\n",
       "      <td>0.0</td>\n",
       "      <td>2.0</td>\n",
       "      <td>0.0</td>\n",
       "      <td>0.0</td>\n",
       "      <td>...</td>\n",
       "      <td>0.0</td>\n",
       "      <td>0.0</td>\n",
       "      <td>0.0</td>\n",
       "      <td>0.0</td>\n",
       "      <td>0.0</td>\n",
       "      <td>0.0</td>\n",
       "      <td>0.0</td>\n",
       "      <td>0.0</td>\n",
       "      <td>0.0</td>\n",
       "      <td>0.0</td>\n",
       "    </tr>\n",
       "    <tr>\n",
       "      <th>1</th>\n",
       "      <td>1.0</td>\n",
       "      <td>0.0</td>\n",
       "      <td>0.0</td>\n",
       "      <td>2.0</td>\n",
       "      <td>1.0</td>\n",
       "      <td>0.0</td>\n",
       "      <td>0.0</td>\n",
       "      <td>0.0</td>\n",
       "      <td>0.0</td>\n",
       "      <td>0.0</td>\n",
       "      <td>...</td>\n",
       "      <td>0.0</td>\n",
       "      <td>0.0</td>\n",
       "      <td>0.0</td>\n",
       "      <td>0.0</td>\n",
       "      <td>0.0</td>\n",
       "      <td>0.0</td>\n",
       "      <td>0.0</td>\n",
       "      <td>0.0</td>\n",
       "      <td>0.0</td>\n",
       "      <td>0.0</td>\n",
       "    </tr>\n",
       "    <tr>\n",
       "      <th>2</th>\n",
       "      <td>1.0</td>\n",
       "      <td>0.0</td>\n",
       "      <td>0.0</td>\n",
       "      <td>0.0</td>\n",
       "      <td>0.0</td>\n",
       "      <td>1.0</td>\n",
       "      <td>0.0</td>\n",
       "      <td>0.0</td>\n",
       "      <td>1.0</td>\n",
       "      <td>0.0</td>\n",
       "      <td>...</td>\n",
       "      <td>0.0</td>\n",
       "      <td>0.0</td>\n",
       "      <td>0.0</td>\n",
       "      <td>0.0</td>\n",
       "      <td>0.0</td>\n",
       "      <td>0.0</td>\n",
       "      <td>0.0</td>\n",
       "      <td>0.0</td>\n",
       "      <td>0.0</td>\n",
       "      <td>0.0</td>\n",
       "    </tr>\n",
       "    <tr>\n",
       "      <th>3</th>\n",
       "      <td>1.0</td>\n",
       "      <td>2.0</td>\n",
       "      <td>1.0</td>\n",
       "      <td>1.0</td>\n",
       "      <td>2.0</td>\n",
       "      <td>1.0</td>\n",
       "      <td>0.0</td>\n",
       "      <td>1.0</td>\n",
       "      <td>0.0</td>\n",
       "      <td>0.0</td>\n",
       "      <td>...</td>\n",
       "      <td>0.0</td>\n",
       "      <td>0.0</td>\n",
       "      <td>0.0</td>\n",
       "      <td>0.0</td>\n",
       "      <td>0.0</td>\n",
       "      <td>0.0</td>\n",
       "      <td>0.0</td>\n",
       "      <td>0.0</td>\n",
       "      <td>0.0</td>\n",
       "      <td>0.0</td>\n",
       "    </tr>\n",
       "    <tr>\n",
       "      <th>4</th>\n",
       "      <td>1.0</td>\n",
       "      <td>0.0</td>\n",
       "      <td>1.0</td>\n",
       "      <td>3.0</td>\n",
       "      <td>8.0</td>\n",
       "      <td>2.0</td>\n",
       "      <td>0.0</td>\n",
       "      <td>2.0</td>\n",
       "      <td>0.0</td>\n",
       "      <td>0.0</td>\n",
       "      <td>...</td>\n",
       "      <td>0.0</td>\n",
       "      <td>0.0</td>\n",
       "      <td>0.0</td>\n",
       "      <td>0.0</td>\n",
       "      <td>0.0</td>\n",
       "      <td>0.0</td>\n",
       "      <td>0.0</td>\n",
       "      <td>0.0</td>\n",
       "      <td>0.0</td>\n",
       "      <td>0.0</td>\n",
       "    </tr>\n",
       "  </tbody>\n",
       "</table>\n",
       "<p>5 rows × 18933 columns</p>\n",
       "</div>"
      ],
      "text/plain": [
       "   0      1      2      3      4      5      6      7      8      9      ...  \\\n",
       "0    1.0    1.0    1.0    3.0    8.0    3.0    0.0    2.0    0.0    0.0  ...   \n",
       "1    1.0    0.0    0.0    2.0    1.0    0.0    0.0    0.0    0.0    0.0  ...   \n",
       "2    1.0    0.0    0.0    0.0    0.0    1.0    0.0    0.0    1.0    0.0  ...   \n",
       "3    1.0    2.0    1.0    1.0    2.0    1.0    0.0    1.0    0.0    0.0  ...   \n",
       "4    1.0    0.0    1.0    3.0    8.0    2.0    0.0    2.0    0.0    0.0  ...   \n",
       "\n",
       "   18923  18924  18925  18926  18927  18928  18929  18930  18931  18932  \n",
       "0    0.0    0.0    0.0    0.0    0.0    0.0    0.0    0.0    0.0    0.0  \n",
       "1    0.0    0.0    0.0    0.0    0.0    0.0    0.0    0.0    0.0    0.0  \n",
       "2    0.0    0.0    0.0    0.0    0.0    0.0    0.0    0.0    0.0    0.0  \n",
       "3    0.0    0.0    0.0    0.0    0.0    0.0    0.0    0.0    0.0    0.0  \n",
       "4    0.0    0.0    0.0    0.0    0.0    0.0    0.0    0.0    0.0    0.0  \n",
       "\n",
       "[5 rows x 18933 columns]"
      ]
     },
     "execution_count": 40,
     "metadata": {},
     "output_type": "execute_result"
    }
   ],
   "source": [
    "# Pandas DataFrame\n",
    "reuters_data = pd.DataFrame(reuters_data)\n",
    "reuters_data.head()"
   ]
  },
  {
   "cell_type": "code",
   "execution_count": 41,
   "id": "908f9c58",
   "metadata": {},
   "outputs": [
    {
     "data": {
      "text/html": [
       "<div>\n",
       "<style scoped>\n",
       "    .dataframe tbody tr th:only-of-type {\n",
       "        vertical-align: middle;\n",
       "    }\n",
       "\n",
       "    .dataframe tbody tr th {\n",
       "        vertical-align: top;\n",
       "    }\n",
       "\n",
       "    .dataframe thead th {\n",
       "        text-align: right;\n",
       "    }\n",
       "</style>\n",
       "<table border=\"1\" class=\"dataframe\">\n",
       "  <thead>\n",
       "    <tr style=\"text-align: right;\">\n",
       "      <th></th>\n",
       "      <th>index</th>\n",
       "      <th>0</th>\n",
       "      <th>1</th>\n",
       "      <th>2</th>\n",
       "      <th>3</th>\n",
       "      <th>4</th>\n",
       "      <th>5</th>\n",
       "      <th>6</th>\n",
       "      <th>7</th>\n",
       "      <th>8</th>\n",
       "      <th>...</th>\n",
       "      <th>18923</th>\n",
       "      <th>18924</th>\n",
       "      <th>18925</th>\n",
       "      <th>18926</th>\n",
       "      <th>18927</th>\n",
       "      <th>18928</th>\n",
       "      <th>18929</th>\n",
       "      <th>18930</th>\n",
       "      <th>18931</th>\n",
       "      <th>18932</th>\n",
       "    </tr>\n",
       "  </thead>\n",
       "  <tbody>\n",
       "    <tr>\n",
       "      <th>0</th>\n",
       "      <td>6504</td>\n",
       "      <td>1.0</td>\n",
       "      <td>1.0</td>\n",
       "      <td>1.0</td>\n",
       "      <td>3.0</td>\n",
       "      <td>8.0</td>\n",
       "      <td>3.0</td>\n",
       "      <td>0.0</td>\n",
       "      <td>2.0</td>\n",
       "      <td>0.0</td>\n",
       "      <td>...</td>\n",
       "      <td>0.0</td>\n",
       "      <td>0.0</td>\n",
       "      <td>0.0</td>\n",
       "      <td>0.0</td>\n",
       "      <td>0.0</td>\n",
       "      <td>0.0</td>\n",
       "      <td>0.0</td>\n",
       "      <td>0.0</td>\n",
       "      <td>0.0</td>\n",
       "      <td>0.0</td>\n",
       "    </tr>\n",
       "    <tr>\n",
       "      <th>1</th>\n",
       "      <td>4253</td>\n",
       "      <td>1.0</td>\n",
       "      <td>0.0</td>\n",
       "      <td>0.0</td>\n",
       "      <td>2.0</td>\n",
       "      <td>1.0</td>\n",
       "      <td>0.0</td>\n",
       "      <td>0.0</td>\n",
       "      <td>0.0</td>\n",
       "      <td>0.0</td>\n",
       "      <td>...</td>\n",
       "      <td>0.0</td>\n",
       "      <td>0.0</td>\n",
       "      <td>0.0</td>\n",
       "      <td>0.0</td>\n",
       "      <td>0.0</td>\n",
       "      <td>0.0</td>\n",
       "      <td>0.0</td>\n",
       "      <td>0.0</td>\n",
       "      <td>0.0</td>\n",
       "      <td>0.0</td>\n",
       "    </tr>\n",
       "    <tr>\n",
       "      <th>2</th>\n",
       "      <td>11728</td>\n",
       "      <td>1.0</td>\n",
       "      <td>0.0</td>\n",
       "      <td>0.0</td>\n",
       "      <td>0.0</td>\n",
       "      <td>0.0</td>\n",
       "      <td>1.0</td>\n",
       "      <td>0.0</td>\n",
       "      <td>0.0</td>\n",
       "      <td>1.0</td>\n",
       "      <td>...</td>\n",
       "      <td>0.0</td>\n",
       "      <td>0.0</td>\n",
       "      <td>0.0</td>\n",
       "      <td>0.0</td>\n",
       "      <td>0.0</td>\n",
       "      <td>0.0</td>\n",
       "      <td>0.0</td>\n",
       "      <td>0.0</td>\n",
       "      <td>0.0</td>\n",
       "      <td>0.0</td>\n",
       "    </tr>\n",
       "    <tr>\n",
       "      <th>3</th>\n",
       "      <td>9115</td>\n",
       "      <td>1.0</td>\n",
       "      <td>2.0</td>\n",
       "      <td>1.0</td>\n",
       "      <td>1.0</td>\n",
       "      <td>2.0</td>\n",
       "      <td>1.0</td>\n",
       "      <td>0.0</td>\n",
       "      <td>1.0</td>\n",
       "      <td>0.0</td>\n",
       "      <td>...</td>\n",
       "      <td>0.0</td>\n",
       "      <td>0.0</td>\n",
       "      <td>0.0</td>\n",
       "      <td>0.0</td>\n",
       "      <td>0.0</td>\n",
       "      <td>0.0</td>\n",
       "      <td>0.0</td>\n",
       "      <td>0.0</td>\n",
       "      <td>0.0</td>\n",
       "      <td>0.0</td>\n",
       "    </tr>\n",
       "    <tr>\n",
       "      <th>4</th>\n",
       "      <td>3874</td>\n",
       "      <td>1.0</td>\n",
       "      <td>0.0</td>\n",
       "      <td>1.0</td>\n",
       "      <td>3.0</td>\n",
       "      <td>8.0</td>\n",
       "      <td>2.0</td>\n",
       "      <td>0.0</td>\n",
       "      <td>2.0</td>\n",
       "      <td>0.0</td>\n",
       "      <td>...</td>\n",
       "      <td>0.0</td>\n",
       "      <td>0.0</td>\n",
       "      <td>0.0</td>\n",
       "      <td>0.0</td>\n",
       "      <td>0.0</td>\n",
       "      <td>0.0</td>\n",
       "      <td>0.0</td>\n",
       "      <td>0.0</td>\n",
       "      <td>0.0</td>\n",
       "      <td>0.0</td>\n",
       "    </tr>\n",
       "  </tbody>\n",
       "</table>\n",
       "<p>5 rows × 18934 columns</p>\n",
       "</div>"
      ],
      "text/plain": [
       "   index    0    1    2    3    4    5    6    7    8  ...  18923  18924  \\\n",
       "0   6504  1.0  1.0  1.0  3.0  8.0  3.0  0.0  2.0  0.0  ...    0.0    0.0   \n",
       "1   4253  1.0  0.0  0.0  2.0  1.0  0.0  0.0  0.0  0.0  ...    0.0    0.0   \n",
       "2  11728  1.0  0.0  0.0  0.0  0.0  1.0  0.0  0.0  1.0  ...    0.0    0.0   \n",
       "3   9115  1.0  2.0  1.0  1.0  2.0  1.0  0.0  1.0  0.0  ...    0.0    0.0   \n",
       "4   3874  1.0  0.0  1.0  3.0  8.0  2.0  0.0  2.0  0.0  ...    0.0    0.0   \n",
       "\n",
       "   18925  18926  18927  18928  18929  18930  18931  18932  \n",
       "0    0.0    0.0    0.0    0.0    0.0    0.0    0.0    0.0  \n",
       "1    0.0    0.0    0.0    0.0    0.0    0.0    0.0    0.0  \n",
       "2    0.0    0.0    0.0    0.0    0.0    0.0    0.0    0.0  \n",
       "3    0.0    0.0    0.0    0.0    0.0    0.0    0.0    0.0  \n",
       "4    0.0    0.0    0.0    0.0    0.0    0.0    0.0    0.0  \n",
       "\n",
       "[5 rows x 18934 columns]"
      ]
     },
     "execution_count": 41,
     "metadata": {},
     "output_type": "execute_result"
    }
   ],
   "source": [
    "reuters_data.insert(0, \"index\", list(reuters_docs_index))\n",
    "reuters_data.head()"
   ]
  },
  {
   "cell_type": "code",
   "execution_count": 42,
   "id": "ab0b9e3f",
   "metadata": {},
   "outputs": [
    {
     "data": {
      "text/html": [
       "<div>\n",
       "<style scoped>\n",
       "    .dataframe tbody tr th:only-of-type {\n",
       "        vertical-align: middle;\n",
       "    }\n",
       "\n",
       "    .dataframe tbody tr th {\n",
       "        vertical-align: top;\n",
       "    }\n",
       "\n",
       "    .dataframe thead th {\n",
       "        text-align: right;\n",
       "    }\n",
       "</style>\n",
       "<table border=\"1\" class=\"dataframe\">\n",
       "  <thead>\n",
       "    <tr style=\"text-align: right;\">\n",
       "      <th></th>\n",
       "      <th>0</th>\n",
       "      <th>1</th>\n",
       "      <th>2</th>\n",
       "      <th>3</th>\n",
       "      <th>4</th>\n",
       "      <th>5</th>\n",
       "      <th>6</th>\n",
       "      <th>7</th>\n",
       "      <th>8</th>\n",
       "      <th>9</th>\n",
       "      <th>...</th>\n",
       "      <th>18923</th>\n",
       "      <th>18924</th>\n",
       "      <th>18925</th>\n",
       "      <th>18926</th>\n",
       "      <th>18927</th>\n",
       "      <th>18928</th>\n",
       "      <th>18929</th>\n",
       "      <th>18930</th>\n",
       "      <th>18931</th>\n",
       "      <th>18932</th>\n",
       "    </tr>\n",
       "  </thead>\n",
       "  <tbody>\n",
       "    <tr>\n",
       "      <th>7511</th>\n",
       "      <td>1.0</td>\n",
       "      <td>5.0</td>\n",
       "      <td>14.0</td>\n",
       "      <td>0.0</td>\n",
       "      <td>0.0</td>\n",
       "      <td>0.0</td>\n",
       "      <td>0.0</td>\n",
       "      <td>0.0</td>\n",
       "      <td>0.0</td>\n",
       "      <td>1.0</td>\n",
       "      <td>...</td>\n",
       "      <td>0.0</td>\n",
       "      <td>0.0</td>\n",
       "      <td>0.0</td>\n",
       "      <td>0.0</td>\n",
       "      <td>0.0</td>\n",
       "      <td>0.0</td>\n",
       "      <td>0.0</td>\n",
       "      <td>0.0</td>\n",
       "      <td>0.0</td>\n",
       "      <td>0.0</td>\n",
       "    </tr>\n",
       "    <tr>\n",
       "      <th>1293</th>\n",
       "      <td>1.0</td>\n",
       "      <td>2.0</td>\n",
       "      <td>0.0</td>\n",
       "      <td>0.0</td>\n",
       "      <td>0.0</td>\n",
       "      <td>0.0</td>\n",
       "      <td>0.0</td>\n",
       "      <td>0.0</td>\n",
       "      <td>1.0</td>\n",
       "      <td>0.0</td>\n",
       "      <td>...</td>\n",
       "      <td>0.0</td>\n",
       "      <td>0.0</td>\n",
       "      <td>0.0</td>\n",
       "      <td>0.0</td>\n",
       "      <td>0.0</td>\n",
       "      <td>0.0</td>\n",
       "      <td>0.0</td>\n",
       "      <td>0.0</td>\n",
       "      <td>0.0</td>\n",
       "      <td>0.0</td>\n",
       "    </tr>\n",
       "    <tr>\n",
       "      <th>4313</th>\n",
       "      <td>1.0</td>\n",
       "      <td>1.0</td>\n",
       "      <td>4.0</td>\n",
       "      <td>0.0</td>\n",
       "      <td>0.0</td>\n",
       "      <td>0.0</td>\n",
       "      <td>2.0</td>\n",
       "      <td>0.0</td>\n",
       "      <td>4.0</td>\n",
       "      <td>0.0</td>\n",
       "      <td>...</td>\n",
       "      <td>0.0</td>\n",
       "      <td>0.0</td>\n",
       "      <td>0.0</td>\n",
       "      <td>0.0</td>\n",
       "      <td>0.0</td>\n",
       "      <td>0.0</td>\n",
       "      <td>0.0</td>\n",
       "      <td>0.0</td>\n",
       "      <td>0.0</td>\n",
       "      <td>0.0</td>\n",
       "    </tr>\n",
       "    <tr>\n",
       "      <th>916</th>\n",
       "      <td>1.0</td>\n",
       "      <td>6.0</td>\n",
       "      <td>2.0</td>\n",
       "      <td>2.0</td>\n",
       "      <td>5.0</td>\n",
       "      <td>1.0</td>\n",
       "      <td>0.0</td>\n",
       "      <td>2.0</td>\n",
       "      <td>0.0</td>\n",
       "      <td>0.0</td>\n",
       "      <td>...</td>\n",
       "      <td>0.0</td>\n",
       "      <td>0.0</td>\n",
       "      <td>0.0</td>\n",
       "      <td>0.0</td>\n",
       "      <td>0.0</td>\n",
       "      <td>0.0</td>\n",
       "      <td>0.0</td>\n",
       "      <td>0.0</td>\n",
       "      <td>0.0</td>\n",
       "      <td>0.0</td>\n",
       "    </tr>\n",
       "    <tr>\n",
       "      <th>572</th>\n",
       "      <td>1.0</td>\n",
       "      <td>8.0</td>\n",
       "      <td>0.0</td>\n",
       "      <td>7.0</td>\n",
       "      <td>9.0</td>\n",
       "      <td>1.0</td>\n",
       "      <td>0.0</td>\n",
       "      <td>4.0</td>\n",
       "      <td>0.0</td>\n",
       "      <td>1.0</td>\n",
       "      <td>...</td>\n",
       "      <td>0.0</td>\n",
       "      <td>0.0</td>\n",
       "      <td>0.0</td>\n",
       "      <td>0.0</td>\n",
       "      <td>0.0</td>\n",
       "      <td>0.0</td>\n",
       "      <td>0.0</td>\n",
       "      <td>0.0</td>\n",
       "      <td>0.0</td>\n",
       "      <td>0.0</td>\n",
       "    </tr>\n",
       "  </tbody>\n",
       "</table>\n",
       "<p>5 rows × 18933 columns</p>\n",
       "</div>"
      ],
      "text/plain": [
       "      0      1      2      3      4      5      6      7      8      9      \\\n",
       "7511    1.0    5.0   14.0    0.0    0.0    0.0    0.0    0.0    0.0    1.0   \n",
       "1293    1.0    2.0    0.0    0.0    0.0    0.0    0.0    0.0    1.0    0.0   \n",
       "4313    1.0    1.0    4.0    0.0    0.0    0.0    2.0    0.0    4.0    0.0   \n",
       "916     1.0    6.0    2.0    2.0    5.0    1.0    0.0    2.0    0.0    0.0   \n",
       "572     1.0    8.0    0.0    7.0    9.0    1.0    0.0    4.0    0.0    1.0   \n",
       "\n",
       "      ...  18923  18924  18925  18926  18927  18928  18929  18930  18931  \\\n",
       "7511  ...    0.0    0.0    0.0    0.0    0.0    0.0    0.0    0.0    0.0   \n",
       "1293  ...    0.0    0.0    0.0    0.0    0.0    0.0    0.0    0.0    0.0   \n",
       "4313  ...    0.0    0.0    0.0    0.0    0.0    0.0    0.0    0.0    0.0   \n",
       "916   ...    0.0    0.0    0.0    0.0    0.0    0.0    0.0    0.0    0.0   \n",
       "572   ...    0.0    0.0    0.0    0.0    0.0    0.0    0.0    0.0    0.0   \n",
       "\n",
       "      18932  \n",
       "7511    0.0  \n",
       "1293    0.0  \n",
       "4313    0.0  \n",
       "916     0.0  \n",
       "572     0.0  \n",
       "\n",
       "[5 rows x 18933 columns]"
      ]
     },
     "execution_count": 42,
     "metadata": {},
     "output_type": "execute_result"
    }
   ],
   "source": [
    "reuters_data = reuters_data.sort_values(by=['index'])\n",
    "reuters_data.pop(\"index\")\n",
    "reuters_data.head()"
   ]
  },
  {
   "cell_type": "code",
   "execution_count": 43,
   "id": "af2f62a2",
   "metadata": {},
   "outputs": [],
   "source": [
    "# Enregistrement data.csv (ordonné)\n",
    "reuters_data.to_csv(PRE_TRAIT_MAT_SORTED_FILE, index=False)"
   ]
  },
  {
   "cell_type": "markdown",
   "id": "d5ff5395",
   "metadata": {},
   "source": [
    "<h5>Pré-traitement des labels</h5>"
   ]
  },
  {
   "cell_type": "markdown",
   "id": "1ff30b35",
   "metadata": {},
   "source": [
    "Nous allons d'abord changer le nom de la colonne pour plus de compréhension."
   ]
  },
  {
   "cell_type": "code",
   "execution_count": 44,
   "id": "a33a4ddc",
   "metadata": {},
   "outputs": [
    {
     "data": {
      "text/html": [
       "<div>\n",
       "<style scoped>\n",
       "    .dataframe tbody tr th:only-of-type {\n",
       "        vertical-align: middle;\n",
       "    }\n",
       "\n",
       "    .dataframe tbody tr th {\n",
       "        vertical-align: top;\n",
       "    }\n",
       "\n",
       "    .dataframe thead th {\n",
       "        text-align: right;\n",
       "    }\n",
       "</style>\n",
       "<table border=\"1\" class=\"dataframe\">\n",
       "  <thead>\n",
       "    <tr style=\"text-align: right;\">\n",
       "      <th></th>\n",
       "      <th>label</th>\n",
       "    </tr>\n",
       "  </thead>\n",
       "  <tbody>\n",
       "    <tr>\n",
       "      <th>0</th>\n",
       "      <td>1</td>\n",
       "    </tr>\n",
       "    <tr>\n",
       "      <th>1</th>\n",
       "      <td>1</td>\n",
       "    </tr>\n",
       "    <tr>\n",
       "      <th>2</th>\n",
       "      <td>1</td>\n",
       "    </tr>\n",
       "    <tr>\n",
       "      <th>3</th>\n",
       "      <td>1</td>\n",
       "    </tr>\n",
       "    <tr>\n",
       "      <th>4</th>\n",
       "      <td>1</td>\n",
       "    </tr>\n",
       "  </tbody>\n",
       "</table>\n",
       "</div>"
      ],
      "text/plain": [
       "   label\n",
       "0      1\n",
       "1      1\n",
       "2      1\n",
       "3      1\n",
       "4      1"
      ]
     },
     "execution_count": 44,
     "metadata": {},
     "output_type": "execute_result"
    }
   ],
   "source": [
    "reuters_labels.columns = [\"label\"]\n",
    "reuters_labels.head()"
   ]
  },
  {
   "cell_type": "markdown",
   "id": "8268b71e",
   "metadata": {},
   "source": [
    "<i>- Non-Ordonnées</i>"
   ]
  },
  {
   "cell_type": "markdown",
   "id": "e7c2ba70",
   "metadata": {},
   "source": [
    "Nous allons enregistrer une version non ordonnée"
   ]
  },
  {
   "cell_type": "code",
   "execution_count": 45,
   "id": "7184fd58",
   "metadata": {},
   "outputs": [],
   "source": [
    "# Enregistrement\n",
    "reuters_labels.to_csv(PRE_TRAIT_LAB_FILE, index=False)"
   ]
  },
  {
   "cell_type": "markdown",
   "id": "3f39de3c",
   "metadata": {},
   "source": [
    "<i>- Ordonnées</i>"
   ]
  },
  {
   "cell_type": "markdown",
   "id": "9aa56846",
   "metadata": {},
   "source": [
    "Nous allons maintenant ordonner les données."
   ]
  },
  {
   "cell_type": "code",
   "execution_count": 46,
   "id": "69e76931",
   "metadata": {
    "scrolled": true
   },
   "outputs": [
    {
     "data": {
      "text/html": [
       "<div>\n",
       "<style scoped>\n",
       "    .dataframe tbody tr th:only-of-type {\n",
       "        vertical-align: middle;\n",
       "    }\n",
       "\n",
       "    .dataframe tbody tr th {\n",
       "        vertical-align: top;\n",
       "    }\n",
       "\n",
       "    .dataframe thead th {\n",
       "        text-align: right;\n",
       "    }\n",
       "</style>\n",
       "<table border=\"1\" class=\"dataframe\">\n",
       "  <thead>\n",
       "    <tr style=\"text-align: right;\">\n",
       "      <th></th>\n",
       "      <th>label</th>\n",
       "    </tr>\n",
       "  </thead>\n",
       "  <tbody>\n",
       "    <tr>\n",
       "      <th>0</th>\n",
       "      <td>14</td>\n",
       "    </tr>\n",
       "    <tr>\n",
       "      <th>1</th>\n",
       "      <td>1</td>\n",
       "    </tr>\n",
       "    <tr>\n",
       "      <th>2</th>\n",
       "      <td>2</td>\n",
       "    </tr>\n",
       "    <tr>\n",
       "      <th>3</th>\n",
       "      <td>1</td>\n",
       "    </tr>\n",
       "    <tr>\n",
       "      <th>4</th>\n",
       "      <td>1</td>\n",
       "    </tr>\n",
       "  </tbody>\n",
       "</table>\n",
       "</div>"
      ],
      "text/plain": [
       "   label\n",
       "0     14\n",
       "1      1\n",
       "2      2\n",
       "3      1\n",
       "4      1"
      ]
     },
     "execution_count": 46,
     "metadata": {},
     "output_type": "execute_result"
    }
   ],
   "source": [
    "reuters_labels[\"label\"] = reuters_docs['label'].to_list()\n",
    "reuters_labels.head()"
   ]
  },
  {
   "cell_type": "code",
   "execution_count": 47,
   "id": "a5e424c5",
   "metadata": {},
   "outputs": [],
   "source": [
    "# Enregistrement labels.csv (ordonné)\n",
    "reuters_labels.to_csv(PRE_TRAIT_LAB_SORTED_FILE, index=False)"
   ]
  },
  {
   "cell_type": "markdown",
   "id": "4cd583b3",
   "metadata": {},
   "source": [
    "<hr>\n",
    "<div style=\"display: flex;\">\n",
    "    <div style=\"margin: 10px;\"><strong><a href=\"./I-Introduction.ipynb\">précédent</a></strong></div>\n",
    "    <div style=\"margin: 10px;\"><strong><a href=\"./III-Clustering simple.ipynb\">suivant</a></strong></div>\n",
    "</div>"
   ]
  }
 ],
 "metadata": {
  "kernelspec": {
   "display_name": "Python 3 (ipykernel)",
   "language": "python",
   "name": "python3"
  },
  "language_info": {
   "codemirror_mode": {
    "name": "ipython",
    "version": 3
   },
   "file_extension": ".py",
   "mimetype": "text/x-python",
   "name": "python",
   "nbconvert_exporter": "python",
   "pygments_lexer": "ipython3",
   "version": "3.8.13"
  }
 },
 "nbformat": 4,
 "nbformat_minor": 5
}
