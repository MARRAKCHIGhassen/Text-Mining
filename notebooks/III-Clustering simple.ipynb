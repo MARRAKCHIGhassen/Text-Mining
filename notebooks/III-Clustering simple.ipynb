{
 "cells": [
  {
   "cell_type": "markdown",
   "id": "2cfd950b",
   "metadata": {},
   "source": [
    "<center>&copy; | Ghassen <strong>MARRAKCHI</strong> - 2022</center>"
   ]
  },
  {
   "cell_type": "markdown",
   "id": "b8831aa4",
   "metadata": {},
   "source": [
    "<img src=\"../__src/Institut_Galilee.png\" style=\"\">\n",
    "<hr>"
   ]
  },
  {
   "cell_type": "markdown",
   "id": "be56dcf0",
   "metadata": {},
   "source": [
    "<h1 style=\"text-align:center;color:#5a84ba\"><center>Méthodes Matricielles pour le Data Mining</center></h1>\n",
    "<h2><center><strong><font color='#3f4a4f'>Factorisation Matricielle Non-Négative pour\n",
    "le Text Mining\n",
    "</font></strong></center></h2>"
   ]
  },
  {
   "cell_type": "markdown",
   "id": "3ae6bd38",
   "metadata": {},
   "source": [
    "<hr>\n",
    "<h3><center><strong><font color='#3f4a4f'>III- Clustering simple</font></strong></center></h3>\n",
    "<hr>"
   ]
  },
  {
   "cell_type": "markdown",
   "id": "a5815d19",
   "metadata": {},
   "source": [
    "<h4><strong><font color='#353b38'>Plan de Travail</font></strong></h4>"
   ]
  },
  {
   "cell_type": "markdown",
   "id": "45013f91",
   "metadata": {},
   "source": [
    "<ol style=\"list-style-type: upper-roman;\">\n",
    "    <li><a href=\"./I-Introduction.ipynb\">Introduction</a></li>\n",
    "    <li><a href=\"./II-Pré-traitemnt du dataset.ipynb\">Pré-traitemnt du dataset</a></li>\n",
    "    <li><strong>Clustering simple</strong></li>\n",
    "    <li><a href=\"./IV-NMF.ipynb\">NMF</a></li>\n",
    "    <li><a href=\"./V-Orthogonal NMF.ipynb\">Orthogonal NMF</a></li>\n",
    "    <li><a href=\"./VI-Symmetric NMF.ipynb\">Symmetric NMF</a></li>\n",
    "    <li><a href=\"./VII-Conclusion.ipynb\">Conclusion</a></li>\n",
    "</ol>"
   ]
  },
  {
   "cell_type": "markdown",
   "id": "acaa1c27",
   "metadata": {},
   "source": [
    "<hr>\n",
    "<h4><strong><font color='#353b38'>Objectif</font></strong></h4>"
   ]
  },
  {
   "cell_type": "markdown",
   "id": "8708cd27",
   "metadata": {},
   "source": [
    "- Décomposer le dataset.\n",
    "- Effectuer un clustering sans utiliser la technique de NMF."
   ]
  },
  {
   "cell_type": "markdown",
   "id": "afe3d2aa",
   "metadata": {},
   "source": [
    "<h4><strong><font color='#353b38'>Configuration générale du notebook</font></strong></h4>"
   ]
  },
  {
   "cell_type": "code",
   "execution_count": 1,
   "id": "51bb630a",
   "metadata": {},
   "outputs": [],
   "source": [
    "# Packages Importation\n",
    "import os\n",
    "import pandas as pd\n",
    "import numpy as np\n",
    "import matplotlib.pyplot as plt\n",
    "\n",
    "from itertools import combinations\n",
    "from math import ceil"
   ]
  },
  {
   "cell_type": "code",
   "execution_count": 2,
   "id": "9f0ac2a5",
   "metadata": {},
   "outputs": [],
   "source": [
    "# Files paths\n",
    "\n",
    "\n",
    "## PLOTS 2D\n",
    "III_SIMPLE_CLUST_2D_K_PLUS_FREQ_PNG = os.path.join('..', 'plots', 'III-Clustering_simple', 'k_plus_freq_2D.png')\n",
    "III_SIMPLE_CLUST_2D_K_PLUS_FREQ_JPG = os.path.join('..', 'plots', 'III-Clustering_simple', 'k_plus_freq_2D.jpg')\n",
    "III_SIMPLE_CLUST_2D_K_PLUS_FREQ_PDF = os.path.join('..', 'plots', 'III-Clustering_simple', 'k_plus_freq_2D.pdf')\n",
    "\n",
    "\n",
    "## PLOTS 3D\n",
    "III_SIMPLE_CLUST_3D_K_PLUS_FREQ_PNG = os.path.join('..', 'plots', 'III-Clustering_simple', 'k_plus_freq_3D.png')\n",
    "III_SIMPLE_CLUST_3D_K_PLUS_FREQ_JPG = os.path.join('..', 'plots', 'III-Clustering_simple', 'k_plus_freq_3D.jpg')\n",
    "III_SIMPLE_CLUST_3D_K_PLUS_FREQ_PDF = os.path.join('..', 'plots', 'III-Clustering_simple', 'k_plus_freq_3D.pdf')\n",
    "\n",
    "\n",
    "## PRE-TRAITEMENT\n",
    "PRE_TRAIT_MAT_TF_IDF_FILE = os.path.join('..', 'dataset', 'II-pre-traite', 'data_tf-idf.csv')\n",
    "PRE_TRAIT_LAB_FILE        = os.path.join('..', 'dataset', 'II-pre-traite', 'label.csv')\n",
    "PRE_TRAIT_TER_FILE        = os.path.join('..', 'dataset', 'II-pre-traite', 'terms.csv')\n",
    "\n",
    "\n",
    "## CLUSTERING-SIMPLE\n",
    "CLUST_SIMP_REUTERS_4 = os.path.join('..', 'dataset', 'III-Clustering_simple', 'reuters_4.csv')\n",
    "CLUST_SIMP_LABELS_4  = os.path.join('..', 'dataset', 'III-Clustering_simple', 'label_4.csv')\n",
    "\n",
    "CLUST_SIMP_REUT_TRAIN = os.path.join('..', 'dataset', 'III-Clustering_simple', 'reut_train.csv')\n",
    "CLUST_SIMP_LABELS_TRAIN  = os.path.join('..', 'dataset', 'III-Clustering_simple', 'labels_train.csv')\n",
    "\n",
    "CLUST_SIMP_REUT_TEST = os.path.join('..', 'dataset', 'III-Clustering_simple', 'reut_test.csv')\n",
    "CLUST_SIMP_LABELS_TEST  = os.path.join('..', 'dataset', 'III-Clustering_simple', 'labels_test.csv')\n",
    "\n",
    "CLUST_SIMP_REUTERS_MAX_3 = os.path.join('..', 'dataset', 'III-Clustering_simple', 'reut_max_3.csv')"
   ]
  },
  {
   "cell_type": "markdown",
   "id": "e65b0a2c",
   "metadata": {},
   "source": [
    "<h4><strong><font color='#353b38'>Implémentation des fonctions</font></strong></h4>"
   ]
  },
  {
   "cell_type": "markdown",
   "id": "f60e66c4",
   "metadata": {},
   "source": [
    "<h5 id=\"print_numpy_array_infos\">print_numpy_array_infos</h5>"
   ]
  },
  {
   "cell_type": "code",
   "execution_count": 3,
   "id": "9ef9ef89",
   "metadata": {},
   "outputs": [],
   "source": [
    "def print_numpy_array_infos(array, name) :\n",
    "    \"\"\" Prints numpy array informations.\n",
    "    \n",
    "    Parameters\n",
    "    ----------\n",
    "    array : numpy.ndarray\n",
    "        The array to print its informations\n",
    "    name : str\n",
    "        The name to be used for a formatted printing\n",
    "    \"\"\"\n",
    "    \n",
    "    print(\"ARRAY : \", name)\n",
    "    print(\"--- Type               : \", type(array))\n",
    "    print(\"--- Dimensions         : \", array.shape)\n",
    "    print(\"--- Nombre de lignes   : \", array.shape[0])\n",
    "    print(\"--- Nombre de colonnes : \", array.shape[1])\n",
    "    print(\"--- Nombre totale des données décrites dans le dataset : \", array.size)\n",
    "    print(\"--- Type des données : \", array.dtype)\n",
    "\n",
    "    print(\"\\n\")\n",
    "\n",
    "    print(\"AFFICHAGE (partie) : \\n\", array[:5,:])"
   ]
  },
  {
   "cell_type": "markdown",
   "id": "7f11e1e0",
   "metadata": {},
   "source": [
    "<h5 id=\"split_n_from_p_classes\">split_n_from_p_classes</h5>"
   ]
  },
  {
   "cell_type": "code",
   "execution_count": 4,
   "id": "a20d0faf",
   "metadata": {},
   "outputs": [],
   "source": [
    "def split_n_from_p_classes(data, labels, nb_lignes, nb_classes) :\n",
    "    \"\"\" Creates new dataset of the first p classes containing each n elements.\n",
    "    \n",
    "    On ne prendra en considération ni l'inexsitence des p classes ni la conteance de ces dernières de n élements.\n",
    "    \n",
    "    Parameters\n",
    "    ----------\n",
    "    data : numpy.ndarray\n",
    "        The data part of the dataset\n",
    "    labels : numpy.ndarray\n",
    "        The data part of the dataset\n",
    "    nb_lignes : numpy.ndarray\n",
    "        Number of elements within each class\n",
    "    nb_classes : int\n",
    "        Number of classes to be choosen\n",
    "    \n",
    "    Returns\n",
    "    -------\n",
    "    final_data : numpy.ndarray\n",
    "        The data.\n",
    "    final_labels : numpy.array\n",
    "        1-d array of labels\n",
    "    \"\"\"\n",
    "    \n",
    "    # Affichage\n",
    "    print(\"--------------------------------\")\n",
    "    print(\"---- Nombre de classes : \", nb_classes)\n",
    "    print(\"---- Nombre d'élements dans une classe : \", nb_lignes)\n",
    "    \n",
    "    # Connaitre les classes\n",
    "    classes = []\n",
    "    i = 0\n",
    "    while (i < labels.shape[0]) and (len(classes) != nb_classes) :\n",
    "        if not (labels[i, 0] in classes) :\n",
    "            classes.append(labels[i, 0])\n",
    "        \n",
    "        i += 1\n",
    "    \n",
    "    print(\"---- classes prises :\", classes)\n",
    "    \n",
    "    \n",
    "    # Fusionner données et labels\n",
    "    total =  np.concatenate((data, labels), axis=1)\n",
    "    \n",
    "    # Réceptionner les élements des classes\n",
    "    final_total = []\n",
    "    for classe in classes :\n",
    "        inter_total = total[total[:, data.shape[1]] == classe][:nb_lignes,:]\n",
    "        final_total.append(inter_total)\n",
    "    \n",
    "    # Total filtré\n",
    "    final_total = np.concatenate(final_total, axis=0)\n",
    "    \n",
    "    # Partage des informations\n",
    "    final_data = final_total[:,:data.shape[1]]\n",
    "    final_labels = final_total[:,-1]\n",
    "    \n",
    "    print(\"---- Dimensions des données : \", final_data.shape)\n",
    "    print(\"---- Dimensions des labels : \", final_labels.shape)\n",
    "    print(\"--------------------------------\")\n",
    "    \n",
    "    return final_data, final_labels.reshape(final_labels.shape[0], 1)"
   ]
  },
  {
   "cell_type": "markdown",
   "id": "db9ecefc",
   "metadata": {},
   "source": [
    "Nou avons utilisé une boucle et pas un ensemble pour garder l'ordre des élements "
   ]
  },
  {
   "cell_type": "markdown",
   "id": "64fcd467",
   "metadata": {},
   "source": [
    "<h5 id=\"k_plus_freq\">k_plus_freq</h5>"
   ]
  },
  {
   "cell_type": "code",
   "execution_count": 5,
   "id": "c89a6d95",
   "metadata": {},
   "outputs": [],
   "source": [
    "def k_plus_freq(data, terms, k) :\n",
    "    \"\"\" Choisis les termes les plus fréquents dans les colonnes\n",
    "    \n",
    "    Nous allons faciliter la tache en utilisant le fichiers terms.csv.\n",
    "    \n",
    "    Parameters\n",
    "    ----------\n",
    "    data : numpy.ndarray\n",
    "        Le dataset\n",
    "    terms : numpy.ndarray\n",
    "        La liste des termes\n",
    "    k : int\n",
    "        nombre de termes à garder\n",
    "    \"\"\"\n",
    "    \n",
    "    # Affichage\n",
    "    print(\"--------------------------------\")\n",
    "    print(\"---- Nombre de temres : \", k)\n",
    "    \n",
    "    # Initialisation\n",
    "    inter_terms = terms\n",
    "    terms_list = []\n",
    "    \n",
    "    # Reception\n",
    "    for i in range(k) :\n",
    "        # determination du max \n",
    "        index_max = np.argmax(np.max(terms[:, 2]))\n",
    "        \n",
    "        # accès à la valeur directe de l'indice\n",
    "        index_max = inter_terms[index_max, 0]\n",
    "        \n",
    "        # Reception des documents pour ce terme\n",
    "        terms_list.append(data[:, index_max])\n",
    "        \n",
    "        # Supression pour la prochaine itération\n",
    "        inter_terms = np.delete(inter_terms, index_max, 0)\n",
    "        \n",
    "    \n",
    "    # Rassemblement du dataset résultant\n",
    "    result = np.vstack(terms_list)\n",
    "    \n",
    "\n",
    "    return np.transpose(result)"
   ]
  },
  {
   "cell_type": "markdown",
   "id": "713163e2",
   "metadata": {},
   "source": [
    "On a féjà vérifié que l'indexation du dataset coincide parfaitement avec celle des termes."
   ]
  },
  {
   "cell_type": "markdown",
   "id": "e529226d",
   "metadata": {},
   "source": [
    "<h5 id=\"plot_clusters3D\">plot_clusters3D</h5>"
   ]
  },
  {
   "cell_type": "code",
   "execution_count": 6,
   "id": "c9d63b72",
   "metadata": {},
   "outputs": [],
   "source": [
    "def plot_clusters3D(data, label, path) :\n",
    "    \"\"\" plot the clusters\n",
    "    \n",
    "    Parameters\n",
    "    ----------\n",
    "    data : numpy.ndarray\n",
    "        The array to be reduced\n",
    "    label : numpy.array\n",
    "        1-D vector\n",
    "    path : os.path\n",
    "        path of the figure to be saved in\n",
    "    \"\"\"\n",
    "    \n",
    "    # Affichage\n",
    "    print(\"------------------------------------------------------- \")\n",
    "    print(\"---- plot clusters \")\n",
    "    print(\"------------------------------------------------------- \")\n",
    "    \n",
    "    # set up plot\n",
    "    fig = plt.figure()\n",
    "    ax = fig.add_subplot(projection='3d')\n",
    "    fig.suptitle('Clustering Simple visualized in 3D', fontsize=16)\n",
    "    fig.tight_layout()\n",
    "    \n",
    "    # Plot\n",
    "    ax.scatter3D(data[:,0], data[:,1], data[:,2], c=label, cmap='cool')\n",
    "    plt.title(\"Clustering simple (Avec MAX)\")\n",
    "    \n",
    "    #show the plot\n",
    "    plt.show()\n",
    "\n",
    "    # Enregistrement des figures\n",
    "    fig.savefig(path)"
   ]
  },
  {
   "cell_type": "markdown",
   "id": "aab85693",
   "metadata": {},
   "source": [
    "<h5 id=\"plot_clusters2D\">plot_clusters2D</h5>"
   ]
  },
  {
   "cell_type": "code",
   "execution_count": 7,
   "id": "3cc1c324",
   "metadata": {},
   "outputs": [],
   "source": [
    "def plot_clusters2D(data, label, path) :\n",
    "    \"\"\" plot the clusters\n",
    "    \n",
    "    Parameters\n",
    "    ----------\n",
    "    data : numpy.ndarray\n",
    "        The array to be reduced\n",
    "    label : numpy.array\n",
    "        1-D vector\n",
    "    path : os.path\n",
    "        path of the figure to be saved in\n",
    "    \"\"\"\n",
    "    \n",
    "    # Affichage\n",
    "    print(\"------------------------------------------------------- \")\n",
    "    print(\"---- plot clusters \")\n",
    "    print(\"------------------------------------------------------- \")\n",
    "    \n",
    "    # Combinaison\n",
    "    attributes = [i for i in range(data.shape[1])]\n",
    "    combis = list(combinations(attributes, 2)) \n",
    "    number_combi = len(combis)\n",
    "    number_ligne = ceil(number_combi/2)\n",
    "    number_colon = 2\n",
    "    \n",
    "    # set up plot\n",
    "    fig, axs = plt.subplots(number_ligne, number_colon, sharex=False, sharey=False)\n",
    "    fig.suptitle('Clustering Simple visualized in 2D', fontsize=16)\n",
    "    fig.tight_layout()\n",
    "    \n",
    "    # Subplots\n",
    "    for i in range(number_combi) :\n",
    "        colonne = i%2\n",
    "        ligne = i//2\n",
    "        axs[ligne, colonne].scatter(data[:,combis[i][0]], data[:,combis[i][1]], c=label, cmap='Dark2')    \n",
    "        axs[ligne, colonne].set_title(\"Terms ({0}, {1})\".format(combis[i][0], combis[i][1]))\n",
    "    \n",
    "    #show the plot\n",
    "    plt.show()\n",
    "    \n",
    "    # Enregistrement des figures\n",
    "    fig.savefig(path)"
   ]
  },
  {
   "cell_type": "markdown",
   "id": "4071f5a5",
   "metadata": {},
   "source": [
    "On va donner à cette fonction les données dans les bonnes dimensions. Nous afficerons toutes les combinaisons possibles."
   ]
  },
  {
   "cell_type": "markdown",
   "id": "64efd434",
   "metadata": {},
   "source": [
    "<h4><strong><font color='#353b38'>Récupération des données</font></strong></h4>"
   ]
  },
  {
   "cell_type": "markdown",
   "id": "3e596e43",
   "metadata": {},
   "source": [
    "<h5>reuters_terms</h5>"
   ]
  },
  {
   "cell_type": "code",
   "execution_count": 8,
   "id": "f9ff7cb2",
   "metadata": {},
   "outputs": [
    {
     "name": "stdout",
     "output_type": "stream",
     "text": [
      "ARRAY :  reuters_terms\n",
      "--- Type               :  <class 'numpy.ndarray'>\n",
      "--- Dimensions         :  (18933, 3)\n",
      "--- Nombre de lignes   :  18933\n",
      "--- Nombre de colonnes :  3\n",
      "--- Nombre totale des données décrites dans le dataset :  56799\n",
      "--- Type des données :  object\n",
      "\n",
      "\n",
      "AFFICHAGE (partie) : \n",
      " [[0 'reuter' 8228]\n",
      " [1 'mln' 4090]\n",
      " [2 'dlrs' 3515]\n",
      " [3 'cts' 2928]\n",
      " [4 'vs' 2826]]\n"
     ]
    }
   ],
   "source": [
    "reuters_terms = pd.read_csv(PRE_TRAIT_TER_FILE).to_numpy()\n",
    "print_numpy_array_infos(reuters_terms, \"reuters_terms\")"
   ]
  },
  {
   "cell_type": "markdown",
   "id": "2245a05c",
   "metadata": {},
   "source": [
    "<strong>| Définition de la fonction <a href=\"#print_numpy_array_infos\"> print_numpy_array_infos</a> |</strong>"
   ]
  },
  {
   "cell_type": "markdown",
   "id": "d51b741c",
   "metadata": {},
   "source": [
    "<h5>reuters_labels</h5>"
   ]
  },
  {
   "cell_type": "code",
   "execution_count": 9,
   "id": "dc7c3461",
   "metadata": {},
   "outputs": [
    {
     "name": "stdout",
     "output_type": "stream",
     "text": [
      "ARRAY :  reuters_labels\n",
      "--- Type               :  <class 'numpy.ndarray'>\n",
      "--- Dimensions         :  (8293, 1)\n",
      "--- Nombre de lignes   :  8293\n",
      "--- Nombre de colonnes :  1\n",
      "--- Nombre totale des données décrites dans le dataset :  8293\n",
      "--- Type des données :  int64\n",
      "\n",
      "\n",
      "AFFICHAGE (partie) : \n",
      " [[1]\n",
      " [1]\n",
      " [1]\n",
      " [1]\n",
      " [1]]\n"
     ]
    }
   ],
   "source": [
    "reuters_labels = pd.read_csv(PRE_TRAIT_LAB_FILE).to_numpy()\n",
    "print_numpy_array_infos(reuters_labels, \"reuters_labels\")"
   ]
  },
  {
   "cell_type": "markdown",
   "id": "74a3268d",
   "metadata": {},
   "source": [
    "<strong>| Définition de la fonction <a href=\"#print_numpy_array_infos\"> print_numpy_array_infos</a> |</strong>"
   ]
  },
  {
   "cell_type": "markdown",
   "id": "5031f5a0",
   "metadata": {},
   "source": [
    "<h5>reuters_data</h5>"
   ]
  },
  {
   "cell_type": "code",
   "execution_count": 10,
   "id": "4af0d09a",
   "metadata": {},
   "outputs": [
    {
     "name": "stdout",
     "output_type": "stream",
     "text": [
      "ARRAY :  reuters_data\n",
      "--- Type               :  <class 'numpy.ndarray'>\n",
      "--- Dimensions         :  (8293, 18933)\n",
      "--- Nombre de lignes   :  8293\n",
      "--- Nombre de colonnes :  18933\n",
      "--- Nombre totale des données décrites dans le dataset :  157011369\n",
      "--- Type des données :  float64\n",
      "\n",
      "\n",
      "AFFICHAGE (partie) : \n",
      " [[0.0237746  0.04026036 0.04383328 ... 0.         0.         0.        ]\n",
      " [0.06922406 0.         0.         ... 0.         0.         0.        ]\n",
      " [0.04777428 0.         0.         ... 0.         0.         0.        ]\n",
      " [0.04858139 0.16453732 0.08956962 ... 0.         0.         0.        ]\n",
      " [0.02799811 0.         0.05162019 ... 0.         0.         0.        ]]\n"
     ]
    }
   ],
   "source": [
    "reuters_data = pd.read_csv(PRE_TRAIT_MAT_TF_IDF_FILE).to_numpy()\n",
    "print_numpy_array_infos(reuters_data, \"reuters_data\")"
   ]
  },
  {
   "cell_type": "markdown",
   "id": "e204d304",
   "metadata": {},
   "source": [
    "<strong>| Définition de la fonction <a href=\"#print_numpy_array_infos\"> print_numpy_array_infos</a> |</strong>"
   ]
  },
  {
   "cell_type": "markdown",
   "id": "50a03153",
   "metadata": {},
   "source": [
    "<strong><font color='#5a84ba'>Question 1.c/</font></strong>"
   ]
  },
  {
   "cell_type": "markdown",
   "id": "f9d07f91",
   "metadata": {},
   "source": [
    "<h5>400 objets des 4 premières classes</h5>"
   ]
  },
  {
   "cell_type": "markdown",
   "id": "21554cf9",
   "metadata": {},
   "source": [
    "Nous allons créer de nouvelles matrices contenant 100 objets des 4 premières classes."
   ]
  },
  {
   "cell_type": "markdown",
   "id": "aa1ef342",
   "metadata": {},
   "source": [
    "Nous supposons dans notre fonction qu'il existe toujours les 100 objets."
   ]
  },
  {
   "cell_type": "code",
   "execution_count": 11,
   "id": "d2face49",
   "metadata": {},
   "outputs": [
    {
     "name": "stdout",
     "output_type": "stream",
     "text": [
      "--------------------------------\n",
      "---- Nombre de classes :  4\n",
      "---- Nombre d'élements dans une classe :  100\n",
      "---- classes prises : [1, 2, 3, 4]\n",
      "---- Dimensions des données :  (400, 18933)\n",
      "---- Dimensions des labels :  (400,)\n",
      "--------------------------------\n"
     ]
    }
   ],
   "source": [
    "reuters4, labels4 = split_n_from_p_classes(reuters_data, reuters_labels, 100, 4)"
   ]
  },
  {
   "cell_type": "markdown",
   "id": "4eb469f1",
   "metadata": {},
   "source": [
    "<strong>| Définition de la fonction <a href=\"#split_n_from_p_classes\"> split_n_from_p_classes</a> |</strong>"
   ]
  },
  {
   "cell_type": "markdown",
   "id": "deb0a23f",
   "metadata": {},
   "source": [
    "<h5>reuters4</h5>"
   ]
  },
  {
   "cell_type": "code",
   "execution_count": 12,
   "id": "f32abe4c",
   "metadata": {},
   "outputs": [
    {
     "name": "stdout",
     "output_type": "stream",
     "text": [
      "ARRAY :  reuters4\n",
      "--- Type               :  <class 'numpy.ndarray'>\n",
      "--- Dimensions         :  (400, 18933)\n",
      "--- Nombre de lignes   :  400\n",
      "--- Nombre de colonnes :  18933\n",
      "--- Nombre totale des données décrites dans le dataset :  7573200\n",
      "--- Type des données :  float64\n",
      "\n",
      "\n",
      "AFFICHAGE (partie) : \n",
      " [[0.0237746  0.04026036 0.04383328 ... 0.         0.         0.        ]\n",
      " [0.06922406 0.         0.         ... 0.         0.         0.        ]\n",
      " [0.04777428 0.         0.         ... 0.         0.         0.        ]\n",
      " [0.04858139 0.16453732 0.08956962 ... 0.         0.         0.        ]\n",
      " [0.02799811 0.         0.05162019 ... 0.         0.         0.        ]]\n"
     ]
    }
   ],
   "source": [
    "print_numpy_array_infos(reuters4, \"reuters4\")"
   ]
  },
  {
   "cell_type": "markdown",
   "id": "33dde9b6",
   "metadata": {},
   "source": [
    "<strong>| Définition de la fonction <a href=\"#print_numpy_array_infos\"> print_numpy_array_infos</a> |</strong>"
   ]
  },
  {
   "cell_type": "code",
   "execution_count": 13,
   "id": "90ca06c3",
   "metadata": {},
   "outputs": [
    {
     "data": {
      "text/html": [
       "<div>\n",
       "<style scoped>\n",
       "    .dataframe tbody tr th:only-of-type {\n",
       "        vertical-align: middle;\n",
       "    }\n",
       "\n",
       "    .dataframe tbody tr th {\n",
       "        vertical-align: top;\n",
       "    }\n",
       "\n",
       "    .dataframe thead th {\n",
       "        text-align: right;\n",
       "    }\n",
       "</style>\n",
       "<table border=\"1\" class=\"dataframe\">\n",
       "  <thead>\n",
       "    <tr style=\"text-align: right;\">\n",
       "      <th></th>\n",
       "      <th>0</th>\n",
       "      <th>1</th>\n",
       "      <th>2</th>\n",
       "      <th>3</th>\n",
       "      <th>4</th>\n",
       "      <th>5</th>\n",
       "      <th>6</th>\n",
       "      <th>7</th>\n",
       "      <th>8</th>\n",
       "      <th>9</th>\n",
       "      <th>...</th>\n",
       "      <th>18923</th>\n",
       "      <th>18924</th>\n",
       "      <th>18925</th>\n",
       "      <th>18926</th>\n",
       "      <th>18927</th>\n",
       "      <th>18928</th>\n",
       "      <th>18929</th>\n",
       "      <th>18930</th>\n",
       "      <th>18931</th>\n",
       "      <th>18932</th>\n",
       "    </tr>\n",
       "  </thead>\n",
       "  <tbody>\n",
       "    <tr>\n",
       "      <th>0</th>\n",
       "      <td>0.023775</td>\n",
       "      <td>0.040260</td>\n",
       "      <td>0.043833</td>\n",
       "      <td>0.144426</td>\n",
       "      <td>0.391826</td>\n",
       "      <td>0.149121</td>\n",
       "      <td>0.0</td>\n",
       "      <td>0.108330</td>\n",
       "      <td>0.00000</td>\n",
       "      <td>0.0</td>\n",
       "      <td>...</td>\n",
       "      <td>0.0</td>\n",
       "      <td>0.0</td>\n",
       "      <td>0.0</td>\n",
       "      <td>0.0</td>\n",
       "      <td>0.0</td>\n",
       "      <td>0.0</td>\n",
       "      <td>0.0</td>\n",
       "      <td>0.0</td>\n",
       "      <td>0.0</td>\n",
       "      <td>0.0</td>\n",
       "    </tr>\n",
       "    <tr>\n",
       "      <th>1</th>\n",
       "      <td>0.069224</td>\n",
       "      <td>0.000000</td>\n",
       "      <td>0.000000</td>\n",
       "      <td>0.280349</td>\n",
       "      <td>0.142609</td>\n",
       "      <td>0.000000</td>\n",
       "      <td>0.0</td>\n",
       "      <td>0.000000</td>\n",
       "      <td>0.00000</td>\n",
       "      <td>0.0</td>\n",
       "      <td>...</td>\n",
       "      <td>0.0</td>\n",
       "      <td>0.0</td>\n",
       "      <td>0.0</td>\n",
       "      <td>0.0</td>\n",
       "      <td>0.0</td>\n",
       "      <td>0.0</td>\n",
       "      <td>0.0</td>\n",
       "      <td>0.0</td>\n",
       "      <td>0.0</td>\n",
       "      <td>0.0</td>\n",
       "    </tr>\n",
       "    <tr>\n",
       "      <th>2</th>\n",
       "      <td>0.047774</td>\n",
       "      <td>0.000000</td>\n",
       "      <td>0.000000</td>\n",
       "      <td>0.000000</td>\n",
       "      <td>0.000000</td>\n",
       "      <td>0.099885</td>\n",
       "      <td>0.0</td>\n",
       "      <td>0.000000</td>\n",
       "      <td>0.10992</td>\n",
       "      <td>0.0</td>\n",
       "      <td>...</td>\n",
       "      <td>0.0</td>\n",
       "      <td>0.0</td>\n",
       "      <td>0.0</td>\n",
       "      <td>0.0</td>\n",
       "      <td>0.0</td>\n",
       "      <td>0.0</td>\n",
       "      <td>0.0</td>\n",
       "      <td>0.0</td>\n",
       "      <td>0.0</td>\n",
       "      <td>0.0</td>\n",
       "    </tr>\n",
       "    <tr>\n",
       "      <th>3</th>\n",
       "      <td>0.048581</td>\n",
       "      <td>0.164537</td>\n",
       "      <td>0.089570</td>\n",
       "      <td>0.098374</td>\n",
       "      <td>0.200166</td>\n",
       "      <td>0.101572</td>\n",
       "      <td>0.0</td>\n",
       "      <td>0.110681</td>\n",
       "      <td>0.00000</td>\n",
       "      <td>0.0</td>\n",
       "      <td>...</td>\n",
       "      <td>0.0</td>\n",
       "      <td>0.0</td>\n",
       "      <td>0.0</td>\n",
       "      <td>0.0</td>\n",
       "      <td>0.0</td>\n",
       "      <td>0.0</td>\n",
       "      <td>0.0</td>\n",
       "      <td>0.0</td>\n",
       "      <td>0.0</td>\n",
       "      <td>0.0</td>\n",
       "    </tr>\n",
       "    <tr>\n",
       "      <th>4</th>\n",
       "      <td>0.027998</td>\n",
       "      <td>0.000000</td>\n",
       "      <td>0.051620</td>\n",
       "      <td>0.170083</td>\n",
       "      <td>0.461433</td>\n",
       "      <td>0.117075</td>\n",
       "      <td>0.0</td>\n",
       "      <td>0.127574</td>\n",
       "      <td>0.00000</td>\n",
       "      <td>0.0</td>\n",
       "      <td>...</td>\n",
       "      <td>0.0</td>\n",
       "      <td>0.0</td>\n",
       "      <td>0.0</td>\n",
       "      <td>0.0</td>\n",
       "      <td>0.0</td>\n",
       "      <td>0.0</td>\n",
       "      <td>0.0</td>\n",
       "      <td>0.0</td>\n",
       "      <td>0.0</td>\n",
       "      <td>0.0</td>\n",
       "    </tr>\n",
       "  </tbody>\n",
       "</table>\n",
       "<p>5 rows × 18933 columns</p>\n",
       "</div>"
      ],
      "text/plain": [
       "      0         1         2         3         4         5      6      \\\n",
       "0  0.023775  0.040260  0.043833  0.144426  0.391826  0.149121    0.0   \n",
       "1  0.069224  0.000000  0.000000  0.280349  0.142609  0.000000    0.0   \n",
       "2  0.047774  0.000000  0.000000  0.000000  0.000000  0.099885    0.0   \n",
       "3  0.048581  0.164537  0.089570  0.098374  0.200166  0.101572    0.0   \n",
       "4  0.027998  0.000000  0.051620  0.170083  0.461433  0.117075    0.0   \n",
       "\n",
       "      7        8      9      ...  18923  18924  18925  18926  18927  18928  \\\n",
       "0  0.108330  0.00000    0.0  ...    0.0    0.0    0.0    0.0    0.0    0.0   \n",
       "1  0.000000  0.00000    0.0  ...    0.0    0.0    0.0    0.0    0.0    0.0   \n",
       "2  0.000000  0.10992    0.0  ...    0.0    0.0    0.0    0.0    0.0    0.0   \n",
       "3  0.110681  0.00000    0.0  ...    0.0    0.0    0.0    0.0    0.0    0.0   \n",
       "4  0.127574  0.00000    0.0  ...    0.0    0.0    0.0    0.0    0.0    0.0   \n",
       "\n",
       "   18929  18930  18931  18932  \n",
       "0    0.0    0.0    0.0    0.0  \n",
       "1    0.0    0.0    0.0    0.0  \n",
       "2    0.0    0.0    0.0    0.0  \n",
       "3    0.0    0.0    0.0    0.0  \n",
       "4    0.0    0.0    0.0    0.0  \n",
       "\n",
       "[5 rows x 18933 columns]"
      ]
     },
     "execution_count": 13,
     "metadata": {},
     "output_type": "execute_result"
    }
   ],
   "source": [
    "reuters4_pandas = pd.DataFrame(reuters4)\n",
    "reuters4_pandas.head()"
   ]
  },
  {
   "cell_type": "code",
   "execution_count": 14,
   "id": "40e28dcf",
   "metadata": {},
   "outputs": [],
   "source": [
    "# Enregistrement reuters_4\n",
    "reuters4_pandas.to_csv(CLUST_SIMP_REUTERS_4, index=False)"
   ]
  },
  {
   "cell_type": "markdown",
   "id": "8bb1b77c",
   "metadata": {},
   "source": [
    "<h5>labels4</h5>"
   ]
  },
  {
   "cell_type": "code",
   "execution_count": 15,
   "id": "5896e742",
   "metadata": {},
   "outputs": [
    {
     "name": "stdout",
     "output_type": "stream",
     "text": [
      "ARRAY :  labels4\n",
      "--- Type               :  <class 'numpy.ndarray'>\n",
      "--- Dimensions         :  (400, 1)\n",
      "--- Nombre de lignes   :  400\n",
      "--- Nombre de colonnes :  1\n",
      "--- Nombre totale des données décrites dans le dataset :  400\n",
      "--- Type des données :  float64\n",
      "\n",
      "\n",
      "AFFICHAGE (partie) : \n",
      " [[1.]\n",
      " [1.]\n",
      " [1.]\n",
      " [1.]\n",
      " [1.]]\n"
     ]
    }
   ],
   "source": [
    "print_numpy_array_infos(labels4, \"labels4\")"
   ]
  },
  {
   "cell_type": "markdown",
   "id": "97c3e895",
   "metadata": {},
   "source": [
    "<strong>| Définition de la fonction <a href=\"#print_numpy_array_infos\"> print_numpy_array_infos</a> |</strong>"
   ]
  },
  {
   "cell_type": "code",
   "execution_count": 16,
   "id": "bff4a3d2",
   "metadata": {},
   "outputs": [
    {
     "data": {
      "text/html": [
       "<div>\n",
       "<style scoped>\n",
       "    .dataframe tbody tr th:only-of-type {\n",
       "        vertical-align: middle;\n",
       "    }\n",
       "\n",
       "    .dataframe tbody tr th {\n",
       "        vertical-align: top;\n",
       "    }\n",
       "\n",
       "    .dataframe thead th {\n",
       "        text-align: right;\n",
       "    }\n",
       "</style>\n",
       "<table border=\"1\" class=\"dataframe\">\n",
       "  <thead>\n",
       "    <tr style=\"text-align: right;\">\n",
       "      <th></th>\n",
       "      <th>0</th>\n",
       "    </tr>\n",
       "  </thead>\n",
       "  <tbody>\n",
       "    <tr>\n",
       "      <th>0</th>\n",
       "      <td>1.0</td>\n",
       "    </tr>\n",
       "    <tr>\n",
       "      <th>1</th>\n",
       "      <td>1.0</td>\n",
       "    </tr>\n",
       "    <tr>\n",
       "      <th>2</th>\n",
       "      <td>1.0</td>\n",
       "    </tr>\n",
       "    <tr>\n",
       "      <th>3</th>\n",
       "      <td>1.0</td>\n",
       "    </tr>\n",
       "    <tr>\n",
       "      <th>4</th>\n",
       "      <td>1.0</td>\n",
       "    </tr>\n",
       "  </tbody>\n",
       "</table>\n",
       "</div>"
      ],
      "text/plain": [
       "     0\n",
       "0  1.0\n",
       "1  1.0\n",
       "2  1.0\n",
       "3  1.0\n",
       "4  1.0"
      ]
     },
     "execution_count": 16,
     "metadata": {},
     "output_type": "execute_result"
    }
   ],
   "source": [
    "labels4_pandas = pd.DataFrame(labels4)\n",
    "labels4_pandas.head()"
   ]
  },
  {
   "cell_type": "code",
   "execution_count": 17,
   "id": "e3b9033b",
   "metadata": {},
   "outputs": [],
   "source": [
    "# Enregistrement labels_4\n",
    "labels4_pandas.to_csv(CLUST_SIMP_LABELS_4, index=False)"
   ]
  },
  {
   "cell_type": "markdown",
   "id": "3769361d",
   "metadata": {},
   "source": [
    "Ces dataset vont être la base de notre prochain travail"
   ]
  },
  {
   "cell_type": "markdown",
   "id": "ae78e0b5",
   "metadata": {},
   "source": [
    "<strong><font color='#5a84ba'>Question 1.d/</font></strong>"
   ]
  },
  {
   "cell_type": "markdown",
   "id": "35c9ab00",
   "metadata": {},
   "source": [
    "Nous allons faire un split test/train. Les resultats seront utilisés pour le reste du travail."
   ]
  },
  {
   "cell_type": "code",
   "execution_count": 18,
   "id": "18e9110b",
   "metadata": {},
   "outputs": [
    {
     "name": "stdout",
     "output_type": "stream",
     "text": [
      "--------------------------------\n",
      "---- Nombre de classes :  4\n",
      "---- Nombre d'élements dans une classe :  75\n",
      "---- classes prises : [1.0, 2.0, 3.0, 4.0]\n",
      "---- Dimensions des données :  (300, 18933)\n",
      "---- Dimensions des labels :  (300,)\n",
      "--------------------------------\n"
     ]
    }
   ],
   "source": [
    "reut_train, labels_train = split_n_from_p_classes(reuters4, labels4, 75, 4)"
   ]
  },
  {
   "cell_type": "markdown",
   "id": "a1c9d99b",
   "metadata": {},
   "source": [
    "<strong>| Définition de la fonction <a href=\"#split_n_from_p_classes\"> split_n_from_p_classes</a> |</strong>"
   ]
  },
  {
   "cell_type": "markdown",
   "id": "54014dd2",
   "metadata": {},
   "source": [
    "<h5>reut_train</h5>"
   ]
  },
  {
   "cell_type": "code",
   "execution_count": 19,
   "id": "1688215c",
   "metadata": {},
   "outputs": [
    {
     "name": "stdout",
     "output_type": "stream",
     "text": [
      "ARRAY :  reut_train\n",
      "--- Type               :  <class 'numpy.ndarray'>\n",
      "--- Dimensions         :  (300, 18933)\n",
      "--- Nombre de lignes   :  300\n",
      "--- Nombre de colonnes :  18933\n",
      "--- Nombre totale des données décrites dans le dataset :  5679900\n",
      "--- Type des données :  float64\n",
      "\n",
      "\n",
      "AFFICHAGE (partie) : \n",
      " [[0.0237746  0.04026036 0.04383328 ... 0.         0.         0.        ]\n",
      " [0.06922406 0.         0.         ... 0.         0.         0.        ]\n",
      " [0.04777428 0.         0.         ... 0.         0.         0.        ]\n",
      " [0.04858139 0.16453732 0.08956962 ... 0.         0.         0.        ]\n",
      " [0.02799811 0.         0.05162019 ... 0.         0.         0.        ]]\n"
     ]
    }
   ],
   "source": [
    "print_numpy_array_infos(reut_train, \"reut_train\")"
   ]
  },
  {
   "cell_type": "markdown",
   "id": "c05d556a",
   "metadata": {},
   "source": [
    "<strong>| Définition de la fonction <a href=\"#print_numpy_array_infos\"> print_numpy_array_infos</a> |</strong>"
   ]
  },
  {
   "cell_type": "code",
   "execution_count": 20,
   "id": "4c69769b",
   "metadata": {},
   "outputs": [
    {
     "data": {
      "text/html": [
       "<div>\n",
       "<style scoped>\n",
       "    .dataframe tbody tr th:only-of-type {\n",
       "        vertical-align: middle;\n",
       "    }\n",
       "\n",
       "    .dataframe tbody tr th {\n",
       "        vertical-align: top;\n",
       "    }\n",
       "\n",
       "    .dataframe thead th {\n",
       "        text-align: right;\n",
       "    }\n",
       "</style>\n",
       "<table border=\"1\" class=\"dataframe\">\n",
       "  <thead>\n",
       "    <tr style=\"text-align: right;\">\n",
       "      <th></th>\n",
       "      <th>0</th>\n",
       "      <th>1</th>\n",
       "      <th>2</th>\n",
       "      <th>3</th>\n",
       "      <th>4</th>\n",
       "      <th>5</th>\n",
       "      <th>6</th>\n",
       "      <th>7</th>\n",
       "      <th>8</th>\n",
       "      <th>9</th>\n",
       "      <th>...</th>\n",
       "      <th>18923</th>\n",
       "      <th>18924</th>\n",
       "      <th>18925</th>\n",
       "      <th>18926</th>\n",
       "      <th>18927</th>\n",
       "      <th>18928</th>\n",
       "      <th>18929</th>\n",
       "      <th>18930</th>\n",
       "      <th>18931</th>\n",
       "      <th>18932</th>\n",
       "    </tr>\n",
       "  </thead>\n",
       "  <tbody>\n",
       "    <tr>\n",
       "      <th>0</th>\n",
       "      <td>0.023775</td>\n",
       "      <td>0.040260</td>\n",
       "      <td>0.043833</td>\n",
       "      <td>0.144426</td>\n",
       "      <td>0.391826</td>\n",
       "      <td>0.149121</td>\n",
       "      <td>0.0</td>\n",
       "      <td>0.108330</td>\n",
       "      <td>0.00000</td>\n",
       "      <td>0.0</td>\n",
       "      <td>...</td>\n",
       "      <td>0.0</td>\n",
       "      <td>0.0</td>\n",
       "      <td>0.0</td>\n",
       "      <td>0.0</td>\n",
       "      <td>0.0</td>\n",
       "      <td>0.0</td>\n",
       "      <td>0.0</td>\n",
       "      <td>0.0</td>\n",
       "      <td>0.0</td>\n",
       "      <td>0.0</td>\n",
       "    </tr>\n",
       "    <tr>\n",
       "      <th>1</th>\n",
       "      <td>0.069224</td>\n",
       "      <td>0.000000</td>\n",
       "      <td>0.000000</td>\n",
       "      <td>0.280349</td>\n",
       "      <td>0.142609</td>\n",
       "      <td>0.000000</td>\n",
       "      <td>0.0</td>\n",
       "      <td>0.000000</td>\n",
       "      <td>0.00000</td>\n",
       "      <td>0.0</td>\n",
       "      <td>...</td>\n",
       "      <td>0.0</td>\n",
       "      <td>0.0</td>\n",
       "      <td>0.0</td>\n",
       "      <td>0.0</td>\n",
       "      <td>0.0</td>\n",
       "      <td>0.0</td>\n",
       "      <td>0.0</td>\n",
       "      <td>0.0</td>\n",
       "      <td>0.0</td>\n",
       "      <td>0.0</td>\n",
       "    </tr>\n",
       "    <tr>\n",
       "      <th>2</th>\n",
       "      <td>0.047774</td>\n",
       "      <td>0.000000</td>\n",
       "      <td>0.000000</td>\n",
       "      <td>0.000000</td>\n",
       "      <td>0.000000</td>\n",
       "      <td>0.099885</td>\n",
       "      <td>0.0</td>\n",
       "      <td>0.000000</td>\n",
       "      <td>0.10992</td>\n",
       "      <td>0.0</td>\n",
       "      <td>...</td>\n",
       "      <td>0.0</td>\n",
       "      <td>0.0</td>\n",
       "      <td>0.0</td>\n",
       "      <td>0.0</td>\n",
       "      <td>0.0</td>\n",
       "      <td>0.0</td>\n",
       "      <td>0.0</td>\n",
       "      <td>0.0</td>\n",
       "      <td>0.0</td>\n",
       "      <td>0.0</td>\n",
       "    </tr>\n",
       "    <tr>\n",
       "      <th>3</th>\n",
       "      <td>0.048581</td>\n",
       "      <td>0.164537</td>\n",
       "      <td>0.089570</td>\n",
       "      <td>0.098374</td>\n",
       "      <td>0.200166</td>\n",
       "      <td>0.101572</td>\n",
       "      <td>0.0</td>\n",
       "      <td>0.110681</td>\n",
       "      <td>0.00000</td>\n",
       "      <td>0.0</td>\n",
       "      <td>...</td>\n",
       "      <td>0.0</td>\n",
       "      <td>0.0</td>\n",
       "      <td>0.0</td>\n",
       "      <td>0.0</td>\n",
       "      <td>0.0</td>\n",
       "      <td>0.0</td>\n",
       "      <td>0.0</td>\n",
       "      <td>0.0</td>\n",
       "      <td>0.0</td>\n",
       "      <td>0.0</td>\n",
       "    </tr>\n",
       "    <tr>\n",
       "      <th>4</th>\n",
       "      <td>0.027998</td>\n",
       "      <td>0.000000</td>\n",
       "      <td>0.051620</td>\n",
       "      <td>0.170083</td>\n",
       "      <td>0.461433</td>\n",
       "      <td>0.117075</td>\n",
       "      <td>0.0</td>\n",
       "      <td>0.127574</td>\n",
       "      <td>0.00000</td>\n",
       "      <td>0.0</td>\n",
       "      <td>...</td>\n",
       "      <td>0.0</td>\n",
       "      <td>0.0</td>\n",
       "      <td>0.0</td>\n",
       "      <td>0.0</td>\n",
       "      <td>0.0</td>\n",
       "      <td>0.0</td>\n",
       "      <td>0.0</td>\n",
       "      <td>0.0</td>\n",
       "      <td>0.0</td>\n",
       "      <td>0.0</td>\n",
       "    </tr>\n",
       "  </tbody>\n",
       "</table>\n",
       "<p>5 rows × 18933 columns</p>\n",
       "</div>"
      ],
      "text/plain": [
       "      0         1         2         3         4         5      6      \\\n",
       "0  0.023775  0.040260  0.043833  0.144426  0.391826  0.149121    0.0   \n",
       "1  0.069224  0.000000  0.000000  0.280349  0.142609  0.000000    0.0   \n",
       "2  0.047774  0.000000  0.000000  0.000000  0.000000  0.099885    0.0   \n",
       "3  0.048581  0.164537  0.089570  0.098374  0.200166  0.101572    0.0   \n",
       "4  0.027998  0.000000  0.051620  0.170083  0.461433  0.117075    0.0   \n",
       "\n",
       "      7        8      9      ...  18923  18924  18925  18926  18927  18928  \\\n",
       "0  0.108330  0.00000    0.0  ...    0.0    0.0    0.0    0.0    0.0    0.0   \n",
       "1  0.000000  0.00000    0.0  ...    0.0    0.0    0.0    0.0    0.0    0.0   \n",
       "2  0.000000  0.10992    0.0  ...    0.0    0.0    0.0    0.0    0.0    0.0   \n",
       "3  0.110681  0.00000    0.0  ...    0.0    0.0    0.0    0.0    0.0    0.0   \n",
       "4  0.127574  0.00000    0.0  ...    0.0    0.0    0.0    0.0    0.0    0.0   \n",
       "\n",
       "   18929  18930  18931  18932  \n",
       "0    0.0    0.0    0.0    0.0  \n",
       "1    0.0    0.0    0.0    0.0  \n",
       "2    0.0    0.0    0.0    0.0  \n",
       "3    0.0    0.0    0.0    0.0  \n",
       "4    0.0    0.0    0.0    0.0  \n",
       "\n",
       "[5 rows x 18933 columns]"
      ]
     },
     "execution_count": 20,
     "metadata": {},
     "output_type": "execute_result"
    }
   ],
   "source": [
    "reut_train_pandas = pd.DataFrame(reut_train)\n",
    "reut_train_pandas.head()"
   ]
  },
  {
   "cell_type": "code",
   "execution_count": 21,
   "id": "89a8e767",
   "metadata": {},
   "outputs": [],
   "source": [
    "# Enregistrement reuters_train\n",
    "reut_train_pandas.to_csv(CLUST_SIMP_REUT_TRAIN, index=False)"
   ]
  },
  {
   "cell_type": "markdown",
   "id": "15194660",
   "metadata": {},
   "source": [
    "<h5>labels_train</h5>"
   ]
  },
  {
   "cell_type": "code",
   "execution_count": 22,
   "id": "7bf3281e",
   "metadata": {},
   "outputs": [
    {
     "name": "stdout",
     "output_type": "stream",
     "text": [
      "ARRAY :  labels_train\n",
      "--- Type               :  <class 'numpy.ndarray'>\n",
      "--- Dimensions         :  (300, 1)\n",
      "--- Nombre de lignes   :  300\n",
      "--- Nombre de colonnes :  1\n",
      "--- Nombre totale des données décrites dans le dataset :  300\n",
      "--- Type des données :  float64\n",
      "\n",
      "\n",
      "AFFICHAGE (partie) : \n",
      " [[1.]\n",
      " [1.]\n",
      " [1.]\n",
      " [1.]\n",
      " [1.]]\n"
     ]
    }
   ],
   "source": [
    "print_numpy_array_infos(labels_train, \"labels_train\")"
   ]
  },
  {
   "cell_type": "markdown",
   "id": "d425aac9",
   "metadata": {},
   "source": [
    "<strong>| Définition de la fonction <a href=\"#print_numpy_array_infos\"> print_numpy_array_infos</a> |</strong>"
   ]
  },
  {
   "cell_type": "code",
   "execution_count": 23,
   "id": "7d32f9cf",
   "metadata": {},
   "outputs": [
    {
     "data": {
      "text/html": [
       "<div>\n",
       "<style scoped>\n",
       "    .dataframe tbody tr th:only-of-type {\n",
       "        vertical-align: middle;\n",
       "    }\n",
       "\n",
       "    .dataframe tbody tr th {\n",
       "        vertical-align: top;\n",
       "    }\n",
       "\n",
       "    .dataframe thead th {\n",
       "        text-align: right;\n",
       "    }\n",
       "</style>\n",
       "<table border=\"1\" class=\"dataframe\">\n",
       "  <thead>\n",
       "    <tr style=\"text-align: right;\">\n",
       "      <th></th>\n",
       "      <th>0</th>\n",
       "    </tr>\n",
       "  </thead>\n",
       "  <tbody>\n",
       "    <tr>\n",
       "      <th>0</th>\n",
       "      <td>1.0</td>\n",
       "    </tr>\n",
       "    <tr>\n",
       "      <th>1</th>\n",
       "      <td>1.0</td>\n",
       "    </tr>\n",
       "    <tr>\n",
       "      <th>2</th>\n",
       "      <td>1.0</td>\n",
       "    </tr>\n",
       "    <tr>\n",
       "      <th>3</th>\n",
       "      <td>1.0</td>\n",
       "    </tr>\n",
       "    <tr>\n",
       "      <th>4</th>\n",
       "      <td>1.0</td>\n",
       "    </tr>\n",
       "  </tbody>\n",
       "</table>\n",
       "</div>"
      ],
      "text/plain": [
       "     0\n",
       "0  1.0\n",
       "1  1.0\n",
       "2  1.0\n",
       "3  1.0\n",
       "4  1.0"
      ]
     },
     "execution_count": 23,
     "metadata": {},
     "output_type": "execute_result"
    }
   ],
   "source": [
    "labels_train_pandas = pd.DataFrame(labels_train)\n",
    "labels_train_pandas.head()"
   ]
  },
  {
   "cell_type": "code",
   "execution_count": 24,
   "id": "5cac6e81",
   "metadata": {},
   "outputs": [],
   "source": [
    "# Enregistrement labels_train\n",
    "labels_train_pandas.to_csv(CLUST_SIMP_LABELS_TRAIN, index=False)"
   ]
  },
  {
   "cell_type": "markdown",
   "id": "f9d9be87",
   "metadata": {},
   "source": [
    "Nous allons maintenant récupérer le reste de ce split."
   ]
  },
  {
   "cell_type": "markdown",
   "id": "fd90e63c",
   "metadata": {},
   "source": [
    "Ce traitement va être effectué en dehors de la fonction"
   ]
  },
  {
   "cell_type": "code",
   "execution_count": 25,
   "id": "8d379f91",
   "metadata": {},
   "outputs": [],
   "source": [
    "reut_test = []\n",
    "labels_test = []\n",
    "\n",
    "# Réceptionner les fragments\n",
    "for i in range(4) :\n",
    "    reut_test.append(reuters4[((i * 100) + 75) :(((i + 1) * 100)), :])\n",
    "    labels_test.append(labels4[((i * 100) + 75):(((i + 1) * 100)), :])\n",
    "    \n",
    "reut_test = np.concatenate(reut_test, axis=0)\n",
    "labels_test = np.concatenate(labels_test, axis=0)"
   ]
  },
  {
   "cell_type": "markdown",
   "id": "2984d50e",
   "metadata": {},
   "source": [
    "<h5>reut_test</h5>"
   ]
  },
  {
   "cell_type": "code",
   "execution_count": 26,
   "id": "0fc48db4",
   "metadata": {},
   "outputs": [
    {
     "name": "stdout",
     "output_type": "stream",
     "text": [
      "ARRAY :  reut_train\n",
      "--- Type               :  <class 'numpy.ndarray'>\n",
      "--- Dimensions         :  (100, 18933)\n",
      "--- Nombre de lignes   :  100\n",
      "--- Nombre de colonnes :  18933\n",
      "--- Nombre totale des données décrites dans le dataset :  1893300\n",
      "--- Type des données :  float64\n",
      "\n",
      "\n",
      "AFFICHAGE (partie) : \n",
      " [[0.02535579 0.2576279  0.09349706 ... 0.         0.         0.        ]\n",
      " [0.03824711 0.12953679 0.         ... 0.         0.         0.        ]\n",
      " [0.05868105 0.         0.         ... 0.         0.         0.        ]\n",
      " [0.01668142 0.08474589 0.09226669 ... 0.         0.         0.        ]\n",
      " [0.02986835 0.         0.         ... 0.         0.         0.        ]]\n"
     ]
    }
   ],
   "source": [
    "print_numpy_array_infos(reut_test, \"reut_train\")"
   ]
  },
  {
   "cell_type": "markdown",
   "id": "1e69eed5",
   "metadata": {},
   "source": [
    "<strong>| Définition de la fonction <a href=\"#print_numpy_array_infos\"> print_numpy_array_infos</a> |</strong>"
   ]
  },
  {
   "cell_type": "code",
   "execution_count": 27,
   "id": "9dadfab7",
   "metadata": {},
   "outputs": [
    {
     "data": {
      "text/html": [
       "<div>\n",
       "<style scoped>\n",
       "    .dataframe tbody tr th:only-of-type {\n",
       "        vertical-align: middle;\n",
       "    }\n",
       "\n",
       "    .dataframe tbody tr th {\n",
       "        vertical-align: top;\n",
       "    }\n",
       "\n",
       "    .dataframe thead th {\n",
       "        text-align: right;\n",
       "    }\n",
       "</style>\n",
       "<table border=\"1\" class=\"dataframe\">\n",
       "  <thead>\n",
       "    <tr style=\"text-align: right;\">\n",
       "      <th></th>\n",
       "      <th>0</th>\n",
       "      <th>1</th>\n",
       "      <th>2</th>\n",
       "      <th>3</th>\n",
       "      <th>4</th>\n",
       "      <th>5</th>\n",
       "      <th>6</th>\n",
       "      <th>7</th>\n",
       "      <th>8</th>\n",
       "      <th>9</th>\n",
       "      <th>...</th>\n",
       "      <th>18923</th>\n",
       "      <th>18924</th>\n",
       "      <th>18925</th>\n",
       "      <th>18926</th>\n",
       "      <th>18927</th>\n",
       "      <th>18928</th>\n",
       "      <th>18929</th>\n",
       "      <th>18930</th>\n",
       "      <th>18931</th>\n",
       "      <th>18932</th>\n",
       "    </tr>\n",
       "  </thead>\n",
       "  <tbody>\n",
       "    <tr>\n",
       "      <th>0</th>\n",
       "      <td>0.025356</td>\n",
       "      <td>0.257628</td>\n",
       "      <td>0.093497</td>\n",
       "      <td>0.102688</td>\n",
       "      <td>0.365650</td>\n",
       "      <td>0.106026</td>\n",
       "      <td>0.0</td>\n",
       "      <td>0.115535</td>\n",
       "      <td>0.000</td>\n",
       "      <td>0.125644</td>\n",
       "      <td>...</td>\n",
       "      <td>0.0</td>\n",
       "      <td>0.0</td>\n",
       "      <td>0.0</td>\n",
       "      <td>0.0</td>\n",
       "      <td>0.0</td>\n",
       "      <td>0.0</td>\n",
       "      <td>0.0</td>\n",
       "      <td>0.0</td>\n",
       "      <td>0.0</td>\n",
       "      <td>0.0</td>\n",
       "    </tr>\n",
       "    <tr>\n",
       "      <th>1</th>\n",
       "      <td>0.038247</td>\n",
       "      <td>0.129537</td>\n",
       "      <td>0.000000</td>\n",
       "      <td>0.000000</td>\n",
       "      <td>0.000000</td>\n",
       "      <td>0.000000</td>\n",
       "      <td>0.0</td>\n",
       "      <td>0.000000</td>\n",
       "      <td>0.088</td>\n",
       "      <td>0.000000</td>\n",
       "      <td>...</td>\n",
       "      <td>0.0</td>\n",
       "      <td>0.0</td>\n",
       "      <td>0.0</td>\n",
       "      <td>0.0</td>\n",
       "      <td>0.0</td>\n",
       "      <td>0.0</td>\n",
       "      <td>0.0</td>\n",
       "      <td>0.0</td>\n",
       "      <td>0.0</td>\n",
       "      <td>0.0</td>\n",
       "    </tr>\n",
       "    <tr>\n",
       "      <th>2</th>\n",
       "      <td>0.058681</td>\n",
       "      <td>0.000000</td>\n",
       "      <td>0.000000</td>\n",
       "      <td>0.000000</td>\n",
       "      <td>0.000000</td>\n",
       "      <td>0.000000</td>\n",
       "      <td>0.0</td>\n",
       "      <td>0.000000</td>\n",
       "      <td>0.000</td>\n",
       "      <td>0.000000</td>\n",
       "      <td>...</td>\n",
       "      <td>0.0</td>\n",
       "      <td>0.0</td>\n",
       "      <td>0.0</td>\n",
       "      <td>0.0</td>\n",
       "      <td>0.0</td>\n",
       "      <td>0.0</td>\n",
       "      <td>0.0</td>\n",
       "      <td>0.0</td>\n",
       "      <td>0.0</td>\n",
       "      <td>0.0</td>\n",
       "    </tr>\n",
       "    <tr>\n",
       "      <th>3</th>\n",
       "      <td>0.016681</td>\n",
       "      <td>0.084746</td>\n",
       "      <td>0.092267</td>\n",
       "      <td>0.000000</td>\n",
       "      <td>0.000000</td>\n",
       "      <td>0.000000</td>\n",
       "      <td>0.0</td>\n",
       "      <td>0.000000</td>\n",
       "      <td>0.000</td>\n",
       "      <td>0.041330</td>\n",
       "      <td>...</td>\n",
       "      <td>0.0</td>\n",
       "      <td>0.0</td>\n",
       "      <td>0.0</td>\n",
       "      <td>0.0</td>\n",
       "      <td>0.0</td>\n",
       "      <td>0.0</td>\n",
       "      <td>0.0</td>\n",
       "      <td>0.0</td>\n",
       "      <td>0.0</td>\n",
       "      <td>0.0</td>\n",
       "    </tr>\n",
       "    <tr>\n",
       "      <th>4</th>\n",
       "      <td>0.029868</td>\n",
       "      <td>0.000000</td>\n",
       "      <td>0.000000</td>\n",
       "      <td>0.181445</td>\n",
       "      <td>0.369192</td>\n",
       "      <td>0.124895</td>\n",
       "      <td>0.0</td>\n",
       "      <td>0.136096</td>\n",
       "      <td>0.000</td>\n",
       "      <td>0.000000</td>\n",
       "      <td>...</td>\n",
       "      <td>0.0</td>\n",
       "      <td>0.0</td>\n",
       "      <td>0.0</td>\n",
       "      <td>0.0</td>\n",
       "      <td>0.0</td>\n",
       "      <td>0.0</td>\n",
       "      <td>0.0</td>\n",
       "      <td>0.0</td>\n",
       "      <td>0.0</td>\n",
       "      <td>0.0</td>\n",
       "    </tr>\n",
       "  </tbody>\n",
       "</table>\n",
       "<p>5 rows × 18933 columns</p>\n",
       "</div>"
      ],
      "text/plain": [
       "      0         1         2         3         4         5      6      \\\n",
       "0  0.025356  0.257628  0.093497  0.102688  0.365650  0.106026    0.0   \n",
       "1  0.038247  0.129537  0.000000  0.000000  0.000000  0.000000    0.0   \n",
       "2  0.058681  0.000000  0.000000  0.000000  0.000000  0.000000    0.0   \n",
       "3  0.016681  0.084746  0.092267  0.000000  0.000000  0.000000    0.0   \n",
       "4  0.029868  0.000000  0.000000  0.181445  0.369192  0.124895    0.0   \n",
       "\n",
       "      7      8         9      ...  18923  18924  18925  18926  18927  18928  \\\n",
       "0  0.115535  0.000  0.125644  ...    0.0    0.0    0.0    0.0    0.0    0.0   \n",
       "1  0.000000  0.088  0.000000  ...    0.0    0.0    0.0    0.0    0.0    0.0   \n",
       "2  0.000000  0.000  0.000000  ...    0.0    0.0    0.0    0.0    0.0    0.0   \n",
       "3  0.000000  0.000  0.041330  ...    0.0    0.0    0.0    0.0    0.0    0.0   \n",
       "4  0.136096  0.000  0.000000  ...    0.0    0.0    0.0    0.0    0.0    0.0   \n",
       "\n",
       "   18929  18930  18931  18932  \n",
       "0    0.0    0.0    0.0    0.0  \n",
       "1    0.0    0.0    0.0    0.0  \n",
       "2    0.0    0.0    0.0    0.0  \n",
       "3    0.0    0.0    0.0    0.0  \n",
       "4    0.0    0.0    0.0    0.0  \n",
       "\n",
       "[5 rows x 18933 columns]"
      ]
     },
     "execution_count": 27,
     "metadata": {},
     "output_type": "execute_result"
    }
   ],
   "source": [
    "reut_test_pandas = pd.DataFrame(reut_test)\n",
    "reut_test_pandas.head()"
   ]
  },
  {
   "cell_type": "code",
   "execution_count": 28,
   "id": "ab02336d",
   "metadata": {},
   "outputs": [],
   "source": [
    "# Enregistrement reut_test\n",
    "reut_test_pandas.to_csv(CLUST_SIMP_REUT_TEST, index=False)"
   ]
  },
  {
   "cell_type": "markdown",
   "id": "272cfeaf",
   "metadata": {},
   "source": [
    "<h5>labels_test</h5>"
   ]
  },
  {
   "cell_type": "code",
   "execution_count": 29,
   "id": "db85e2d1",
   "metadata": {},
   "outputs": [
    {
     "name": "stdout",
     "output_type": "stream",
     "text": [
      "ARRAY :  labels_train\n",
      "--- Type               :  <class 'numpy.ndarray'>\n",
      "--- Dimensions         :  (100, 1)\n",
      "--- Nombre de lignes   :  100\n",
      "--- Nombre de colonnes :  1\n",
      "--- Nombre totale des données décrites dans le dataset :  100\n",
      "--- Type des données :  float64\n",
      "\n",
      "\n",
      "AFFICHAGE (partie) : \n",
      " [[1.]\n",
      " [1.]\n",
      " [1.]\n",
      " [1.]\n",
      " [1.]]\n"
     ]
    }
   ],
   "source": [
    "print_numpy_array_infos(labels_test, \"labels_train\")"
   ]
  },
  {
   "cell_type": "markdown",
   "id": "05a76602",
   "metadata": {},
   "source": [
    "<strong>| Définition de la fonction <a href=\"#print_numpy_array_infos\"> print_numpy_array_infos</a> |</strong>"
   ]
  },
  {
   "cell_type": "code",
   "execution_count": 30,
   "id": "32f97f55",
   "metadata": {},
   "outputs": [
    {
     "data": {
      "text/html": [
       "<div>\n",
       "<style scoped>\n",
       "    .dataframe tbody tr th:only-of-type {\n",
       "        vertical-align: middle;\n",
       "    }\n",
       "\n",
       "    .dataframe tbody tr th {\n",
       "        vertical-align: top;\n",
       "    }\n",
       "\n",
       "    .dataframe thead th {\n",
       "        text-align: right;\n",
       "    }\n",
       "</style>\n",
       "<table border=\"1\" class=\"dataframe\">\n",
       "  <thead>\n",
       "    <tr style=\"text-align: right;\">\n",
       "      <th></th>\n",
       "      <th>0</th>\n",
       "    </tr>\n",
       "  </thead>\n",
       "  <tbody>\n",
       "    <tr>\n",
       "      <th>0</th>\n",
       "      <td>1.0</td>\n",
       "    </tr>\n",
       "    <tr>\n",
       "      <th>1</th>\n",
       "      <td>1.0</td>\n",
       "    </tr>\n",
       "    <tr>\n",
       "      <th>2</th>\n",
       "      <td>1.0</td>\n",
       "    </tr>\n",
       "    <tr>\n",
       "      <th>3</th>\n",
       "      <td>1.0</td>\n",
       "    </tr>\n",
       "    <tr>\n",
       "      <th>4</th>\n",
       "      <td>1.0</td>\n",
       "    </tr>\n",
       "  </tbody>\n",
       "</table>\n",
       "</div>"
      ],
      "text/plain": [
       "     0\n",
       "0  1.0\n",
       "1  1.0\n",
       "2  1.0\n",
       "3  1.0\n",
       "4  1.0"
      ]
     },
     "execution_count": 30,
     "metadata": {},
     "output_type": "execute_result"
    }
   ],
   "source": [
    "labels_test_pandas = pd.DataFrame(labels_test)\n",
    "labels_test_pandas.head()"
   ]
  },
  {
   "cell_type": "code",
   "execution_count": 31,
   "id": "040e6138",
   "metadata": {},
   "outputs": [],
   "source": [
    "# Enregistrement labels_test\n",
    "labels_test_pandas.to_csv(CLUST_SIMP_LABELS_TEST, index=False)"
   ]
  },
  {
   "cell_type": "markdown",
   "id": "9235688a",
   "metadata": {},
   "source": [
    "<strong><font color='#5a84ba'>Question 1.e/</font></strong>"
   ]
  },
  {
   "cell_type": "markdown",
   "id": "d694420f",
   "metadata": {},
   "source": [
    "Nous allons utiliser la fonction **k_plus_freq** qui va nous permettre de réduire la dimension du dataset en choisissant les termes ayant le plus d'occurence."
   ]
  },
  {
   "cell_type": "code",
   "execution_count": 32,
   "id": "d42bc102",
   "metadata": {},
   "outputs": [
    {
     "name": "stdout",
     "output_type": "stream",
     "text": [
      "--------------------------------\n",
      "---- Nombre de temres :  3\n"
     ]
    }
   ],
   "source": [
    "reuters_max_3 = k_plus_freq(reuters_data, reuters_terms, 3)"
   ]
  },
  {
   "cell_type": "markdown",
   "id": "4a1e8bfb",
   "metadata": {},
   "source": [
    "<strong>| Définition de la fonction <a href=\"#k_plus_freq\"> k_plus_freq</a> |</strong>"
   ]
  },
  {
   "cell_type": "code",
   "execution_count": 33,
   "id": "236ea593",
   "metadata": {},
   "outputs": [
    {
     "name": "stdout",
     "output_type": "stream",
     "text": [
      "ARRAY :  reuters_max_3\n",
      "--- Type               :  <class 'numpy.ndarray'>\n",
      "--- Dimensions         :  (8293, 3)\n",
      "--- Nombre de lignes   :  8293\n",
      "--- Nombre de colonnes :  3\n",
      "--- Nombre totale des données décrites dans le dataset :  24879\n",
      "--- Type des données :  float64\n",
      "\n",
      "\n",
      "AFFICHAGE (partie) : \n",
      " [[0.0237746  0.04026036 0.04026036]\n",
      " [0.06922406 0.         0.        ]\n",
      " [0.04777428 0.         0.        ]\n",
      " [0.04858139 0.16453732 0.16453732]\n",
      " [0.02799811 0.         0.        ]]\n"
     ]
    }
   ],
   "source": [
    "print_numpy_array_infos(reuters_max_3, \"reuters_max_3\")"
   ]
  },
  {
   "cell_type": "markdown",
   "id": "0289ad88",
   "metadata": {},
   "source": [
    "<strong>| Définition de la fonction <a href=\"#print_numpy_array_infos\"> print_numpy_array_infos</a> |</strong>"
   ]
  },
  {
   "cell_type": "code",
   "execution_count": 34,
   "id": "f3226d6b",
   "metadata": {},
   "outputs": [
    {
     "data": {
      "text/html": [
       "<div>\n",
       "<style scoped>\n",
       "    .dataframe tbody tr th:only-of-type {\n",
       "        vertical-align: middle;\n",
       "    }\n",
       "\n",
       "    .dataframe tbody tr th {\n",
       "        vertical-align: top;\n",
       "    }\n",
       "\n",
       "    .dataframe thead th {\n",
       "        text-align: right;\n",
       "    }\n",
       "</style>\n",
       "<table border=\"1\" class=\"dataframe\">\n",
       "  <thead>\n",
       "    <tr style=\"text-align: right;\">\n",
       "      <th></th>\n",
       "      <th>0</th>\n",
       "      <th>1</th>\n",
       "      <th>2</th>\n",
       "    </tr>\n",
       "  </thead>\n",
       "  <tbody>\n",
       "    <tr>\n",
       "      <th>0</th>\n",
       "      <td>0.023775</td>\n",
       "      <td>0.040260</td>\n",
       "      <td>0.040260</td>\n",
       "    </tr>\n",
       "    <tr>\n",
       "      <th>1</th>\n",
       "      <td>0.069224</td>\n",
       "      <td>0.000000</td>\n",
       "      <td>0.000000</td>\n",
       "    </tr>\n",
       "    <tr>\n",
       "      <th>2</th>\n",
       "      <td>0.047774</td>\n",
       "      <td>0.000000</td>\n",
       "      <td>0.000000</td>\n",
       "    </tr>\n",
       "    <tr>\n",
       "      <th>3</th>\n",
       "      <td>0.048581</td>\n",
       "      <td>0.164537</td>\n",
       "      <td>0.164537</td>\n",
       "    </tr>\n",
       "    <tr>\n",
       "      <th>4</th>\n",
       "      <td>0.027998</td>\n",
       "      <td>0.000000</td>\n",
       "      <td>0.000000</td>\n",
       "    </tr>\n",
       "  </tbody>\n",
       "</table>\n",
       "</div>"
      ],
      "text/plain": [
       "          0         1         2\n",
       "0  0.023775  0.040260  0.040260\n",
       "1  0.069224  0.000000  0.000000\n",
       "2  0.047774  0.000000  0.000000\n",
       "3  0.048581  0.164537  0.164537\n",
       "4  0.027998  0.000000  0.000000"
      ]
     },
     "execution_count": 34,
     "metadata": {},
     "output_type": "execute_result"
    }
   ],
   "source": [
    "reuters_max_3_pandas = pd.DataFrame(reuters_max_3)\n",
    "reuters_max_3_pandas.head()"
   ]
  },
  {
   "cell_type": "code",
   "execution_count": 35,
   "id": "11f4dcc7",
   "metadata": {},
   "outputs": [],
   "source": [
    "# Enregistrement labels_test\n",
    "reuters_max_3_pandas.to_csv(CLUST_SIMP_REUTERS_MAX_3, index=False)"
   ]
  },
  {
   "cell_type": "markdown",
   "id": "95564dbd",
   "metadata": {},
   "source": [
    "<strong><font color='#5a84ba'>Question 1.f/</font></strong>"
   ]
  },
  {
   "cell_type": "markdown",
   "id": "91a2b2b7",
   "metadata": {},
   "source": [
    "Nous allons effectuer une visualisation du clustering atteint en utilisant **reuters_max_3** et **reuters_labels**"
   ]
  },
  {
   "cell_type": "markdown",
   "id": "ad095a0e",
   "metadata": {},
   "source": [
    "On va faire un un enregistrement dans les 3 formats (PNG, JPG, PDF)"
   ]
  },
  {
   "cell_type": "markdown",
   "id": "c7e3c9b9",
   "metadata": {},
   "source": [
    "<h5>3D</h5>"
   ]
  },
  {
   "cell_type": "code",
   "execution_count": 36,
   "id": "009a80b7",
   "metadata": {},
   "outputs": [
    {
     "name": "stdout",
     "output_type": "stream",
     "text": [
      "------------------------------------------------------- \n",
      "---- plot clusters \n",
      "------------------------------------------------------- \n"
     ]
    },
    {
     "data": {
      "image/png": "[encoded data removed]",
      "text/plain": [
       "<Figure size 432x288 with 1 Axes>"
      ]
     },
     "metadata": {
      "needs_background": "light"
     },
     "output_type": "display_data"
    },
    {
     "name": "stdout",
     "output_type": "stream",
     "text": [
      "------------------------------------------------------- \n",
      "---- plot clusters \n",
      "------------------------------------------------------- \n"
     ]
    },
    {
     "data": {
      "image/png": "[encoded data removed]",
      "text/plain": [
       "<Figure size 432x288 with 1 Axes>"
      ]
     },
     "metadata": {
      "needs_background": "light"
     },
     "output_type": "display_data"
    },
    {
     "name": "stdout",
     "output_type": "stream",
     "text": [
      "------------------------------------------------------- \n",
      "---- plot clusters \n",
      "------------------------------------------------------- \n"
     ]
    },
    {
     "data": {
      "image/png": "[encoded data removed]",
      "text/plain": [
       "<Figure size 432x288 with 1 Axes>"
      ]
     },
     "metadata": {
      "needs_background": "light"
     },
     "output_type": "display_data"
    }
   ],
   "source": [
    "plot_clusters3D(reuters_max_3, reuters_labels, III_SIMPLE_CLUST_3D_K_PLUS_FREQ_PNG)\n",
    "plot_clusters3D(reuters_max_3, reuters_labels, III_SIMPLE_CLUST_3D_K_PLUS_FREQ_JPG)\n",
    "plot_clusters3D(reuters_max_3, reuters_labels, III_SIMPLE_CLUST_3D_K_PLUS_FREQ_PDF)"
   ]
  },
  {
   "cell_type": "markdown",
   "id": "42cd3b43",
   "metadata": {},
   "source": [
    "<strong>| Définition de la fonction <a href=\"#plot_clusters3D\"> plot_clusters3D</a> |</strong>"
   ]
  },
  {
   "cell_type": "markdown",
   "id": "10b4f807",
   "metadata": {},
   "source": [
    "<h5>3D</h5>"
   ]
  },
  {
   "cell_type": "code",
   "execution_count": 37,
   "id": "6a5e8548",
   "metadata": {},
   "outputs": [
    {
     "name": "stdout",
     "output_type": "stream",
     "text": [
      "------------------------------------------------------- \n",
      "---- plot clusters \n",
      "------------------------------------------------------- \n"
     ]
    },
    {
     "data": {
      "image/png": "[encoded data removed]",
      "text/plain": [
       "<Figure size 432x288 with 4 Axes>"
      ]
     },
     "metadata": {
      "needs_background": "light"
     },
     "output_type": "display_data"
    },
    {
     "name": "stdout",
     "output_type": "stream",
     "text": [
      "------------------------------------------------------- \n",
      "---- plot clusters \n",
      "------------------------------------------------------- \n"
     ]
    },
    {
     "data": {
      "image/png": "[encoded data removed]",
      "text/plain": [
       "<Figure size 432x288 with 4 Axes>"
      ]
     },
     "metadata": {
      "needs_background": "light"
     },
     "output_type": "display_data"
    },
    {
     "name": "stdout",
     "output_type": "stream",
     "text": [
      "------------------------------------------------------- \n",
      "---- plot clusters \n",
      "------------------------------------------------------- \n"
     ]
    },
    {
     "data": {
      "image/png": "[encoded data removed]",
      "text/plain": [
       "<Figure size 432x288 with 4 Axes>"
      ]
     },
     "metadata": {
      "needs_background": "light"
     },
     "output_type": "display_data"
    }
   ],
   "source": [
    "plot_clusters2D(reuters_max_3, reuters_labels, III_SIMPLE_CLUST_2D_K_PLUS_FREQ_PNG)\n",
    "plot_clusters2D(reuters_max_3, reuters_labels, III_SIMPLE_CLUST_2D_K_PLUS_FREQ_JPG)\n",
    "plot_clusters2D(reuters_max_3, reuters_labels, III_SIMPLE_CLUST_2D_K_PLUS_FREQ_PDF)"
   ]
  },
  {
   "cell_type": "markdown",
   "id": "60ad1922",
   "metadata": {},
   "source": [
    "<strong>| Définition de la fonction <a href=\"#plot_clusters2D\"> plot_clusters2D</a> |</strong>"
   ]
  },
  {
   "cell_type": "markdown",
   "id": "27cfb6db",
   "metadata": {},
   "source": [
    "<hr>\n",
    "<div style=\"display: flex;\">\n",
    "    <div style=\"margin: 10px;\"><strong><a href=\"./II-Pré-traitemnt du dataset.ipynb\">précédent</a></strong></div>\n",
    "    <div style=\"margin: 10px;\"><strong><a href=\"./IV-NMF.ipynb\">suivant</a></strong></div>\n",
    "</div>"
   ]
  }
 ],
 "metadata": {
  "kernelspec": {
   "display_name": "Python 3 (ipykernel)",
   "language": "python",
   "name": "python3"
  },
  "language_info": {
   "codemirror_mode": {
    "name": "ipython",
    "version": 3
   },
   "file_extension": ".py",
   "mimetype": "text/x-python",
   "name": "python",
   "nbconvert_exporter": "python",
   "pygments_lexer": "ipython3",
   "version": "3.8.13"
  }
 },
 "nbformat": 4,
 "nbformat_minor": 5
}
