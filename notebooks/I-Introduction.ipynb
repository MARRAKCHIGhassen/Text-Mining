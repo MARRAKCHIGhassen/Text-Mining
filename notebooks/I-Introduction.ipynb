{
 "cells": [
  {
   "cell_type": "markdown",
   "id": "4afc1a78",
   "metadata": {},
   "source": [
    "<center>&copy; | Ghassen <strong>MARRAKCHI</strong> - 2022</center>"
   ]
  },
  {
   "cell_type": "markdown",
   "id": "477e0aeb",
   "metadata": {},
   "source": [
    "<img src=\"../__src/Institut_Galilee.png\" style=\"\">\n",
    "<hr>"
   ]
  },
  {
   "cell_type": "markdown",
   "id": "8a284bd1",
   "metadata": {},
   "source": [
    "<h1 style=\"text-align:center;color:#5a84ba\"><center>Méthodes Matricielles pour le Data Mining</center></h1>\n",
    "<h2><center><strong><font color='#3f4a4f'>Factorisation Matricielle Non-Négative pour\n",
    "le Text Mining\n",
    "</font></strong></center></h2>"
   ]
  },
  {
   "cell_type": "markdown",
   "id": "02b32142",
   "metadata": {},
   "source": [
    "<hr>\n",
    "<h3><center><strong><font color='#3f4a4f'>I-Introduction</font></strong></center></h3>\n",
    "<hr>"
   ]
  },
  {
   "cell_type": "markdown",
   "id": "13124ce1",
   "metadata": {},
   "source": [
    "<h4><strong><font color='#353b38'>Plan de Travail</font></strong></h4>"
   ]
  },
  {
   "cell_type": "markdown",
   "id": "5c1921fb",
   "metadata": {},
   "source": [
    "<ol style=\"list-style-type: upper-roman;\">\n",
    "    <li><strong>Introduction</strong></li>\n",
    "    <li><a href=\"./II-Pré-traitemnt du dataset.ipynb\">Pré-traitemnt du dataset</a></li>\n",
    "    <li><a href=\"./III-Clustering simple.ipynb\">Clustering simple</a></li>\n",
    "    <li><a href=\"./IV-NMF.ipynb\">NMF</a></li>\n",
    "    <li><a href=\"./V-Orthogonal NMF.ipynb\">Orthogonal NMF</a></li>\n",
    "    <li><a href=\"./VI-Symmetric NMF.ipynb\">Symmetric NMF</a></li>\n",
    "    <li><a href=\"./VII-Conclusion.ipynb\">Conclusion</a></li>\n",
    "</ol>"
   ]
  },
  {
   "cell_type": "markdown",
   "id": "8a26b1af",
   "metadata": {},
   "source": [
    "<hr>\n",
    "<h3><strong><font color='#353b38'>Informations techniques</font></strong></h3>"
   ]
  },
  {
   "cell_type": "markdown",
   "id": "076bc068",
   "metadata": {},
   "source": [
    "<h4><font color='#353b38'>Python</font></h4> 3.7"
   ]
  },
  {
   "cell_type": "markdown",
   "id": "91f82d43",
   "metadata": {},
   "source": [
    "<h4><font color='#353b38'>Librairies</font></h4>\n",
    "<ul>\n",
    "    <li> os </li>\n",
    "    <li> pickle </li>\n",
    "    <li> tqdm </li>\n",
    "    <li> scikit-learn </li>\n",
    "    <li> pandas </li>\n",
    "    <li> seaborn </li>\n",
    "    <li> matplotlib </li>\n",
    "    <li> statistics </li>\n",
    "    <li> numpy </li>\n",
    "    <li> tensorflow </li>\n",
    "    <li> keras </li>\n",
    "    <li> tensorboard </li>\n",
    "</ul>"
   ]
  },
  {
   "cell_type": "markdown",
   "id": "3a85b18c",
   "metadata": {},
   "source": [
    "<hr>\n",
    "<h4><strong><font color='#353b38'>Description du projet</font></strong></h4>"
   ]
  },
  {
   "cell_type": "markdown",
   "id": "d652c590",
   "metadata": {},
   "source": [
    "Ce projet a pour but d’appliquer la NMF au Text Mining."
   ]
  },
  {
   "cell_type": "markdown",
   "id": "86873ea2",
   "metadata": {},
   "source": [
    "<hr>\n",
    "<div style=\"display: flex;\">\n",
    "    <div style=\"margin: 10px; color: gray;\">précédent</div>\n",
    "    <div style=\"margin: 10px;\"><strong><a href=\"./II-Pré-traitemnt du dataset.ipynb\">suivant</a></strong></div>\n",
    "</div>"
   ]
  }
 ],
 "metadata": {
  "kernelspec": {
   "display_name": "Python 3 (ipykernel)",
   "language": "python",
   "name": "python3"
  },
  "language_info": {
   "codemirror_mode": {
    "name": "ipython",
    "version": 3
   },
   "file_extension": ".py",
   "mimetype": "text/x-python",
   "name": "python",
   "nbconvert_exporter": "python",
   "pygments_lexer": "ipython3",
   "version": "3.8.13"
  }
 },
 "nbformat": 4,
 "nbformat_minor": 5
}
